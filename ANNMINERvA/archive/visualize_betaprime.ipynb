{
 "cells": [
  {
   "cell_type": "code",
   "execution_count": 1,
   "metadata": {
    "collapsed": false
   },
   "outputs": [
    {
     "name": "stderr",
     "output_type": "stream",
     "text": [
      "/Users/perdue/anaconda/lib/python2.7/site-packages/matplotlib/font_manager.py:273: UserWarning: Matplotlib is building the font cache using fc-list. This may take a moment.\n",
      "  warnings.warn('Matplotlib is building the font cache using fc-list. This may take a moment.')\n"
     ]
    }
   ],
   "source": [
    "import numpy as np\n",
    "import matplotlib.pyplot as plt\n",
    "%matplotlib inline"
   ]
  },
  {
   "cell_type": "code",
   "execution_count": 3,
   "metadata": {
    "collapsed": false
   },
   "outputs": [],
   "source": [
    "with np.load('lminervatriamese_betaprime.npz') as f:\n",
    "    param_values = [f['arr_%d' % i] for i in range(len(f.files))]"
   ]
  },
  {
   "cell_type": "code",
   "execution_count": 4,
   "metadata": {
    "collapsed": false
   },
   "outputs": [
    {
     "name": "stdout",
     "output_type": "stream",
     "text": [
      "00, conv-x         , (32, 1, 3, 3)\n",
      "01, bias-x         , (32,)\n",
      "02, conv-x         , (32, 32, 3, 3)\n",
      "03, bias-x         , (32,)\n",
      "04, dense-x        , (16192, 128)\n",
      "05, bias-x         , (128,)\n",
      "06, conv-u         , (32, 1, 3, 3)\n",
      "07, bias-u         , (32,)\n",
      "08, conv-u         , (32, 32, 3, 3)\n",
      "09, bias-u         , (32,)\n",
      "10, dense-u        , (16192, 128)\n",
      "11, bias-u         , (128,)\n",
      "12, conv-v         , (32, 1, 3, 3)\n",
      "13, bias-v         , (32,)\n",
      "14, conv-v         , (32, 32, 3, 3)\n",
      "15, bias-v         , (32,)\n",
      "16, dense-v        , (16192, 128)\n",
      "17, bias-v         , (128,)\n",
      "18, across-dense1  , (384, 64)\n",
      "19, accros-bias1   , (64,)\n",
      "20, across-dense2  , (64, 11)\n",
      "21, accros-bais2   , (11,)\n"
     ]
    }
   ],
   "source": [
    "layer_names = {0:'conv-x', 1:'bias-x', 2:'conv-x', 3:'bias-x', 4:'dense-x', 5:'bias-x',\n",
    "               6:'conv-u', 7:'bias-u', 8:'conv-u', 9:'bias-u', 10:'dense-u', 11:'bias-u',\n",
    "               12:'conv-v', 13:'bias-v', 14:'conv-v', 15:'bias-v', 16:'dense-v', 17:'bias-v',\n",
    "               18:'across-dense1', 19:'accros-bias1', 20:'across-dense2', 21: 'accros-bais2'\n",
    "              }\n",
    "for i, p in enumerate(param_values):\n",
    "    print \"{:02d}, {:15s}, {}\".format(i, layer_names[i], np.shape(p))"
   ]
  },
  {
   "cell_type": "code",
   "execution_count": null,
   "metadata": {
    "collapsed": true
   },
   "outputs": [],
   "source": []
  }
 ],
 "metadata": {
  "kernelspec": {
   "display_name": "Python 2",
   "language": "python",
   "name": "python2"
  },
  "language_info": {
   "codemirror_mode": {
    "name": "ipython",
    "version": 2
   },
   "file_extension": ".py",
   "mimetype": "text/x-python",
   "name": "python",
   "nbconvert_exporter": "python",
   "pygments_lexer": "ipython2",
   "version": "2.7.11"
  }
 },
 "nbformat": 4,
 "nbformat_minor": 0
}
