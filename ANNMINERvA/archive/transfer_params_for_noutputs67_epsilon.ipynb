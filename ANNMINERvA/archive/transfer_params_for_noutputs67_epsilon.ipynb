{
 "cells": [
  {
   "cell_type": "code",
   "execution_count": 1,
   "metadata": {
    "collapsed": false
   },
   "outputs": [
    {
     "name": "stderr",
     "output_type": "stream",
     "text": [
      "/Users/perdue/anaconda/lib/python2.7/site-packages/matplotlib/font_manager.py:273: UserWarning: Matplotlib is building the font cache using fc-list. This may take a moment.\n",
      "  warnings.warn('Matplotlib is building the font cache using fc-list. This may take a moment.')\n"
     ]
    }
   ],
   "source": [
    "import numpy as np\n",
    "import matplotlib.pyplot as plt\n",
    "%matplotlib inline"
   ]
  },
  {
   "cell_type": "code",
   "execution_count": 4,
   "metadata": {
    "collapsed": false
   },
   "outputs": [
    {
     "data": {
      "text/plain": [
       "38.078448655795505"
      ]
     },
     "execution_count": 4,
     "metadata": {},
     "output_type": "execute_result"
    }
   ],
   "source": [
    "24 / (2269 / 60. / 60.)"
   ]
  },
  {
   "cell_type": "code",
   "execution_count": 5,
   "metadata": {
    "collapsed": true
   },
   "outputs": [],
   "source": [
    "with np.load('models/lminerva_betax1463749047.npz') as fx:\n",
    "    param_values_x = [fx['arr_%d' % i] for i in range(len(fx.files))]\n",
    "    \n",
    "with np.load('models/lminerva_betau1463838769.npz') as fu:\n",
    "    param_values_u = [fu['arr_%d' % i] for i in range(len(fu.files))]\n",
    "    \n",
    "with np.load('models/lminerva_betav1464008652.npz') as fv:\n",
    "    param_values_v = [fv['arr_%d' % i] for i in range(len(fv.files))]"
   ]
  },
  {
   "cell_type": "code",
   "execution_count": 6,
   "metadata": {
    "collapsed": true
   },
   "outputs": [],
   "source": [
    "with np.load('models/epsilon_z_initial_parameters.npz') as fr:\n",
    "    param_values_rand = [fr['arr_%d' % i] for i in range(len(fr.files))]"
   ]
  },
  {
   "cell_type": "code",
   "execution_count": 7,
   "metadata": {
    "collapsed": false
   },
   "outputs": [
    {
     "name": "stdout",
     "output_type": "stream",
     "text": [
      "14\n",
      "00, conv-x1        , (12, 1, 8, 3)\n",
      "01, bias-x1        , (12,)\n",
      "02, conv-x2        , (20, 12, 7, 3)\n",
      "03, bias-x2        , (20,)\n",
      "04, conv-x3        , (28, 20, 6, 3)\n",
      "05, bias-x3        , (28,)\n",
      "06, conv-x4        , (36, 28, 6, 3)\n",
      "07, bias-x4        , (36,)\n",
      "08, dense-x5       , (4536, 196)\n",
      "09, bias-x5        , (196,)\n",
      "10, dense-x6       , (196, 98)\n",
      "11, bias-x6        , (98,)\n",
      "12, dense-x7       , (98, 67)\n",
      "13, bias-x7        , (67,)\n"
     ]
    }
   ],
   "source": [
    "print len(param_values_x)\n",
    "layer_names_x = {0:'conv-x1', 1:'bias-x1', 2:'conv-x2', 3:'bias-x2', 4:'conv-x3', 5:'bias-x3',\n",
    "                 6:'conv-x4', 7:'bias-x4', 8:'dense-x5', 9:'bias-x5', 10:'dense-x6', 11:'bias-x6', \n",
    "                 12:'dense-x7', 13:'bias-x7'}\n",
    "for i, p in enumerate(param_values_x):\n",
    "    print \"{:02d}, {:15s}, {}\".format(i, layer_names_x[i], np.shape(p))"
   ]
  },
  {
   "cell_type": "code",
   "execution_count": 8,
   "metadata": {
    "collapsed": false
   },
   "outputs": [
    {
     "name": "stdout",
     "output_type": "stream",
     "text": [
      "14\n",
      "00, conv-u1        , (12, 1, 8, 5)\n",
      "01, bias-u1        , (12,)\n",
      "02, conv-u2        , (20, 12, 7, 3)\n",
      "03, bias-u2        , (20,)\n",
      "04, conv-u3        , (28, 20, 6, 3)\n",
      "05, bias-u3        , (28,)\n",
      "06, conv-u4        , (36, 28, 6, 3)\n",
      "07, bias-u4        , (36,)\n",
      "08, dense-u5       , (1620, 196)\n",
      "09, bias-u5        , (196,)\n",
      "10, dense-u6       , (196, 98)\n",
      "11, bias-u6        , (98,)\n",
      "12, dense-u7       , (98, 67)\n",
      "13, bias-u7        , (67,)\n"
     ]
    }
   ],
   "source": [
    "print len(param_values_u)\n",
    "layer_names_u = {0:'conv-u1', 1:'bias-u1', 2:'conv-u2', 3:'bias-u2', 4:'conv-u3', 5:'bias-u3',\n",
    "                 6:'conv-u4', 7:'bias-u4', 8:'dense-u5', 9:'bias-u5', 10:'dense-u6', 11:'bias-u6', \n",
    "                 12:'dense-u7', 13:'bias-u7'}\n",
    "for i, p in enumerate(param_values_u):\n",
    "    print \"{:02d}, {:15s}, {}\".format(i, layer_names_u[i], np.shape(p))"
   ]
  },
  {
   "cell_type": "code",
   "execution_count": 9,
   "metadata": {
    "collapsed": false
   },
   "outputs": [
    {
     "name": "stdout",
     "output_type": "stream",
     "text": [
      "14\n",
      "00, conv-v1        , (12, 1, 8, 5)\n",
      "01, bias-v1        , (12,)\n",
      "02, conv-v2        , (20, 12, 7, 3)\n",
      "03, bias-v2        , (20,)\n",
      "04, conv-v3        , (28, 20, 6, 3)\n",
      "05, bias-v3        , (28,)\n",
      "06, conv-v4        , (36, 28, 6, 3)\n",
      "07, bias-v4        , (36,)\n",
      "08, dense-v5       , (1620, 196)\n",
      "09, bias-v5        , (196,)\n",
      "10, dense-v6       , (196, 98)\n",
      "11, bias-v6        , (98,)\n",
      "12, dense-v7       , (98, 67)\n",
      "13, bias-v7        , (67,)\n"
     ]
    }
   ],
   "source": [
    "print len(param_values_v)\n",
    "layer_names_v = {0:'conv-v1', 1:'bias-v1', 2:'conv-v2', 3:'bias-v2', 4:'conv-v3', 5:'bias-v3',\n",
    "                 6:'conv-v4', 7:'bias-v4', 8:'dense-v5', 9:'bias-v5', 10:'dense-v6', 11:'bias-v6', \n",
    "                 12:'dense-v7', 13:'bias-v7'}\n",
    "for i, p in enumerate(param_values_v):\n",
    "    print \"{:02d}, {:15s}, {}\".format(i, layer_names_v[i], np.shape(p))"
   ]
  },
  {
   "cell_type": "code",
   "execution_count": 10,
   "metadata": {
    "collapsed": false
   },
   "outputs": [
    {
     "name": "stdout",
     "output_type": "stream",
     "text": [
      "34\n",
      "00, conv-x1        , (12, 1, 8, 3)\n",
      "01, bias-x1        , (12,)\n",
      "02, conv-x2        , (20, 12, 7, 3)\n",
      "03, bias-x2        , (20,)\n",
      "04, conv-x3        , (28, 20, 6, 3)\n",
      "05, bias-x3        , (28,)\n",
      "06, conv-x4        , (36, 28, 6, 3)\n",
      "07, bias-x4        , (36,)\n",
      "08, dense-x5       , (4536, 196)\n",
      "09, bias-x5        , (196,)\n",
      "10, conv-u1        , (12, 1, 8, 5)\n",
      "11, bias-u1        , (12,)\n",
      "12, conv-u2        , (20, 12, 7, 3)\n",
      "13, bias-u2        , (20,)\n",
      "14, conv-u3        , (28, 20, 6, 3)\n",
      "15, bias-u3        , (28,)\n",
      "16, conv-u4        , (36, 28, 6, 3)\n",
      "17, bias-u4        , (36,)\n",
      "18, dense-u5       , (1620, 196)\n",
      "19, bias-u5        , (196,)\n",
      "20, conv-v1        , (12, 1, 8, 5)\n",
      "21, bias-v1        , (12,)\n",
      "22, conv-v2        , (20, 12, 7, 3)\n",
      "23, bias-v2        , (20,)\n",
      "24, conv-v3        , (28, 20, 6, 3)\n",
      "25, bias-v3        , (28,)\n",
      "26, conv-v4        , (36, 28, 6, 3)\n",
      "27, bias-v4        , (36,)\n",
      "28, dense-v5       , (1620, 196)\n",
      "29, bias-v5        , (196,)\n",
      "30, dense-across6  , (588, 98)\n",
      "31, bias-across6   , (98,)\n",
      "32, dense-across7  , (98, 67)\n",
      "33, bias-across7   , (67,)\n"
     ]
    }
   ],
   "source": [
    "print len(param_values_rand)\n",
    "layer_names_rand = {\n",
    "    0:'conv-x1', 1:'bias-x1', 2:'conv-x2', 3:'bias-x2', 4:'conv-x3', 5:'bias-x3', 6:'conv-x4', 7:'bias-x4', \n",
    "    8:'dense-x5', 9:'bias-x5', \n",
    "    10:'conv-u1', 11:'bias-u1', 12:'conv-u2', 13:'bias-u2', 14:'conv-u3', 15:'bias-u3', 16:'conv-u4', 17:'bias-u4', \n",
    "    18:'dense-u5', 19:'bias-u5', \n",
    "    20:'conv-v1', 21:'bias-v1', 22:'conv-v2', 23:'bias-v2', 24:'conv-v3', 25:'bias-v3', 26:'conv-v4', 27:'bias-v4', \n",
    "    28:'dense-v5', 29:'bias-v5',\n",
    "    30:'dense-across6', 31:'bias-across6', 32:'dense-across7', 33:'bias-across7'\n",
    "}\n",
    "for i, p in enumerate(param_values_rand):\n",
    "    print \"{:02d}, {:15s}, {}\".format(i, layer_names_rand[i], np.shape(p))"
   ]
  },
  {
   "cell_type": "code",
   "execution_count": 11,
   "metadata": {
    "collapsed": true
   },
   "outputs": [],
   "source": [
    "# copy single view training into the `rand` array\n",
    "# bring convolutions and first dense layer\n",
    "for i in range(10):\n",
    "    param_values_rand[i] = param_values_x[i]\n",
    "\n",
    "for i in range(10):\n",
    "    j = i + 10\n",
    "    param_values_rand[j] = param_values_u[i]\n",
    "    \n",
    "for i in range(10):\n",
    "    j = i + 20\n",
    "    param_values_rand[j] = param_values_v[i]"
   ]
  },
  {
   "cell_type": "code",
   "execution_count": 12,
   "metadata": {
    "collapsed": false
   },
   "outputs": [
    {
     "name": "stdout",
     "output_type": "stream",
     "text": [
      "00, conv-x1        , (12, 1, 8, 3)\n",
      "01, bias-x1        , (12,)\n",
      "02, conv-x2        , (20, 12, 7, 3)\n",
      "03, bias-x2        , (20,)\n",
      "04, conv-x3        , (28, 20, 6, 3)\n",
      "05, bias-x3        , (28,)\n",
      "06, conv-x4        , (36, 28, 6, 3)\n",
      "07, bias-x4        , (36,)\n",
      "08, dense-x5       , (4536, 196)\n",
      "09, bias-x5        , (196,)\n",
      "10, conv-u1        , (12, 1, 8, 5)\n",
      "11, bias-u1        , (12,)\n",
      "12, conv-u2        , (20, 12, 7, 3)\n",
      "13, bias-u2        , (20,)\n",
      "14, conv-u3        , (28, 20, 6, 3)\n",
      "15, bias-u3        , (28,)\n",
      "16, conv-u4        , (36, 28, 6, 3)\n",
      "17, bias-u4        , (36,)\n",
      "18, dense-u5       , (1620, 196)\n",
      "19, bias-u5        , (196,)\n",
      "20, conv-v1        , (12, 1, 8, 5)\n",
      "21, bias-v1        , (12,)\n",
      "22, conv-v2        , (20, 12, 7, 3)\n",
      "23, bias-v2        , (20,)\n",
      "24, conv-v3        , (28, 20, 6, 3)\n",
      "25, bias-v3        , (28,)\n",
      "26, conv-v4        , (36, 28, 6, 3)\n",
      "27, bias-v4        , (36,)\n",
      "28, dense-v5       , (1620, 196)\n",
      "29, bias-v5        , (196,)\n",
      "30, dense-across6  , (588, 98)\n",
      "31, bias-across6   , (98,)\n",
      "32, dense-across7  , (98, 67)\n",
      "33, bias-across7   , (67,)\n"
     ]
    }
   ],
   "source": [
    "for i, p in enumerate(param_values_rand):\n",
    "    print \"{:02d}, {:15s}, {}\".format(i, layer_names_rand[i], np.shape(p))"
   ]
  },
  {
   "cell_type": "code",
   "execution_count": 13,
   "metadata": {
    "collapsed": true
   },
   "outputs": [],
   "source": [
    "np.savez('./transfer_to_epsilon_noutputs67_test3.npz', *param_values_rand)"
   ]
  },
  {
   "cell_type": "code",
   "execution_count": null,
   "metadata": {
    "collapsed": true
   },
   "outputs": [],
   "source": []
  }
 ],
 "metadata": {
  "kernelspec": {
   "display_name": "Python 2",
   "language": "python",
   "name": "python2"
  },
  "language_info": {
   "codemirror_mode": {
    "name": "ipython",
    "version": 2
   },
   "file_extension": ".py",
   "mimetype": "text/x-python",
   "name": "python",
   "nbconvert_exporter": "python",
   "pygments_lexer": "ipython2",
   "version": "2.7.11"
  }
 },
 "nbformat": 4,
 "nbformat_minor": 0
}
