{
 "cells": [
  {
   "cell_type": "code",
   "execution_count": 9,
   "metadata": {
    "collapsed": true
   },
   "outputs": [],
   "source": [
    "import numpy as np\n",
    "import h5py\n",
    "from six.moves import range\n",
    "import matplotlib.pyplot as plt\n",
    "%matplotlib inline"
   ]
  },
  {
   "cell_type": "code",
   "execution_count": 10,
   "metadata": {},
   "outputs": [
    {
     "name": "stdout",
     "output_type": "stream",
     "text": [
      "n events = 433255\n",
      "Q2\n",
      "W\n",
      "current\n",
      "eventids\n",
      "int_type\n",
      "lepE\n",
      "nuE\n",
      "planecodes_actual\n",
      "planecodes_pred\n",
      "targZ\n",
      "xbj\n",
      "ybj\n"
     ]
    }
   ],
   "source": [
    "f = h5py.File('me1Amc_zzpredpluskine.hdf5', 'r')\n",
    "print('n events = {}'.format(len(f['eventids'])))\n",
    "for name in f:\n",
    "    print(name)"
   ]
  },
  {
   "cell_type": "code",
   "execution_count": 12,
   "metadata": {},
   "outputs": [
    {
     "data": {
      "image/png": "[encoded data removed]",
      "text/plain": [
       "<matplotlib.figure.Figure at 0x113c14850>"
      ]
     },
     "metadata": {},
     "output_type": "display_data"
    }
   ],
   "source": [
    "n, bins, patches = plt.hist(f['nuE'], bins=50)"
   ]
  },
  {
   "cell_type": "code",
   "execution_count": 13,
   "metadata": {
    "collapsed": true
   },
   "outputs": [],
   "source": [
    "arr_all = np.zeros(shape=(67, 67))\n",
    "arr_lowQ2 = np.zeros(shape=(67, 67))\n",
    "arr_highQ2 = np.zeros(shape=(67, 67))\n",
    "arr_lowW = np.zeros(shape=(67, 67))\n",
    "arr_highW = np.zeros(shape=(67, 67))\n",
    "arr_lowE = np.zeros(shape=(67, 67))\n",
    "arr_highE = np.zeros(shape=(67, 67))"
   ]
  },
  {
   "cell_type": "code",
   "execution_count": 14,
   "metadata": {},
   "outputs": [
    {
     "name": "stdout",
     "output_type": "stream",
     "text": [
      "n events = 433255\n",
      "n low Q2 = 299384.0 (0.691011067385)\n",
      "n high Q2 = 133871.0 (0.308988932615)\n",
      "n low W = 147739.0 (0.340997795755)\n",
      "n high W = 285516.0 (0.659002204245)\n",
      "n low E = 236148.0 (0.545055452332)\n",
      "n high E = 197107.0 (0.454944547668)\n"
     ]
    }
   ],
   "source": [
    "n_events = f['eventids'].shape[0]\n",
    "# n_events = 100\n",
    "print('n events = {}'.format(n_events))\n",
    "\n",
    "n_lowQ2 = 0.\n",
    "n_highQ2 = 0.\n",
    "n_lowW = 0.\n",
    "n_highW = 0.\n",
    "n_lowE = 0.\n",
    "n_highE = 0.\n",
    "\n",
    "for i in range(n_events):\n",
    "    pred = f['planecodes_pred'][i]\n",
    "    actl = f['planecodes_actual'][i]\n",
    "#    if pred == 66 and actl == 66:\n",
    "#        continue\n",
    "    arr_all[actl, pred] += 1.0\n",
    "    if f['Q2'][i] < 1.0e6:\n",
    "        arr_lowQ2[actl, pred] += 1.0\n",
    "        n_lowQ2 += 1.0\n",
    "    else:\n",
    "        arr_highQ2[actl, pred] += 1.0\n",
    "        n_highQ2 += 1.0\n",
    "    if f['W'][i] < 1.3e3:\n",
    "        arr_lowW[actl, pred] += 1.0\n",
    "        n_lowW += 1.0\n",
    "    else:\n",
    "        arr_highW[actl, pred] += 1.0\n",
    "        n_highW += 1.0\n",
    "    if f['nuE'][i] < 7.0e3:\n",
    "        arr_lowE[actl, pred] += 1.0\n",
    "        n_lowE += 1.0\n",
    "    else:\n",
    "        arr_highE[actl, pred] += 1.0\n",
    "        n_highE += 1.0\n",
    "\n",
    "\n",
    "        \n",
    "print('n low Q2 = {} ({})'.format(n_lowQ2, n_lowQ2 / n_events))\n",
    "print('n high Q2 = {} ({})'.format(n_highQ2, n_highQ2 / n_events))\n",
    "print('n low W = {} ({})'.format(n_lowW, n_lowW / n_events))\n",
    "print('n high W = {} ({})'.format(n_highW, n_highW / n_events))\n",
    "print('n low E = {} ({})'.format(n_lowE, n_lowE / n_events))\n",
    "print('n high E = {} ({})'.format(n_highE, n_highE / n_events))\n",
    "\n",
    "\n",
    "np.save('arr_all.npy', arr_all)\n",
    "np.save('arr_lowQ2.npy', arr_lowQ2)\n",
    "np.save('arr_highQ2.npy', arr_highQ2)\n",
    "np.save('arr_lowW.npy', arr_lowW)\n",
    "np.save('arr_highW.npy', arr_highW)\n",
    "np.save('arr_lowE.npy', arr_lowE)\n",
    "np.save('arr_highE.npy', arr_highE)"
   ]
  },
  {
   "cell_type": "code",
   "execution_count": 15,
   "metadata": {
    "collapsed": true
   },
   "outputs": [],
   "source": [
    "def miss_fracs(arr):\n",
    "    arr_total = np.sum(arr)\n",
    "    true_downstrm_miss = np.sum(arr[66,0:65])   # real 66 reco'd elsewhere\n",
    "    true_downstrm_miss_frac = true_downstrm_miss / arr_total\n",
    "    pred_downstrm_miss = np.sum(arr[0:65,66])   # real target region reco'd downstream\n",
    "    pred_downstrm_miss_frac = pred_downstrm_miss / arr_total\n",
    "    print('true down miss = {}, pred down miss = {}'.format(\n",
    "        true_downstrm_miss_frac, pred_downstrm_miss_frac\n",
    "    ))"
   ]
  },
  {
   "cell_type": "code",
   "execution_count": 17,
   "metadata": {},
   "outputs": [
    {
     "name": "stdout",
     "output_type": "stream",
     "text": [
      "all\n",
      "true down miss = 0.0012002169623, pred down miss = 0.0166853238855\n",
      "lowQ2\n",
      "true down miss = 0.00124255137215, pred down miss = 0.0151310691286\n",
      "highQ2\n",
      "true down miss = 0.00110554190228, pred down miss = 0.0201611999612\n",
      "lowW\n",
      "true down miss = 0.00104237878962, pred down miss = 0.0155138453624\n",
      "highW\n",
      "true down miss = 0.0012818896314, pred down miss = 0.0172915003012\n",
      "lowE\n",
      "true down miss = 0.0012746243881, pred down miss = 0.0180395345292\n",
      "highE\n",
      "true down miss = 0.00111107165144, pred down miss = 0.0150628846261\n"
     ]
    }
   ],
   "source": [
    "ll = list(zip(['all', 'lowQ2', 'highQ2', 'lowW', 'highW', 'lowE', 'highE'],\n",
    "              [arr_all, arr_lowQ2, arr_highQ2, arr_lowW, arr_highW, arr_lowE, arr_highE]))\n",
    "for a in ll:\n",
    "    print(a[0])\n",
    "    miss_fracs(a[1])"
   ]
  },
  {
   "cell_type": "code",
   "execution_count": null,
   "metadata": {
    "collapsed": true
   },
   "outputs": [],
   "source": []
  }
 ],
 "metadata": {
  "kernelspec": {
   "display_name": "Python 2",
   "language": "python",
   "name": "python2"
  },
  "language_info": {
   "codemirror_mode": {
    "name": "ipython",
    "version": 2
   },
   "file_extension": ".py",
   "mimetype": "text/x-python",
   "name": "python",
   "nbconvert_exporter": "python",
   "pygments_lexer": "ipython2",
   "version": "2.7.13"
  }
 },
 "nbformat": 4,
 "nbformat_minor": 2
}
