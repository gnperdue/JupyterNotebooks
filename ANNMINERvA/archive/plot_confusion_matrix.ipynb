{
 "cells": [
  {
   "cell_type": "code",
   "execution_count": 1,
   "metadata": {
    "collapsed": false
   },
   "outputs": [
    {
     "name": "stderr",
     "output_type": "stream",
     "text": [
      "/Users/perdue/anaconda/lib/python2.7/site-packages/matplotlib/font_manager.py:273: UserWarning: Matplotlib is building the font cache using fc-list. This may take a moment.\n",
      "  warnings.warn('Matplotlib is building the font cache using fc-list. This may take a moment.')\n"
     ]
    }
   ],
   "source": [
    "import numpy as np\n",
    "import matplotlib.pyplot as plt\n",
    "%matplotlib inline"
   ]
  },
  {
   "cell_type": "code",
   "execution_count": 2,
   "metadata": {
    "collapsed": true
   },
   "outputs": [],
   "source": [
    "import re"
   ]
  },
  {
   "cell_type": "code",
   "execution_count": 3,
   "metadata": {
    "collapsed": true
   },
   "outputs": [],
   "source": [
    "from __future__ import print_function"
   ]
  },
  {
   "cell_type": "code",
   "execution_count": 4,
   "metadata": {
    "collapsed": true
   },
   "outputs": [],
   "source": [
    "from matplotlib import rc\n",
    "rc('font',**{'family':'sans-serif','sans-serif':['Helvetica']})\n",
    "## for Palatino and other serif fonts use:\n",
    "#rc('font',**{'family':'serif','serif':['Palatino']})\n",
    "rc('text', usetex=True)"
   ]
  },
  {
   "cell_type": "code",
   "execution_count": 5,
   "metadata": {
    "collapsed": true
   },
   "outputs": [],
   "source": [
    "plt.rc('text', usetex=True)\n",
    "plt.rc('font', family='serif')"
   ]
  },
  {
   "cell_type": "code",
   "execution_count": 6,
   "metadata": {
    "collapsed": true
   },
   "outputs": [],
   "source": [
    "def reorder_matrix(ndarr):\n",
    "    if ndarr.shape != (11, 11):\n",
    "        return np.array([0], dtype=np.float)\n",
    "    mid_arr = np.zeros((11, 11), dtype=np.float)\n",
    "    new_arr = np.zeros((11, 11), dtype=np.float)\n",
    "    mid_arr[0, :] = ndarr[0, :]\n",
    "    mid_arr[1, :] = ndarr[1, :]\n",
    "    mid_arr[2, :] = ndarr[6, :]\n",
    "    mid_arr[3, :] = ndarr[2, :]\n",
    "    mid_arr[4, :] = ndarr[7, :]\n",
    "    mid_arr[5, :] = ndarr[3, :]\n",
    "    mid_arr[6, :] = ndarr[8, :]\n",
    "    mid_arr[7, :] = ndarr[4, :]\n",
    "    mid_arr[8, :] = ndarr[9, :]\n",
    "    mid_arr[9, :] = ndarr[5, :]\n",
    "    mid_arr[10, :] = ndarr[10, :]\n",
    "    new_arr[:, 0] = mid_arr[:, 0]\n",
    "    new_arr[:, 1] = mid_arr[:, 1]\n",
    "    new_arr[:, 2] = mid_arr[:, 6]\n",
    "    new_arr[:, 3] = mid_arr[:, 2]\n",
    "    new_arr[:, 4] = mid_arr[:, 7]\n",
    "    new_arr[:, 5] = mid_arr[:, 3]\n",
    "    new_arr[:, 6] = mid_arr[:, 8]\n",
    "    new_arr[:, 7] = mid_arr[:, 4]\n",
    "    new_arr[:, 8] = mid_arr[:, 9]\n",
    "    new_arr[:, 9] = mid_arr[:, 5]\n",
    "    new_arr[:, 10] = mid_arr[:, 10]\n",
    "    return new_arr"
   ]
  },
  {
   "cell_type": "code",
   "execution_count": 7,
   "metadata": {
    "collapsed": true
   },
   "outputs": [],
   "source": [
    "def make_plots_and_reports(arr, plot_type, write_file=True):\n",
    "    \"\"\"\n",
    "    plots and text for confusion matrices\n",
    "    \"\"\"\n",
    "    fig = plt.figure(figsize=(22,12))\n",
    "    gs = plt.GridSpec(1, 3)\n",
    "\n",
    "    # purity calc\n",
    "    pur_arr = np.zeros_like(arr)\n",
    "    pur_arr_err = np.zeros_like(arr)\n",
    "    for i in range(np.shape(arr)[0]):\n",
    "        npass = arr[i, :]\n",
    "        ntotal = arr.sum(axis=1)[i]\n",
    "        epsilon = npass / ntotal\n",
    "        pur_arr[i, :] = epsilon\n",
    "        pur_arr_err[i, :] = np.sqrt(epsilon * (1 - epsilon) / ntotal)\n",
    "    \n",
    "    # effic. calc\n",
    "    eff_arr = np.zeros_like(arr)\n",
    "    eff_arr_err = np.zeros_like(arr)\n",
    "    for i in range(np.shape(arr)[0]):\n",
    "        npass = arr[:, i]\n",
    "        ntotal = arr.sum(axis=0)[i]\n",
    "        epsilon = npass / ntotal\n",
    "        eff_arr[:, i] = epsilon\n",
    "        eff_arr_err[i, :] = np.sqrt(epsilon * (1 - epsilon) / ntotal)\n",
    "    \n",
    "    plot_title_string = re.sub(r'_', r' ', plot_type)\n",
    "    plot_title_string = re.sub(r'\\+', r', ', plot_title_string)\n",
    "    \n",
    "    # raw event counts plots\n",
    "    ax = plt.subplot(gs[0])\n",
    "    im = ax.imshow(np.log10(arr), cmap=plt.get_cmap('jet'), interpolation='nearest')\n",
    "    cbar = plt.colorbar(im, fraction=0.04)\n",
    "    plt.title(r'Log$_{10}$' + ' of raw event counts\\n' + plot_title_string)\n",
    "    plt.xlabel(r'True z-segment')\n",
    "    plt.ylabel(r'Reconstructed z-segment')\n",
    "        \n",
    "    # purity plots & reports\n",
    "    if write_file:\n",
    "        output_txt = 'normalized_by_row_confusion_matrix_%s.txt' % plot_type\n",
    "        with open(output_txt, 'w') as f:\n",
    "            for i in range(pur_arr.shape[0]):\n",
    "                print('segment {:2d}: purity = {}'.format(i, pur_arr[i, i]))\n",
    "                print('segment {:2d}: purity = {}'.format(i, pur_arr[i, i]), file=f)\n",
    "    ax = plt.subplot(gs[1])\n",
    "    im = ax.imshow(pur_arr, cmap=plt.get_cmap('jet'), interpolation='nearest')\n",
    "    cbar = plt.colorbar(im, fraction=0.04)\n",
    "    plt.title('Purity (row normalized)\\n{}'.format(plot_title_string))\n",
    "    plt.xlabel('True z-segment')\n",
    "    plt.ylabel('Reconstructed z-segment')\n",
    "\n",
    "    # efficiency plots & reports\n",
    "    if write_file:\n",
    "        output_txt = 'normalized_by_col_confusion_matrix_%s.txt' % plot_type\n",
    "        with open(output_txt, 'w') as f:\n",
    "            for i in range(eff_arr.shape[0]):\n",
    "                print('segment {:2d}: efficiency = {}'.format(i, eff_arr[i, i]))\n",
    "                print('segment {:2d}: efficiency = {}'.format(i, eff_arr[i, i]), file=f)\n",
    "    ax = plt.subplot(gs[2])\n",
    "    im = ax.imshow(eff_arr, cmap=plt.get_cmap('jet'), interpolation='nearest')\n",
    "    cbar = plt.colorbar(im, fraction=0.04)\n",
    "    plt.title('Efficiency (column normalized)\\n{}'.format(plot_title_string))\n",
    "    plt.xlabel('True z-segment')\n",
    "    plt.ylabel('Reconstructed z-segment')\n",
    "\n",
    "    fig.savefig('confusion_matrices_{}.pdf'.format(plot_type), bbox_inches='tight')\n",
    "    \n",
    "    # all log...\n",
    "    fig = plt.figure(figsize=(22,12))\n",
    "    gs = plt.GridSpec(1, 3)\n",
    "    \n",
    "    # raw event counts plots\n",
    "    ax = plt.subplot(gs[0])\n",
    "    im = ax.imshow(np.log10(arr), cmap=plt.get_cmap('jet'), interpolation='nearest')\n",
    "    cbar = plt.colorbar(im, fraction=0.04)\n",
    "    plt.title(r'Log$_{10}$' + ' of raw event counts\\n' + plot_title_string)\n",
    "    plt.xlabel(r'True z-segment')\n",
    "    plt.ylabel(r'Reconstructed z-segment')\n",
    "        \n",
    "    # purity plots\n",
    "    ax = plt.subplot(gs[1])\n",
    "    im = ax.imshow(np.log10(pur_arr * 100.0), cmap=plt.get_cmap('jet'), interpolation='nearest')\n",
    "    cbar = plt.colorbar(im, fraction=0.04)\n",
    "    plt.title(r'Log$_{10}$' + ' Purity (row normalized)\\n{}'.format(plot_title_string))\n",
    "    plt.xlabel(r'True z-segment')\n",
    "    plt.ylabel(r'Reconstructed z-segment')\n",
    "\n",
    "    # efficiency plots\n",
    "    ax = plt.subplot(gs[2])\n",
    "    im = ax.imshow(np.log10(eff_arr * 100.0), cmap=plt.get_cmap('jet'), interpolation='nearest')\n",
    "    cbar = plt.colorbar(im, fraction=0.04)\n",
    "    plt.title(r'Log$_{10}$' + ' Efficiency (column normalized)\\n{}'.format(plot_title_string))\n",
    "    plt.xlabel(r'True z-segment')\n",
    "    plt.ylabel(r'Reconstructed z-segment')\n",
    "\n",
    "    fig.savefig('confusion_matrices_{}_alllog.pdf'.format(plot_type), bbox_inches='tight')\n",
    "    \n",
    "    return pur_arr, pur_arr_err, eff_arr, eff_arr_err"
   ]
  },
  {
   "cell_type": "code",
   "execution_count": 8,
   "metadata": {
    "collapsed": false
   },
   "outputs": [
    {
     "name": "stdout",
     "output_type": "stream",
     "text": [
      "(11, 11)\n",
      "segment  0: purity = 0.75\n",
      "segment  1: purity = 0.977272727273\n",
      "segment  2: purity = 0.904761904762\n",
      "segment  3: purity = 0.969696969697\n",
      "segment  4: purity = 0.833333333333\n",
      "segment  5: purity = 0.945945945946\n",
      "segment  6: purity = 0.903846153846\n",
      "segment  7: purity = 0.928571428571\n",
      "segment  8: purity = 0.0\n",
      "segment  9: purity = 0.947368421053\n",
      "segment 10: purity = 0.997218358832\n",
      "segment  0: efficiency = 0.857142857143"
     ]
    },
    {
     "name": "stderr",
     "output_type": "stream",
     "text": [
      "/Users/perdue/anaconda/lib/python2.7/site-packages/ipykernel/__main__.py:24: RuntimeWarning: invalid value encountered in divide\n",
      "/Users/perdue/anaconda/lib/python2.7/site-packages/ipykernel/__main__.py:33: RuntimeWarning: divide by zero encountered in log10\n",
      "/Users/perdue/anaconda/lib/python2.7/site-packages/ipykernel/__main__.py:75: RuntimeWarning: divide by zero encountered in log10\n",
      "/Users/perdue/anaconda/lib/python2.7/site-packages/ipykernel/__main__.py:83: RuntimeWarning: divide by zero encountered in log10\n",
      "/Users/perdue/anaconda/lib/python2.7/site-packages/ipykernel/__main__.py:91: RuntimeWarning: divide by zero encountered in log10\n"
     ]
    },
    {
     "name": "stdout",
     "output_type": "stream",
     "text": [
      "\n",
      "segment  1: efficiency = 0.934782608696\n",
      "segment  2: efficiency = 0.95\n",
      "segment  3: efficiency = 0.888888888889\n",
      "segment  4: efficiency = 0.9375\n",
      "segment  5: efficiency = 0.945945945946\n",
      "segment  6: efficiency = 0.94\n",
      "segment  7: efficiency = 0.896551724138\n",
      "segment  8: efficiency = nan\n",
      "segment  9: efficiency = 0.923076923077\n",
      "segment 10: efficiency = 0.995833333333\n"
     ]
    },
    {
     "data": {
      "image/png": "[encoded data removed]",
      "text/plain": [
       "<matplotlib.figure.Figure at 0x10e8bfe10>"
      ]
     },
     "metadata": {},
     "output_type": "display_data"
    },
    {
     "data": {
      "image/png": "[encoded data removed]",
      "text/plain": [
       "<matplotlib.figure.Figure at 0x112782250>"
      ]
     },
     "metadata": {},
     "output_type": "display_data"
    }
   ],
   "source": [
    "arr = np.load('perfmat11.npy')\n",
    "#plot_type = 'ME_MC+energy_and_time_lattice+35_epochs'\n",
    "plot_type = 'ME_MC+energy_and_time_lattice+test'\n",
    "\n",
    "\n",
    "print(arr.shape)\n",
    "if arr.shape[0] == 11:\n",
    "    arr = reorder_matrix(arr)\n",
    "\n",
    "pur_arr, pur_arr_err, eff_arr, eff_arr_err = make_plots_and_reports(arr, plot_type)"
   ]
  },
  {
   "cell_type": "code",
   "execution_count": null,
   "metadata": {
    "collapsed": true
   },
   "outputs": [],
   "source": []
  }
 ],
 "metadata": {
  "kernelspec": {
   "display_name": "Python 2",
   "language": "python",
   "name": "python2"
  },
  "language_info": {
   "codemirror_mode": {
    "name": "ipython",
    "version": 2
   },
   "file_extension": ".py",
   "mimetype": "text/x-python",
   "name": "python",
   "nbconvert_exporter": "python",
   "pygments_lexer": "ipython2",
   "version": "2.7.11"
  }
 },
 "nbformat": 4,
 "nbformat_minor": 0
}
