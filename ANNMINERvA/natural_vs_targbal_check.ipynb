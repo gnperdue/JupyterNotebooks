{
 "cells": [
  {
   "cell_type": "code",
   "execution_count": 1,
   "metadata": {
    "collapsed": true
   },
   "outputs": [],
   "source": [
    "from __future__ import print_function\n",
    "import numpy as np\n",
    "import pandas as pd\n",
    "import matplotlib.pyplot as plt\n",
    "import re\n",
    "import h5py\n",
    "from six.moves import range\n",
    "\n",
    "from matplotlib import rc\n",
    "rc('font',**{'family':'sans-serif','sans-serif':['Helvetica']})\n",
    "## for Palatino and other serif fonts use:\n",
    "#rc('font',**{'family':'serif','serif':['Palatino']})\n",
    "rc('text', usetex=True)\n",
    "plt.rc('text', usetex=True)\n",
    "plt.rc('font', family='serif')\n",
    "%matplotlib inline\n",
    "\n",
    "import sys\n",
    "sys.path.append('/Users/perdue/Documents/MINERvA/AI/ANNMINERvA/')\n",
    "\n",
    "from evtid_utils import decode_eventid\n",
    "from mnvtf.reader_sqlite import MnvCategoricalSQLiteReader\n",
    "from mnvtf.reader_text import MnvCategoricalTextReader\n",
    "\n",
    "from mnvdlplot.conf_mat_pl import make_conf_mat_plots_rowcolnormonly\n",
    "from mnvdlplot.conf_mat_pl import make_conf_mat_plots_raw"
   ]
  },
  {
   "cell_type": "code",
   "execution_count": 18,
   "metadata": {
    "collapsed": true
   },
   "outputs": [],
   "source": [
    "from mnvtf.utils import encode_eventid"
   ]
  },
  {
   "cell_type": "code",
   "execution_count": 2,
   "metadata": {
    "collapsed": true
   },
   "outputs": [],
   "source": [
    "PLAYLIST = 'me1Amc'\n",
    "PROCESSING = '201801'"
   ]
  },
  {
   "cell_type": "code",
   "execution_count": 3,
   "metadata": {
    "collapsed": true
   },
   "outputs": [],
   "source": [
    "h5path = '/Users/perdue/Documents/MINERvA/AI/hdf5/{}/'.format(PROCESSING)\n",
    "h5name = h5path + 'hadmultkineimgs_127x94_{}.hdf5'.format(PLAYLIST)\n",
    "h5file = h5py.File(h5name, 'r')"
   ]
  },
  {
   "cell_type": "code",
   "execution_count": 4,
   "metadata": {
    "collapsed": true
   },
   "outputs": [],
   "source": [
    "dbpath = '/Users/perdue/Documents/MINERvA/AI/prediction_dbs/tensorflow/{}/'.format(PROCESSING)\n",
    "dbname_natural = dbpath + 'mnv_st_epsilon_predictionsME1AMCNX_model_20180223_def_chngdpad_planecodes_nclass173_trainME1EMC_validME1EMC_testME1EMC_optADAM_batchsz1024_nodoBatchNorm_tev.txt.gz'\n",
    "dbname_missing = dbpath + 'mnv_st_epsilon_predictionsME1AMC_MISSINGFILESNX_model_20180223_def_chngdpad_planecodes_nclass173_trainME1EMC_validME1EMC_testME1EMC_optADAM_batchsz1024_nodoBatchNorm_tev.txt.gz'\n",
    "dbname_targbal = dbpath + 'mnv_st_epsilon_predictionsME1AMCNX_model_20180226_def_chngdpad_planecodes_nclass173_trainME1EMC_TARGETS_BAL_validME1EMC_TARGETS_BAL_testME1EMC_TARGETS_BAL_optADAM_batchsz1024_nodoBatchNorm_tev.txt.gz'"
   ]
  },
  {
   "cell_type": "code",
   "execution_count": 5,
   "metadata": {
    "collapsed": true
   },
   "outputs": [],
   "source": [
    "n_classes = 173\n",
    "reader_natural = MnvCategoricalTextReader(dbname_natural)\n",
    "reader_targbal = MnvCategoricalTextReader(dbname_targbal)"
   ]
  },
  {
   "cell_type": "code",
   "execution_count": 6,
   "metadata": {
    "collapsed": true
   },
   "outputs": [],
   "source": [
    "mcgen_natural = reader_natural.read_data_generator()\n",
    "mcgen_targbal = reader_targbal.read_data_generator()"
   ]
  },
  {
   "cell_type": "code",
   "execution_count": 7,
   "metadata": {
    "collapsed": true
   },
   "outputs": [],
   "source": [
    "prob_names = ['pcode{}'.format(i) for i in range(173)]\n",
    "col_names = ['run', 'subrun', 'gate', 'phys_evt', 'planecode'] + prob_names"
   ]
  },
  {
   "cell_type": "code",
   "execution_count": 8,
   "metadata": {
    "collapsed": true
   },
   "outputs": [],
   "source": [
    "df_natural = pd.read_csv(dbname_natural, names=col_names)"
   ]
  },
  {
   "cell_type": "code",
   "execution_count": 9,
   "metadata": {},
   "outputs": [
    {
     "data": {
      "text/html": [
       "<div>\n",
       "<style>\n",
       "    .dataframe thead tr:only-child th {\n",
       "        text-align: right;\n",
       "    }\n",
       "\n",
       "    .dataframe thead th {\n",
       "        text-align: left;\n",
       "    }\n",
       "\n",
       "    .dataframe tbody tr th {\n",
       "        vertical-align: top;\n",
       "    }\n",
       "</style>\n",
       "<table border=\"1\" class=\"dataframe\">\n",
       "  <thead>\n",
       "    <tr style=\"text-align: right;\">\n",
       "      <th></th>\n",
       "      <th>run</th>\n",
       "      <th>subrun</th>\n",
       "      <th>gate</th>\n",
       "      <th>phys_evt</th>\n",
       "      <th>planecode</th>\n",
       "      <th>pcode0</th>\n",
       "      <th>pcode1</th>\n",
       "      <th>pcode2</th>\n",
       "      <th>pcode3</th>\n",
       "      <th>pcode4</th>\n",
       "      <th>...</th>\n",
       "      <th>pcode163</th>\n",
       "      <th>pcode164</th>\n",
       "      <th>pcode165</th>\n",
       "      <th>pcode166</th>\n",
       "      <th>pcode167</th>\n",
       "      <th>pcode168</th>\n",
       "      <th>pcode169</th>\n",
       "      <th>pcode170</th>\n",
       "      <th>pcode171</th>\n",
       "      <th>pcode172</th>\n",
       "    </tr>\n",
       "  </thead>\n",
       "  <tbody>\n",
       "    <tr>\n",
       "      <th>0</th>\n",
       "      <td>110006</td>\n",
       "      <td>105</td>\n",
       "      <td>625</td>\n",
       "      <td>2</td>\n",
       "      <td>135</td>\n",
       "      <td>1.731900e-08</td>\n",
       "      <td>1.949470e-11</td>\n",
       "      <td>4.783020e-12</td>\n",
       "      <td>1.553020e-12</td>\n",
       "      <td>7.407490e-12</td>\n",
       "      <td>...</td>\n",
       "      <td>9.147930e-09</td>\n",
       "      <td>5.152210e-08</td>\n",
       "      <td>3.014600e-08</td>\n",
       "      <td>8.675290e-09</td>\n",
       "      <td>6.726100e-09</td>\n",
       "      <td>1.115700e-09</td>\n",
       "      <td>4.259310e-10</td>\n",
       "      <td>4.283370e-10</td>\n",
       "      <td>2.094560e-09</td>\n",
       "      <td>1.250690e-08</td>\n",
       "    </tr>\n",
       "    <tr>\n",
       "      <th>1</th>\n",
       "      <td>110006</td>\n",
       "      <td>105</td>\n",
       "      <td>626</td>\n",
       "      <td>1</td>\n",
       "      <td>9</td>\n",
       "      <td>1.598690e-05</td>\n",
       "      <td>2.839400e-07</td>\n",
       "      <td>4.192600e-07</td>\n",
       "      <td>7.796760e-07</td>\n",
       "      <td>6.954370e-06</td>\n",
       "      <td>...</td>\n",
       "      <td>8.785310e-09</td>\n",
       "      <td>2.725780e-08</td>\n",
       "      <td>3.001240e-09</td>\n",
       "      <td>3.015860e-09</td>\n",
       "      <td>8.395480e-09</td>\n",
       "      <td>4.522960e-09</td>\n",
       "      <td>8.709330e-10</td>\n",
       "      <td>2.797870e-09</td>\n",
       "      <td>4.102320e-09</td>\n",
       "      <td>1.179770e-08</td>\n",
       "    </tr>\n",
       "    <tr>\n",
       "      <th>2</th>\n",
       "      <td>110006</td>\n",
       "      <td>105</td>\n",
       "      <td>631</td>\n",
       "      <td>1</td>\n",
       "      <td>27</td>\n",
       "      <td>4.744770e-05</td>\n",
       "      <td>2.244640e-06</td>\n",
       "      <td>3.597050e-06</td>\n",
       "      <td>3.345990e-07</td>\n",
       "      <td>2.664760e-07</td>\n",
       "      <td>...</td>\n",
       "      <td>1.206490e-08</td>\n",
       "      <td>5.857360e-10</td>\n",
       "      <td>2.928740e-08</td>\n",
       "      <td>3.080310e-09</td>\n",
       "      <td>7.492860e-10</td>\n",
       "      <td>6.107220e-08</td>\n",
       "      <td>3.346480e-08</td>\n",
       "      <td>2.128470e-08</td>\n",
       "      <td>3.019530e-07</td>\n",
       "      <td>2.304920e-07</td>\n",
       "    </tr>\n",
       "    <tr>\n",
       "      <th>3</th>\n",
       "      <td>110006</td>\n",
       "      <td>105</td>\n",
       "      <td>632</td>\n",
       "      <td>1</td>\n",
       "      <td>70</td>\n",
       "      <td>3.221050e-06</td>\n",
       "      <td>3.405290e-07</td>\n",
       "      <td>9.974650e-07</td>\n",
       "      <td>9.275130e-08</td>\n",
       "      <td>9.798070e-08</td>\n",
       "      <td>...</td>\n",
       "      <td>8.269330e-07</td>\n",
       "      <td>3.060330e-06</td>\n",
       "      <td>4.144240e-07</td>\n",
       "      <td>1.266280e-06</td>\n",
       "      <td>1.746920e-06</td>\n",
       "      <td>8.939730e-08</td>\n",
       "      <td>1.394050e-07</td>\n",
       "      <td>3.374520e-07</td>\n",
       "      <td>1.241810e-07</td>\n",
       "      <td>3.376550e-07</td>\n",
       "    </tr>\n",
       "    <tr>\n",
       "      <th>4</th>\n",
       "      <td>110006</td>\n",
       "      <td>105</td>\n",
       "      <td>641</td>\n",
       "      <td>2</td>\n",
       "      <td>143</td>\n",
       "      <td>6.694800e-05</td>\n",
       "      <td>9.289960e-06</td>\n",
       "      <td>8.481660e-06</td>\n",
       "      <td>6.511360e-06</td>\n",
       "      <td>1.006460e-05</td>\n",
       "      <td>...</td>\n",
       "      <td>1.308520e-05</td>\n",
       "      <td>5.808140e-06</td>\n",
       "      <td>1.274120e-05</td>\n",
       "      <td>1.031080e-05</td>\n",
       "      <td>4.712450e-05</td>\n",
       "      <td>5.538510e-05</td>\n",
       "      <td>1.649710e-05</td>\n",
       "      <td>1.986590e-06</td>\n",
       "      <td>3.851120e-06</td>\n",
       "      <td>2.557220e-06</td>\n",
       "    </tr>\n",
       "  </tbody>\n",
       "</table>\n",
       "<p>5 rows × 178 columns</p>\n",
       "</div>"
      ],
      "text/plain": [
       "      run  subrun  gate  phys_evt  planecode        pcode0        pcode1  \\\n",
       "0  110006     105   625         2        135  1.731900e-08  1.949470e-11   \n",
       "1  110006     105   626         1          9  1.598690e-05  2.839400e-07   \n",
       "2  110006     105   631         1         27  4.744770e-05  2.244640e-06   \n",
       "3  110006     105   632         1         70  3.221050e-06  3.405290e-07   \n",
       "4  110006     105   641         2        143  6.694800e-05  9.289960e-06   \n",
       "\n",
       "         pcode2        pcode3        pcode4      ...           pcode163  \\\n",
       "0  4.783020e-12  1.553020e-12  7.407490e-12      ...       9.147930e-09   \n",
       "1  4.192600e-07  7.796760e-07  6.954370e-06      ...       8.785310e-09   \n",
       "2  3.597050e-06  3.345990e-07  2.664760e-07      ...       1.206490e-08   \n",
       "3  9.974650e-07  9.275130e-08  9.798070e-08      ...       8.269330e-07   \n",
       "4  8.481660e-06  6.511360e-06  1.006460e-05      ...       1.308520e-05   \n",
       "\n",
       "       pcode164      pcode165      pcode166      pcode167      pcode168  \\\n",
       "0  5.152210e-08  3.014600e-08  8.675290e-09  6.726100e-09  1.115700e-09   \n",
       "1  2.725780e-08  3.001240e-09  3.015860e-09  8.395480e-09  4.522960e-09   \n",
       "2  5.857360e-10  2.928740e-08  3.080310e-09  7.492860e-10  6.107220e-08   \n",
       "3  3.060330e-06  4.144240e-07  1.266280e-06  1.746920e-06  8.939730e-08   \n",
       "4  5.808140e-06  1.274120e-05  1.031080e-05  4.712450e-05  5.538510e-05   \n",
       "\n",
       "       pcode169      pcode170      pcode171      pcode172  \n",
       "0  4.259310e-10  4.283370e-10  2.094560e-09  1.250690e-08  \n",
       "1  8.709330e-10  2.797870e-09  4.102320e-09  1.179770e-08  \n",
       "2  3.346480e-08  2.128470e-08  3.019530e-07  2.304920e-07  \n",
       "3  1.394050e-07  3.374520e-07  1.241810e-07  3.376550e-07  \n",
       "4  1.649710e-05  1.986590e-06  3.851120e-06  2.557220e-06  \n",
       "\n",
       "[5 rows x 178 columns]"
      ]
     },
     "execution_count": 9,
     "metadata": {},
     "output_type": "execute_result"
    }
   ],
   "source": [
    "df_natural.head()"
   ]
  },
  {
   "cell_type": "code",
   "execution_count": 10,
   "metadata": {},
   "outputs": [
    {
     "name": "stdout",
     "output_type": "stream",
     "text": [
      "<class 'pandas.core.frame.DataFrame'>\n",
      "RangeIndex: 1765828 entries, 0 to 1765827\n",
      "Columns: 178 entries, run to pcode172\n",
      "dtypes: float64(173), int64(5)\n",
      "memory usage: 2.3 GB\n"
     ]
    }
   ],
   "source": [
    "df_natural.info()"
   ]
  },
  {
   "cell_type": "code",
   "execution_count": 11,
   "metadata": {},
   "outputs": [
    {
     "name": "stdout",
     "output_type": "stream",
     "text": [
      "[dtype('int64'), dtype('int64'), dtype('int64'), dtype('int64'), dtype('int64'), dtype('float64'), dtype('float64'), dtype('float64'), dtype('float64'), dtype('float64'), dtype('float64'), dtype('float64'), dtype('float64'), dtype('float64'), dtype('float64'), dtype('float64'), dtype('float64'), dtype('float64'), dtype('float64'), dtype('float64'), dtype('float64'), dtype('float64'), dtype('float64'), dtype('float64'), dtype('float64'), dtype('float64'), dtype('float64'), dtype('float64'), dtype('float64'), dtype('float64'), dtype('float64'), dtype('float64'), dtype('float64'), dtype('float64'), dtype('float64'), dtype('float64'), dtype('float64'), dtype('float64'), dtype('float64'), dtype('float64'), dtype('float64'), dtype('float64'), dtype('float64'), dtype('float64'), dtype('float64'), dtype('float64'), dtype('float64'), dtype('float64'), dtype('float64'), dtype('float64'), dtype('float64'), dtype('float64'), dtype('float64'), dtype('float64'), dtype('float64'), dtype('float64'), dtype('float64'), dtype('float64'), dtype('float64'), dtype('float64'), dtype('float64'), dtype('float64'), dtype('float64'), dtype('float64'), dtype('float64'), dtype('float64'), dtype('float64'), dtype('float64'), dtype('float64'), dtype('float64'), dtype('float64'), dtype('float64'), dtype('float64'), dtype('float64'), dtype('float64'), dtype('float64'), dtype('float64'), dtype('float64'), dtype('float64'), dtype('float64'), dtype('float64'), dtype('float64'), dtype('float64'), dtype('float64'), dtype('float64'), dtype('float64'), dtype('float64'), dtype('float64'), dtype('float64'), dtype('float64'), dtype('float64'), dtype('float64'), dtype('float64'), dtype('float64'), dtype('float64'), dtype('float64'), dtype('float64'), dtype('float64'), dtype('float64'), dtype('float64'), dtype('float64'), dtype('float64'), dtype('float64'), dtype('float64'), dtype('float64'), dtype('float64'), dtype('float64'), dtype('float64'), dtype('float64'), dtype('float64'), dtype('float64'), dtype('float64'), dtype('float64'), dtype('float64'), dtype('float64'), dtype('float64'), dtype('float64'), dtype('float64'), dtype('float64'), dtype('float64'), dtype('float64'), dtype('float64'), dtype('float64'), dtype('float64'), dtype('float64'), dtype('float64'), dtype('float64'), dtype('float64'), dtype('float64'), dtype('float64'), dtype('float64'), dtype('float64'), dtype('float64'), dtype('float64'), dtype('float64'), dtype('float64'), dtype('float64'), dtype('float64'), dtype('float64'), dtype('float64'), dtype('float64'), dtype('float64'), dtype('float64'), dtype('float64'), dtype('float64'), dtype('float64'), dtype('float64'), dtype('float64'), dtype('float64'), dtype('float64'), dtype('float64'), dtype('float64'), dtype('float64'), dtype('float64'), dtype('float64'), dtype('float64'), dtype('float64'), dtype('float64'), dtype('float64'), dtype('float64'), dtype('float64'), dtype('float64'), dtype('float64'), dtype('float64'), dtype('float64'), dtype('float64'), dtype('float64'), dtype('float64'), dtype('float64'), dtype('float64'), dtype('float64'), dtype('float64'), dtype('float64'), dtype('float64'), dtype('float64'), dtype('float64'), dtype('float64'), dtype('float64')]\n"
     ]
    }
   ],
   "source": [
    "dtypes = [df_natural[c].dtype for c in col_names]\n",
    "print(dtypes)"
   ]
  },
  {
   "cell_type": "code",
   "execution_count": 12,
   "metadata": {
    "collapsed": true
   },
   "outputs": [],
   "source": [
    "df_targbal = pd.read_csv(dbname_targbal, names=col_names)"
   ]
  },
  {
   "cell_type": "code",
   "execution_count": 13,
   "metadata": {},
   "outputs": [
    {
     "name": "stdout",
     "output_type": "stream",
     "text": [
      "<class 'pandas.core.frame.DataFrame'>\n",
      "RangeIndex: 1765828 entries, 0 to 1765827\n",
      "Columns: 178 entries, run to pcode172\n",
      "dtypes: float64(173), int64(5)\n",
      "memory usage: 2.3 GB\n"
     ]
    }
   ],
   "source": [
    "df_targbal.info()"
   ]
  },
  {
   "cell_type": "code",
   "execution_count": 14,
   "metadata": {},
   "outputs": [
    {
     "name": "stdout",
     "output_type": "stream",
     "text": [
      "1765828\n"
     ]
    }
   ],
   "source": [
    "nrec = h5file['event_data/eventids'][:].shape[0]\n",
    "print(nrec)"
   ]
  },
  {
   "cell_type": "code",
   "execution_count": 31,
   "metadata": {
    "collapsed": true
   },
   "outputs": [],
   "source": [
    "d = {\n",
    "    'eventids': list(np.reshape(h5file['event_data/eventids'][:], nrec)),\n",
    "    'Q2': list(np.reshape(h5file['gen_data/Q2'][:], nrec)),\n",
    "    'W': list(np.reshape(h5file['gen_data/W'][:], nrec)),\n",
    "    'x': list(np.reshape(h5file['gen_data/x'][:], nrec)),\n",
    "    'y': list(np.reshape(h5file['gen_data/y'][:], nrec)),\n",
    "    'true_plane': list(np.reshape(h5file['vtx_data/planecodes'][:], nrec)),\n",
    "}"
   ]
  },
  {
   "cell_type": "code",
   "execution_count": 32,
   "metadata": {
    "collapsed": true
   },
   "outputs": [],
   "source": [
    "df = pd.DataFrame(data=d)"
   ]
  },
  {
   "cell_type": "code",
   "execution_count": 33,
   "metadata": {},
   "outputs": [
    {
     "data": {
      "text/html": [
       "<div>\n",
       "<style>\n",
       "    .dataframe thead tr:only-child th {\n",
       "        text-align: right;\n",
       "    }\n",
       "\n",
       "    .dataframe thead th {\n",
       "        text-align: left;\n",
       "    }\n",
       "\n",
       "    .dataframe tbody tr th {\n",
       "        vertical-align: top;\n",
       "    }\n",
       "</style>\n",
       "<table border=\"1\" class=\"dataframe\">\n",
       "  <thead>\n",
       "    <tr style=\"text-align: right;\">\n",
       "      <th></th>\n",
       "      <th>Q2</th>\n",
       "      <th>W</th>\n",
       "      <th>eventids</th>\n",
       "      <th>true_plane</th>\n",
       "      <th>x</th>\n",
       "      <th>y</th>\n",
       "    </tr>\n",
       "  </thead>\n",
       "  <tbody>\n",
       "    <tr>\n",
       "      <th>0</th>\n",
       "      <td>3.060432e+06</td>\n",
       "      <td>2.579643e+03</td>\n",
       "      <td>1100000001000202</td>\n",
       "      <td>18</td>\n",
       "      <td>0.345383</td>\n",
       "      <td>0.278034</td>\n",
       "    </tr>\n",
       "    <tr>\n",
       "      <th>1</th>\n",
       "      <td>2.984092e+05</td>\n",
       "      <td>1.226673e+03</td>\n",
       "      <td>1100000001001001</td>\n",
       "      <td>95</td>\n",
       "      <td>0.299016</td>\n",
       "      <td>0.093756</td>\n",
       "    </tr>\n",
       "    <tr>\n",
       "      <th>2</th>\n",
       "      <td>5.964411e+05</td>\n",
       "      <td>1.178164e+03</td>\n",
       "      <td>1100000001001501</td>\n",
       "      <td>44</td>\n",
       "      <td>0.516082</td>\n",
       "      <td>0.095757</td>\n",
       "    </tr>\n",
       "    <tr>\n",
       "      <th>3</th>\n",
       "      <td>1.106649e+06</td>\n",
       "      <td>2.651544e+03</td>\n",
       "      <td>1100000001001701</td>\n",
       "      <td>157</td>\n",
       "      <td>0.151142</td>\n",
       "      <td>0.656177</td>\n",
       "    </tr>\n",
       "    <tr>\n",
       "      <th>4</th>\n",
       "      <td>4.550963e+04</td>\n",
       "      <td>9.999900e+07</td>\n",
       "      <td>1100000001002004</td>\n",
       "      <td>98</td>\n",
       "      <td>-99999.000000</td>\n",
       "      <td>0.081627</td>\n",
       "    </tr>\n",
       "  </tbody>\n",
       "</table>\n",
       "</div>"
      ],
      "text/plain": [
       "             Q2             W          eventids  true_plane             x  \\\n",
       "0  3.060432e+06  2.579643e+03  1100000001000202          18      0.345383   \n",
       "1  2.984092e+05  1.226673e+03  1100000001001001          95      0.299016   \n",
       "2  5.964411e+05  1.178164e+03  1100000001001501          44      0.516082   \n",
       "3  1.106649e+06  2.651544e+03  1100000001001701         157      0.151142   \n",
       "4  4.550963e+04  9.999900e+07  1100000001002004          98 -99999.000000   \n",
       "\n",
       "          y  \n",
       "0  0.278034  \n",
       "1  0.093756  \n",
       "2  0.095757  \n",
       "3  0.656177  \n",
       "4  0.081627  "
      ]
     },
     "execution_count": 33,
     "metadata": {},
     "output_type": "execute_result"
    }
   ],
   "source": [
    "df.head()"
   ]
  },
  {
   "cell_type": "code",
   "execution_count": 19,
   "metadata": {
    "collapsed": true
   },
   "outputs": [],
   "source": [
    "evtids_natural = np.zeros(nrec, dtype=np.uint64)\n",
    "evtids_targbal = np.zeros(nrec, dtype=np.uint64)"
   ]
  },
  {
   "cell_type": "code",
   "execution_count": 20,
   "metadata": {
    "collapsed": true
   },
   "outputs": [],
   "source": [
    "counter = 0\n",
    "for x in zip(df_natural['run'][:], df_natural['subrun'][:], df_natural['gate'][:], df_natural['phys_evt'][:]):\n",
    "    evtids_natural[counter] = int(encode_eventid(*x))\n",
    "    counter += 1"
   ]
  },
  {
   "cell_type": "code",
   "execution_count": 21,
   "metadata": {
    "collapsed": true
   },
   "outputs": [],
   "source": [
    "counter = 0\n",
    "for x in zip(df_targbal['run'][:], df_targbal['subrun'][:], df_targbal['gate'][:], df_targbal['phys_evt'][:]):\n",
    "    evtids_targbal[counter] = int(encode_eventid(*x))\n",
    "    counter += 1"
   ]
  },
  {
   "cell_type": "code",
   "execution_count": 22,
   "metadata": {
    "collapsed": true
   },
   "outputs": [],
   "source": [
    "df_natural['eventids'] = evtids_natural\n",
    "df_targbal['eventids'] = evtids_targbal"
   ]
  },
  {
   "cell_type": "code",
   "execution_count": 24,
   "metadata": {},
   "outputs": [],
   "source": [
    "df_natural.sort_values(by=['eventids'], inplace=True)\n",
    "df_targbal.sort_values(by=['eventids'], inplace=True)"
   ]
  },
  {
   "cell_type": "code",
   "execution_count": 39,
   "metadata": {},
   "outputs": [
    {
     "data": {
      "text/html": [
       "<div>\n",
       "<style>\n",
       "    .dataframe thead tr:only-child th {\n",
       "        text-align: right;\n",
       "    }\n",
       "\n",
       "    .dataframe thead th {\n",
       "        text-align: left;\n",
       "    }\n",
       "\n",
       "    .dataframe tbody tr th {\n",
       "        vertical-align: top;\n",
       "    }\n",
       "</style>\n",
       "<table border=\"1\" class=\"dataframe\">\n",
       "  <thead>\n",
       "    <tr style=\"text-align: right;\">\n",
       "      <th></th>\n",
       "      <th>run</th>\n",
       "      <th>subrun</th>\n",
       "      <th>gate</th>\n",
       "      <th>phys_evt</th>\n",
       "      <th>planecode</th>\n",
       "      <th>pcode0</th>\n",
       "      <th>pcode1</th>\n",
       "      <th>pcode2</th>\n",
       "      <th>pcode3</th>\n",
       "      <th>pcode4</th>\n",
       "      <th>...</th>\n",
       "      <th>pcode164</th>\n",
       "      <th>pcode165</th>\n",
       "      <th>pcode166</th>\n",
       "      <th>pcode167</th>\n",
       "      <th>pcode168</th>\n",
       "      <th>pcode169</th>\n",
       "      <th>pcode170</th>\n",
       "      <th>pcode171</th>\n",
       "      <th>pcode172</th>\n",
       "      <th>eventids</th>\n",
       "    </tr>\n",
       "  </thead>\n",
       "  <tbody>\n",
       "    <tr>\n",
       "      <th>1477279</th>\n",
       "      <td>110000</td>\n",
       "      <td>1</td>\n",
       "      <td>2</td>\n",
       "      <td>2</td>\n",
       "      <td>18</td>\n",
       "      <td>1.861300e-06</td>\n",
       "      <td>4.472780e-08</td>\n",
       "      <td>1.287810e-07</td>\n",
       "      <td>4.863250e-08</td>\n",
       "      <td>1.247020e-07</td>\n",
       "      <td>...</td>\n",
       "      <td>4.524720e-09</td>\n",
       "      <td>2.173490e-09</td>\n",
       "      <td>4.459660e-09</td>\n",
       "      <td>1.469140e-09</td>\n",
       "      <td>1.868860e-09</td>\n",
       "      <td>8.243430e-09</td>\n",
       "      <td>7.243330e-09</td>\n",
       "      <td>1.683800e-09</td>\n",
       "      <td>2.196240e-09</td>\n",
       "      <td>1100000001000202</td>\n",
       "    </tr>\n",
       "    <tr>\n",
       "      <th>1477280</th>\n",
       "      <td>110000</td>\n",
       "      <td>1</td>\n",
       "      <td>10</td>\n",
       "      <td>1</td>\n",
       "      <td>96</td>\n",
       "      <td>1.669770e-11</td>\n",
       "      <td>3.940860e-10</td>\n",
       "      <td>9.457840e-10</td>\n",
       "      <td>2.991670e-10</td>\n",
       "      <td>2.047750e-09</td>\n",
       "      <td>...</td>\n",
       "      <td>2.447560e-13</td>\n",
       "      <td>2.356380e-12</td>\n",
       "      <td>1.419730e-11</td>\n",
       "      <td>1.927160e-11</td>\n",
       "      <td>6.846830e-11</td>\n",
       "      <td>1.693930e-11</td>\n",
       "      <td>4.716320e-12</td>\n",
       "      <td>4.061310e-10</td>\n",
       "      <td>5.869770e-12</td>\n",
       "      <td>1100000001001001</td>\n",
       "    </tr>\n",
       "    <tr>\n",
       "      <th>1477281</th>\n",
       "      <td>110000</td>\n",
       "      <td>1</td>\n",
       "      <td>15</td>\n",
       "      <td>1</td>\n",
       "      <td>44</td>\n",
       "      <td>1.941860e-07</td>\n",
       "      <td>6.044090e-08</td>\n",
       "      <td>1.220140e-07</td>\n",
       "      <td>4.036490e-08</td>\n",
       "      <td>3.596550e-08</td>\n",
       "      <td>...</td>\n",
       "      <td>1.293470e-09</td>\n",
       "      <td>6.465920e-10</td>\n",
       "      <td>5.989720e-11</td>\n",
       "      <td>2.664920e-10</td>\n",
       "      <td>1.719150e-10</td>\n",
       "      <td>4.899460e-12</td>\n",
       "      <td>1.028220e-10</td>\n",
       "      <td>7.475660e-09</td>\n",
       "      <td>3.875390e-09</td>\n",
       "      <td>1100000001001501</td>\n",
       "    </tr>\n",
       "    <tr>\n",
       "      <th>1477282</th>\n",
       "      <td>110000</td>\n",
       "      <td>1</td>\n",
       "      <td>17</td>\n",
       "      <td>1</td>\n",
       "      <td>157</td>\n",
       "      <td>1.210680e-08</td>\n",
       "      <td>2.151480e-11</td>\n",
       "      <td>8.141460e-11</td>\n",
       "      <td>1.349960e-10</td>\n",
       "      <td>3.740440e-10</td>\n",
       "      <td>...</td>\n",
       "      <td>1.896760e-07</td>\n",
       "      <td>1.777500e-07</td>\n",
       "      <td>2.004530e-08</td>\n",
       "      <td>1.146820e-08</td>\n",
       "      <td>3.039330e-09</td>\n",
       "      <td>1.090430e-08</td>\n",
       "      <td>3.551900e-09</td>\n",
       "      <td>5.799410e-09</td>\n",
       "      <td>8.905710e-11</td>\n",
       "      <td>1100000001001701</td>\n",
       "    </tr>\n",
       "    <tr>\n",
       "      <th>1477283</th>\n",
       "      <td>110000</td>\n",
       "      <td>1</td>\n",
       "      <td>20</td>\n",
       "      <td>4</td>\n",
       "      <td>99</td>\n",
       "      <td>3.449850e-12</td>\n",
       "      <td>2.145730e-12</td>\n",
       "      <td>1.421180e-12</td>\n",
       "      <td>5.641460e-14</td>\n",
       "      <td>4.448690e-13</td>\n",
       "      <td>...</td>\n",
       "      <td>2.171970e-11</td>\n",
       "      <td>1.471830e-12</td>\n",
       "      <td>2.366750e-11</td>\n",
       "      <td>9.832520e-12</td>\n",
       "      <td>1.419340e-11</td>\n",
       "      <td>1.435450e-11</td>\n",
       "      <td>1.894010e-12</td>\n",
       "      <td>2.111260e-11</td>\n",
       "      <td>4.029260e-11</td>\n",
       "      <td>1100000001002004</td>\n",
       "    </tr>\n",
       "  </tbody>\n",
       "</table>\n",
       "<p>5 rows × 179 columns</p>\n",
       "</div>"
      ],
      "text/plain": [
       "            run  subrun  gate  phys_evt  planecode        pcode0  \\\n",
       "1477279  110000       1     2         2         18  1.861300e-06   \n",
       "1477280  110000       1    10         1         96  1.669770e-11   \n",
       "1477281  110000       1    15         1         44  1.941860e-07   \n",
       "1477282  110000       1    17         1        157  1.210680e-08   \n",
       "1477283  110000       1    20         4         99  3.449850e-12   \n",
       "\n",
       "               pcode1        pcode2        pcode3        pcode4  \\\n",
       "1477279  4.472780e-08  1.287810e-07  4.863250e-08  1.247020e-07   \n",
       "1477280  3.940860e-10  9.457840e-10  2.991670e-10  2.047750e-09   \n",
       "1477281  6.044090e-08  1.220140e-07  4.036490e-08  3.596550e-08   \n",
       "1477282  2.151480e-11  8.141460e-11  1.349960e-10  3.740440e-10   \n",
       "1477283  2.145730e-12  1.421180e-12  5.641460e-14  4.448690e-13   \n",
       "\n",
       "               ...             pcode164      pcode165      pcode166  \\\n",
       "1477279        ...         4.524720e-09  2.173490e-09  4.459660e-09   \n",
       "1477280        ...         2.447560e-13  2.356380e-12  1.419730e-11   \n",
       "1477281        ...         1.293470e-09  6.465920e-10  5.989720e-11   \n",
       "1477282        ...         1.896760e-07  1.777500e-07  2.004530e-08   \n",
       "1477283        ...         2.171970e-11  1.471830e-12  2.366750e-11   \n",
       "\n",
       "             pcode167      pcode168      pcode169      pcode170      pcode171  \\\n",
       "1477279  1.469140e-09  1.868860e-09  8.243430e-09  7.243330e-09  1.683800e-09   \n",
       "1477280  1.927160e-11  6.846830e-11  1.693930e-11  4.716320e-12  4.061310e-10   \n",
       "1477281  2.664920e-10  1.719150e-10  4.899460e-12  1.028220e-10  7.475660e-09   \n",
       "1477282  1.146820e-08  3.039330e-09  1.090430e-08  3.551900e-09  5.799410e-09   \n",
       "1477283  9.832520e-12  1.419340e-11  1.435450e-11  1.894010e-12  2.111260e-11   \n",
       "\n",
       "             pcode172          eventids  \n",
       "1477279  2.196240e-09  1100000001000202  \n",
       "1477280  5.869770e-12  1100000001001001  \n",
       "1477281  3.875390e-09  1100000001001501  \n",
       "1477282  8.905710e-11  1100000001001701  \n",
       "1477283  4.029260e-11  1100000001002004  \n",
       "\n",
       "[5 rows x 179 columns]"
      ]
     },
     "execution_count": 39,
     "metadata": {},
     "output_type": "execute_result"
    }
   ],
   "source": [
    "df_natural.head()"
   ]
  },
  {
   "cell_type": "code",
   "execution_count": 40,
   "metadata": {},
   "outputs": [
    {
     "data": {
      "text/html": [
       "<div>\n",
       "<style>\n",
       "    .dataframe thead tr:only-child th {\n",
       "        text-align: right;\n",
       "    }\n",
       "\n",
       "    .dataframe thead th {\n",
       "        text-align: left;\n",
       "    }\n",
       "\n",
       "    .dataframe tbody tr th {\n",
       "        vertical-align: top;\n",
       "    }\n",
       "</style>\n",
       "<table border=\"1\" class=\"dataframe\">\n",
       "  <thead>\n",
       "    <tr style=\"text-align: right;\">\n",
       "      <th></th>\n",
       "      <th>run</th>\n",
       "      <th>subrun</th>\n",
       "      <th>gate</th>\n",
       "      <th>phys_evt</th>\n",
       "      <th>planecode</th>\n",
       "      <th>pcode0</th>\n",
       "      <th>pcode1</th>\n",
       "      <th>pcode2</th>\n",
       "      <th>pcode3</th>\n",
       "      <th>pcode4</th>\n",
       "      <th>...</th>\n",
       "      <th>pcode164</th>\n",
       "      <th>pcode165</th>\n",
       "      <th>pcode166</th>\n",
       "      <th>pcode167</th>\n",
       "      <th>pcode168</th>\n",
       "      <th>pcode169</th>\n",
       "      <th>pcode170</th>\n",
       "      <th>pcode171</th>\n",
       "      <th>pcode172</th>\n",
       "      <th>eventids</th>\n",
       "    </tr>\n",
       "  </thead>\n",
       "  <tbody>\n",
       "    <tr>\n",
       "      <th>1710028</th>\n",
       "      <td>110000</td>\n",
       "      <td>1</td>\n",
       "      <td>2</td>\n",
       "      <td>2</td>\n",
       "      <td>18</td>\n",
       "      <td>7.589710e-05</td>\n",
       "      <td>1.133740e-05</td>\n",
       "      <td>3.263150e-06</td>\n",
       "      <td>5.958950e-06</td>\n",
       "      <td>2.220850e-06</td>\n",
       "      <td>...</td>\n",
       "      <td>2.256040e-06</td>\n",
       "      <td>2.532200e-06</td>\n",
       "      <td>2.627120e-06</td>\n",
       "      <td>3.773360e-07</td>\n",
       "      <td>1.094060e-06</td>\n",
       "      <td>2.388140e-07</td>\n",
       "      <td>8.642590e-08</td>\n",
       "      <td>1.378880e-06</td>\n",
       "      <td>6.462730e-06</td>\n",
       "      <td>1100000001000202</td>\n",
       "    </tr>\n",
       "    <tr>\n",
       "      <th>1710029</th>\n",
       "      <td>110000</td>\n",
       "      <td>1</td>\n",
       "      <td>10</td>\n",
       "      <td>1</td>\n",
       "      <td>96</td>\n",
       "      <td>4.704170e-12</td>\n",
       "      <td>6.942040e-12</td>\n",
       "      <td>5.443010e-12</td>\n",
       "      <td>1.529070e-11</td>\n",
       "      <td>4.130900e-11</td>\n",
       "      <td>...</td>\n",
       "      <td>8.182300e-15</td>\n",
       "      <td>6.324230e-13</td>\n",
       "      <td>1.521230e-11</td>\n",
       "      <td>7.580690e-12</td>\n",
       "      <td>1.708350e-12</td>\n",
       "      <td>2.737510e-12</td>\n",
       "      <td>5.036170e-13</td>\n",
       "      <td>6.579960e-13</td>\n",
       "      <td>1.277020e-12</td>\n",
       "      <td>1100000001001001</td>\n",
       "    </tr>\n",
       "    <tr>\n",
       "      <th>1710030</th>\n",
       "      <td>110000</td>\n",
       "      <td>1</td>\n",
       "      <td>15</td>\n",
       "      <td>1</td>\n",
       "      <td>44</td>\n",
       "      <td>1.666880e-05</td>\n",
       "      <td>4.208280e-06</td>\n",
       "      <td>4.181850e-06</td>\n",
       "      <td>6.400770e-06</td>\n",
       "      <td>4.391240e-06</td>\n",
       "      <td>...</td>\n",
       "      <td>2.044390e-08</td>\n",
       "      <td>2.799280e-08</td>\n",
       "      <td>1.873380e-06</td>\n",
       "      <td>6.134420e-06</td>\n",
       "      <td>1.754060e-07</td>\n",
       "      <td>8.004450e-08</td>\n",
       "      <td>1.079980e-07</td>\n",
       "      <td>7.509640e-09</td>\n",
       "      <td>1.914940e-08</td>\n",
       "      <td>1100000001001501</td>\n",
       "    </tr>\n",
       "    <tr>\n",
       "      <th>1710031</th>\n",
       "      <td>110000</td>\n",
       "      <td>1</td>\n",
       "      <td>17</td>\n",
       "      <td>1</td>\n",
       "      <td>157</td>\n",
       "      <td>4.538760e-08</td>\n",
       "      <td>8.871230e-10</td>\n",
       "      <td>6.816600e-11</td>\n",
       "      <td>2.100250e-11</td>\n",
       "      <td>3.435240e-12</td>\n",
       "      <td>...</td>\n",
       "      <td>9.310440e-09</td>\n",
       "      <td>1.195800e-08</td>\n",
       "      <td>4.540200e-09</td>\n",
       "      <td>1.324720e-09</td>\n",
       "      <td>7.493310e-10</td>\n",
       "      <td>7.073070e-10</td>\n",
       "      <td>2.946890e-09</td>\n",
       "      <td>1.393490e-08</td>\n",
       "      <td>3.309040e-09</td>\n",
       "      <td>1100000001001701</td>\n",
       "    </tr>\n",
       "    <tr>\n",
       "      <th>1710032</th>\n",
       "      <td>110000</td>\n",
       "      <td>1</td>\n",
       "      <td>20</td>\n",
       "      <td>4</td>\n",
       "      <td>99</td>\n",
       "      <td>1.930320e-09</td>\n",
       "      <td>3.426730e-09</td>\n",
       "      <td>8.179240e-10</td>\n",
       "      <td>6.381160e-10</td>\n",
       "      <td>6.121670e-10</td>\n",
       "      <td>...</td>\n",
       "      <td>5.360070e-07</td>\n",
       "      <td>4.268110e-08</td>\n",
       "      <td>1.065560e-08</td>\n",
       "      <td>2.472070e-08</td>\n",
       "      <td>2.079890e-07</td>\n",
       "      <td>5.005340e-08</td>\n",
       "      <td>5.777710e-10</td>\n",
       "      <td>8.740070e-10</td>\n",
       "      <td>5.104170e-10</td>\n",
       "      <td>1100000001002004</td>\n",
       "    </tr>\n",
       "  </tbody>\n",
       "</table>\n",
       "<p>5 rows × 179 columns</p>\n",
       "</div>"
      ],
      "text/plain": [
       "            run  subrun  gate  phys_evt  planecode        pcode0  \\\n",
       "1710028  110000       1     2         2         18  7.589710e-05   \n",
       "1710029  110000       1    10         1         96  4.704170e-12   \n",
       "1710030  110000       1    15         1         44  1.666880e-05   \n",
       "1710031  110000       1    17         1        157  4.538760e-08   \n",
       "1710032  110000       1    20         4         99  1.930320e-09   \n",
       "\n",
       "               pcode1        pcode2        pcode3        pcode4  \\\n",
       "1710028  1.133740e-05  3.263150e-06  5.958950e-06  2.220850e-06   \n",
       "1710029  6.942040e-12  5.443010e-12  1.529070e-11  4.130900e-11   \n",
       "1710030  4.208280e-06  4.181850e-06  6.400770e-06  4.391240e-06   \n",
       "1710031  8.871230e-10  6.816600e-11  2.100250e-11  3.435240e-12   \n",
       "1710032  3.426730e-09  8.179240e-10  6.381160e-10  6.121670e-10   \n",
       "\n",
       "               ...             pcode164      pcode165      pcode166  \\\n",
       "1710028        ...         2.256040e-06  2.532200e-06  2.627120e-06   \n",
       "1710029        ...         8.182300e-15  6.324230e-13  1.521230e-11   \n",
       "1710030        ...         2.044390e-08  2.799280e-08  1.873380e-06   \n",
       "1710031        ...         9.310440e-09  1.195800e-08  4.540200e-09   \n",
       "1710032        ...         5.360070e-07  4.268110e-08  1.065560e-08   \n",
       "\n",
       "             pcode167      pcode168      pcode169      pcode170      pcode171  \\\n",
       "1710028  3.773360e-07  1.094060e-06  2.388140e-07  8.642590e-08  1.378880e-06   \n",
       "1710029  7.580690e-12  1.708350e-12  2.737510e-12  5.036170e-13  6.579960e-13   \n",
       "1710030  6.134420e-06  1.754060e-07  8.004450e-08  1.079980e-07  7.509640e-09   \n",
       "1710031  1.324720e-09  7.493310e-10  7.073070e-10  2.946890e-09  1.393490e-08   \n",
       "1710032  2.472070e-08  2.079890e-07  5.005340e-08  5.777710e-10  8.740070e-10   \n",
       "\n",
       "             pcode172          eventids  \n",
       "1710028  6.462730e-06  1100000001000202  \n",
       "1710029  1.277020e-12  1100000001001001  \n",
       "1710030  1.914940e-08  1100000001001501  \n",
       "1710031  3.309040e-09  1100000001001701  \n",
       "1710032  5.104170e-10  1100000001002004  \n",
       "\n",
       "[5 rows x 179 columns]"
      ]
     },
     "execution_count": 40,
     "metadata": {},
     "output_type": "execute_result"
    }
   ],
   "source": [
    "df_targbal.head()"
   ]
  },
  {
   "cell_type": "code",
   "execution_count": 41,
   "metadata": {},
   "outputs": [
    {
     "name": "stdout",
     "output_type": "stream",
     "text": [
      "1100000001000202 1100000001000202 1100000001000202\n",
      "1100000001001001 1100000001001001 1100000001001001\n",
      "1100000001001501 1100000001001501 1100000001001501\n",
      "1100000001001701 1100000001001701 1100000001001701\n",
      "1100000001002004 1100000001002004 1100000001002004\n",
      "1100000001002202 1100000001002202 1100000001002202\n",
      "1100000001004401 1100000001004401 1100000001004401\n",
      "1100000001005101 1100000001005101 1100000001005101\n",
      "1100000001006401 1100000001006401 1100000001006401\n",
      "1100000001007302 1100000001007302 1100000001007302\n"
     ]
    }
   ],
   "source": [
    "n_evt = 10\n",
    "for x in zip(df_natural['eventids'][:n_evt], df_targbal['eventids'][:n_evt], df['eventids'][:]):\n",
    "    print(*x)"
   ]
  },
  {
   "cell_type": "code",
   "execution_count": 42,
   "metadata": {},
   "outputs": [
    {
     "name": "stdout",
     "output_type": "stream",
     "text": [
      "1100200500103501 1100200500103501 1100200500103501\n",
      "1100200500104901 1100200500104901 1100200500104901\n",
      "1100200500106402 1100200500106402 1100200500106402\n",
      "1100200500106502 1100200500106502 1100200500106502\n",
      "1100200500107201 1100200500107201 1100200500107201\n",
      "1100200500108001 1100200500108001 1100200500108001\n",
      "1100200500108601 1100200500108601 1100200500108601\n",
      "1100200500108901 1100200500108901 1100200500108901\n",
      "1100200500109001 1100200500109001 1100200500109001\n",
      "1100200500109501 1100200500109501 1100200500109501\n"
     ]
    }
   ],
   "source": [
    "n_evt = 10\n",
    "for x in zip(df_natural['eventids'][-n_evt:], df_targbal['eventids'][-n_evt:], df['eventids'][-n_evt:]):\n",
    "    print(*x)"
   ]
  },
  {
   "cell_type": "code",
   "execution_count": 58,
   "metadata": {},
   "outputs": [
    {
     "name": "stdout",
     "output_type": "stream",
     "text": [
      "0     18\n",
      "1     96\n",
      "2     44\n",
      "3    157\n",
      "4     99\n",
      "Name: planecode, dtype: int64\n",
      "0     18\n",
      "1     96\n",
      "2     44\n",
      "3    157\n",
      "4     99\n",
      "Name: planecode, dtype: int64\n"
     ]
    }
   ],
   "source": [
    "natural_planecodes = df_natural['planecode'].reset_index()\n",
    "print(natural_planecodes['planecode'][:5])\n",
    "targbal_planecodes = df_targbal['planecode'].reset_index()\n",
    "print(targbal_planecodes['planecode'][:5])\n",
    "df['planecode_natural'] = natural_planecodes['planecode']\n",
    "df['planecode_targbal'] = targbal_planecodes['planecode']"
   ]
  },
  {
   "cell_type": "code",
   "execution_count": 59,
   "metadata": {},
   "outputs": [
    {
     "data": {
      "text/html": [
       "<div>\n",
       "<style>\n",
       "    .dataframe thead tr:only-child th {\n",
       "        text-align: right;\n",
       "    }\n",
       "\n",
       "    .dataframe thead th {\n",
       "        text-align: left;\n",
       "    }\n",
       "\n",
       "    .dataframe tbody tr th {\n",
       "        vertical-align: top;\n",
       "    }\n",
       "</style>\n",
       "<table border=\"1\" class=\"dataframe\">\n",
       "  <thead>\n",
       "    <tr style=\"text-align: right;\">\n",
       "      <th></th>\n",
       "      <th>Q2</th>\n",
       "      <th>W</th>\n",
       "      <th>eventids</th>\n",
       "      <th>true_plane</th>\n",
       "      <th>x</th>\n",
       "      <th>y</th>\n",
       "      <th>planecode_natural</th>\n",
       "      <th>planecode_targbal</th>\n",
       "    </tr>\n",
       "  </thead>\n",
       "  <tbody>\n",
       "    <tr>\n",
       "      <th>0</th>\n",
       "      <td>3.060432e+06</td>\n",
       "      <td>2.579643e+03</td>\n",
       "      <td>1100000001000202</td>\n",
       "      <td>18</td>\n",
       "      <td>0.345383</td>\n",
       "      <td>0.278034</td>\n",
       "      <td>18</td>\n",
       "      <td>18</td>\n",
       "    </tr>\n",
       "    <tr>\n",
       "      <th>1</th>\n",
       "      <td>2.984092e+05</td>\n",
       "      <td>1.226673e+03</td>\n",
       "      <td>1100000001001001</td>\n",
       "      <td>95</td>\n",
       "      <td>0.299016</td>\n",
       "      <td>0.093756</td>\n",
       "      <td>96</td>\n",
       "      <td>96</td>\n",
       "    </tr>\n",
       "    <tr>\n",
       "      <th>2</th>\n",
       "      <td>5.964411e+05</td>\n",
       "      <td>1.178164e+03</td>\n",
       "      <td>1100000001001501</td>\n",
       "      <td>44</td>\n",
       "      <td>0.516082</td>\n",
       "      <td>0.095757</td>\n",
       "      <td>44</td>\n",
       "      <td>44</td>\n",
       "    </tr>\n",
       "    <tr>\n",
       "      <th>3</th>\n",
       "      <td>1.106649e+06</td>\n",
       "      <td>2.651544e+03</td>\n",
       "      <td>1100000001001701</td>\n",
       "      <td>157</td>\n",
       "      <td>0.151142</td>\n",
       "      <td>0.656177</td>\n",
       "      <td>157</td>\n",
       "      <td>157</td>\n",
       "    </tr>\n",
       "    <tr>\n",
       "      <th>4</th>\n",
       "      <td>4.550963e+04</td>\n",
       "      <td>9.999900e+07</td>\n",
       "      <td>1100000001002004</td>\n",
       "      <td>98</td>\n",
       "      <td>-99999.000000</td>\n",
       "      <td>0.081627</td>\n",
       "      <td>99</td>\n",
       "      <td>99</td>\n",
       "    </tr>\n",
       "  </tbody>\n",
       "</table>\n",
       "</div>"
      ],
      "text/plain": [
       "             Q2             W          eventids  true_plane             x  \\\n",
       "0  3.060432e+06  2.579643e+03  1100000001000202          18      0.345383   \n",
       "1  2.984092e+05  1.226673e+03  1100000001001001          95      0.299016   \n",
       "2  5.964411e+05  1.178164e+03  1100000001001501          44      0.516082   \n",
       "3  1.106649e+06  2.651544e+03  1100000001001701         157      0.151142   \n",
       "4  4.550963e+04  9.999900e+07  1100000001002004          98 -99999.000000   \n",
       "\n",
       "          y  planecode_natural  planecode_targbal  \n",
       "0  0.278034                 18                 18  \n",
       "1  0.093756                 96                 96  \n",
       "2  0.095757                 44                 44  \n",
       "3  0.656177                157                157  \n",
       "4  0.081627                 99                 99  "
      ]
     },
     "execution_count": 59,
     "metadata": {},
     "output_type": "execute_result"
    }
   ],
   "source": [
    "df.head()"
   ]
  },
  {
   "cell_type": "code",
   "execution_count": 60,
   "metadata": {},
   "outputs": [
    {
     "name": "stdout",
     "output_type": "stream",
     "text": [
      "18 18 18\n",
      "95 96 96\n",
      "44 44 44\n",
      "157 157 157\n",
      "98 99 99\n",
      "91 91 91\n",
      "142 142 142\n",
      "60 60 60\n",
      "157 157 157\n",
      "115 115 116\n",
      "158 158 158\n",
      "29 29 29\n",
      "117 117 117\n",
      "23 23 23\n",
      "171 171 171\n",
      "143 143 143\n",
      "89 89 89\n",
      "150 149 150\n",
      "136 136 136\n",
      "116 116 116\n"
     ]
    }
   ],
   "source": [
    "n_evt = 20\n",
    "for x in zip(df['true_plane'][:n_evt], df['planecode_natural'][:n_evt], df['planecode_targbal'][:n_evt]):\n",
    "    print(*x)"
   ]
  },
  {
   "cell_type": "code",
   "execution_count": 64,
   "metadata": {},
   "outputs": [],
   "source": [
    "df = df[df['x'] > 0]"
   ]
  },
  {
   "cell_type": "code",
   "execution_count": 169,
   "metadata": {
    "collapsed": true
   },
   "outputs": [],
   "source": [
    "def compare_kine(kine_var, targ_indices, diff_indices, ylim=0.3, ptitle='', xtitle='', ytitle=''):\n",
    "    plt.figure(figsize=(12, 6))\n",
    "    gs = plt.GridSpec(1, 2)\n",
    "    \n",
    "    ax = plt.subplot(gs[0])\n",
    "    hist, bins = np.histogram(df[kine_var][targ_indices], normed=True)\n",
    "    ax.bar(bins[:-1], hist.astype(np.float32) / hist.sum(), width=(bins[1] - bins[0]))\n",
    "    hist, bins = np.histogram(df[kine_var][diff_indices], bins=bins, normed=True)\n",
    "    ax.bar(bins[:-1], hist.astype(np.float32) / hist.sum(), width=(bins[1] - bins[0]), alpha=0.5, color='r')\n",
    "    plt.ylim(0, ylim)\n",
    "    plt.xlabel(xtitle)\n",
    "    plt.ylabel(ytitle)\n",
    "    plt.title(ptitle)\n",
    "    \n",
    "    ax = plt.subplot(gs[1])\n",
    "    hist, bins = np.histogram(df[kine_var][targ_indices])\n",
    "    ax.bar(bins[:-1], hist, width=(bins[1] - bins[0]))\n",
    "    hist, bins = np.histogram(df[kine_var][diff_indices], bins=bins)\n",
    "    ax.bar(bins[:-1], hist, width=(bins[1] - bins[0]), alpha=0.5, color='r')\n",
    "    plt.xlabel(xtitle)\n",
    "    plt.ylabel(ytitle)\n",
    "    plt.title(ptitle)\n",
    "    plt.show()"
   ]
  },
  {
   "cell_type": "code",
   "execution_count": 170,
   "metadata": {},
   "outputs": [
    {
     "name": "stdout",
     "output_type": "stream",
     "text": [
      "16408\n"
     ]
    }
   ],
   "source": [
    "targ1_idx = df['true_plane'] == 9\n",
    "diff_idx = df['planecode_natural'] != df['planecode_targbal']\n",
    "targ1_and_diff_idx = targ1_idx & diff_idx\n",
    "print(np.sum(targ1_and_diff_idx))"
   ]
  },
  {
   "cell_type": "code",
   "execution_count": 171,
   "metadata": {},
   "outputs": [
    {
     "data": {
      "image/png": "[encoded data removed]",
      "text/plain": [
       "<matplotlib.figure.Figure at 0x13677fe10>"
      ]
     },
     "metadata": {},
     "output_type": "display_data"
    }
   ],
   "source": [
    "compare_kine('x', targ1_idx, targ1_and_diff_idx)"
   ]
  },
  {
   "cell_type": "code",
   "execution_count": 172,
   "metadata": {},
   "outputs": [
    {
     "data": {
      "image/png": "[encoded data removed]",
      "text/plain": [
       "<matplotlib.figure.Figure at 0x136754e10>"
      ]
     },
     "metadata": {},
     "output_type": "display_data"
    }
   ],
   "source": [
    "compare_kine('y', targ1_idx, targ1_and_diff_idx, ylim=0.35)"
   ]
  },
  {
   "cell_type": "code",
   "execution_count": 173,
   "metadata": {},
   "outputs": [
    {
     "data": {
      "image/png": "[encoded data removed]",
      "text/plain": [
       "<matplotlib.figure.Figure at 0x12c2f1d10>"
      ]
     },
     "metadata": {},
     "output_type": "display_data"
    }
   ],
   "source": [
    "compare_kine('Q2', targ1_idx, targ1_and_diff_idx, ylim=0.99)"
   ]
  },
  {
   "cell_type": "code",
   "execution_count": 174,
   "metadata": {},
   "outputs": [
    {
     "data": {
      "image/png": "[encoded data removed]",
      "text/plain": [
       "<matplotlib.figure.Figure at 0x128ec36d0>"
      ]
     },
     "metadata": {},
     "output_type": "display_data"
    }
   ],
   "source": [
    "compare_kine('W', targ1_idx, targ1_and_diff_idx, ylim=0.6)"
   ]
  },
  {
   "cell_type": "code",
   "execution_count": 175,
   "metadata": {},
   "outputs": [
    {
     "name": "stdout",
     "output_type": "stream",
     "text": [
      "52379\n",
      "16408\n"
     ]
    }
   ],
   "source": [
    "same_idx = df['planecode_natural'] == df['planecode_targbal']\n",
    "diff_idx = df['planecode_natural'] != df['planecode_targbal']\n",
    "same_idx &= targ1_idx\n",
    "diff_idx &= targ1_idx\n",
    "print(np.sum(same_idx))\n",
    "print(np.sum(diff_idx))"
   ]
  },
  {
   "cell_type": "code",
   "execution_count": 176,
   "metadata": {
    "collapsed": true
   },
   "outputs": [],
   "source": [
    "def make_plane_assignment_indices(plane_type):\n",
    "    targ1_upstrm_idx = df[plane_type] == 5\n",
    "    targ1_upstrm_idx |= df[plane_type] == 6\n",
    "    targ1_upstrm_idx |= df[plane_type] == 7\n",
    "    targ1_upstrm_idx |= df[plane_type] == 8\n",
    "    targ1_idx = df[plane_type] == 9\n",
    "    targ1_dwnstrm_idx = df[plane_type] == 10\n",
    "    targ1_dwnstrm_idx |= df[plane_type] == 11\n",
    "    targ1_dwnstrm_idx |= df[plane_type] == 12\n",
    "    targ1_dwnstrm_idx |= df[plane_type] == 13\n",
    "\n",
    "    return targ1_upstrm_idx, targ1_idx, targ1_dwnstrm_idx"
   ]
  },
  {
   "cell_type": "code",
   "execution_count": 177,
   "metadata": {
    "collapsed": true
   },
   "outputs": [],
   "source": [
    "t1_true_up, t1_true, t1_true_down = make_plane_assignment_indices('true_plane')\n",
    "t1_natl_up, t1_natl, t1_natl_down = make_plane_assignment_indices('planecode_natural')\n",
    "t1_tbal_up, t1_tbal, t1_tbal_down = make_plane_assignment_indices('planecode_targbal')"
   ]
  },
  {
   "cell_type": "code",
   "execution_count": 178,
   "metadata": {},
   "outputs": [
    {
     "data": {
      "image/png": "[encoded data removed]",
      "text/plain": [
       "<matplotlib.figure.Figure at 0x129182590>"
      ]
     },
     "metadata": {},
     "output_type": "display_data"
    }
   ],
   "source": [
    "compare_kine('x', t1_true, t1_true_down, ptitle='true targ 1 and true targ 1 down', xtitle='x')"
   ]
  },
  {
   "cell_type": "code",
   "execution_count": 179,
   "metadata": {},
   "outputs": [
    {
     "data": {
      "image/png": "[encoded data removed]",
      "text/plain": [
       "<matplotlib.figure.Figure at 0x128f755d0>"
      ]
     },
     "metadata": {},
     "output_type": "display_data"
    }
   ],
   "source": [
    "compare_kine('x', t1_true, t1_true_up, ptitle='true targ 1 and true targ 1 up', xtitle='x')"
   ]
  },
  {
   "cell_type": "code",
   "execution_count": 180,
   "metadata": {},
   "outputs": [
    {
     "data": {
      "image/png": "[encoded data removed]",
      "text/plain": [
       "<matplotlib.figure.Figure at 0x139eb3450>"
      ]
     },
     "metadata": {},
     "output_type": "display_data"
    }
   ],
   "source": [
    "compare_kine('x', t1_natl, t1_natl_down, ptitle='natural targ 1 and natural targ 1 down', xtitle='x')"
   ]
  },
  {
   "cell_type": "code",
   "execution_count": 181,
   "metadata": {},
   "outputs": [
    {
     "data": {
      "image/png": "[encoded data removed]",
      "text/plain": [
       "<matplotlib.figure.Figure at 0x128eaf250>"
      ]
     },
     "metadata": {},
     "output_type": "display_data"
    }
   ],
   "source": [
    "compare_kine('x', t1_tbal, t1_tbal_down, ptitle='target-balanced targ 1 and target-balanced targ 1 down', xtitle='x')"
   ]
  },
  {
   "cell_type": "code",
   "execution_count": 182,
   "metadata": {},
   "outputs": [
    {
     "data": {
      "image/png": "[encoded data removed]",
      "text/plain": [
       "<matplotlib.figure.Figure at 0x12c1928d0>"
      ]
     },
     "metadata": {},
     "output_type": "display_data"
    },
    {
     "data": {
      "image/png": "[encoded data removed]",
      "text/plain": [
       "<matplotlib.figure.Figure at 0x12910f7d0>"
      ]
     },
     "metadata": {},
     "output_type": "display_data"
    },
    {
     "data": {
      "image/png": "[encoded data removed]",
      "text/plain": [
       "<matplotlib.figure.Figure at 0x12910fad0>"
      ]
     },
     "metadata": {},
     "output_type": "display_data"
    }
   ],
   "source": [
    "# compare t1_true_down but also t1_natl to t1_true\n",
    "t1_true_down_and_t1_natl = t1_true_down & t1_natl\n",
    "compare_kine('x', t1_true, t1_true_down_and_t1_natl, ptitle='true 1 and true 1 down but natural assigned 1', xtitle='x')\n",
    "compare_kine('y', t1_true, t1_true_down_and_t1_natl, ylim=0.35, ptitle='true 1 and true 1 down but natural assigned 1', xtitle='y')\n",
    "compare_kine('W', t1_true, t1_true_down_and_t1_natl, ylim=0.5, ptitle='true 1 and true 1 down but natural assigned 1', xtitle='W')"
   ]
  },
  {
   "cell_type": "code",
   "execution_count": 183,
   "metadata": {},
   "outputs": [
    {
     "data": {
      "image/png": "[encoded data removed]",
      "text/plain": [
       "<matplotlib.figure.Figure at 0x1296dbb90>"
      ]
     },
     "metadata": {},
     "output_type": "display_data"
    },
    {
     "data": {
      "image/png": "[encoded data removed]",
      "text/plain": [
       "<matplotlib.figure.Figure at 0x1294524d0>"
      ]
     },
     "metadata": {},
     "output_type": "display_data"
    },
    {
     "data": {
      "image/png": "[encoded data removed]",
      "text/plain": [
       "<matplotlib.figure.Figure at 0x13bfcb890>"
      ]
     },
     "metadata": {},
     "output_type": "display_data"
    }
   ],
   "source": [
    "# compare t1_true_down but also t1_tbal to t1_true\n",
    "t1_true_down_and_t1_tbal = t1_true_down & t1_tbal\n",
    "compare_kine('x', t1_true, t1_true_down_and_t1_tbal, ptitle='true 1 and true 1 down but t-bal assigned 1', xtitle='x')\n",
    "compare_kine('y', t1_true, t1_true_down_and_t1_tbal, ylim=0.35, ptitle='true 1 and true 1 down but t-bal assigned 1', xtitle='y')\n",
    "compare_kine('W', t1_true, t1_true_down_and_t1_tbal, ylim=0.5, ptitle='true 1 and true 1 down but t-bal assigned 1', xtitle='W')"
   ]
  },
  {
   "cell_type": "code",
   "execution_count": null,
   "metadata": {
    "collapsed": true
   },
   "outputs": [],
   "source": []
  }
 ],
 "metadata": {
  "kernelspec": {
   "display_name": "Python 2",
   "language": "python",
   "name": "python2"
  },
  "language_info": {
   "codemirror_mode": {
    "name": "ipython",
    "version": 2
   },
   "file_extension": ".py",
   "mimetype": "text/x-python",
   "name": "python",
   "nbconvert_exporter": "python",
   "pygments_lexer": "ipython2",
   "version": "2.7.13"
  }
 },
 "nbformat": 4,
 "nbformat_minor": 2
}
