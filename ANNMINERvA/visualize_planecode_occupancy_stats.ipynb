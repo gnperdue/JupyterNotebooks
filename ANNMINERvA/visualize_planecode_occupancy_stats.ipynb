{
 "cells": [
  {
   "cell_type": "code",
   "execution_count": 1,
   "metadata": {
    "collapsed": true
   },
   "outputs": [],
   "source": [
    "import numpy as np\n",
    "import matplotlib.pyplot as plt\n",
    "import h5py\n",
    "%matplotlib inline"
   ]
  },
  {
   "cell_type": "code",
   "execution_count": 2,
   "metadata": {},
   "outputs": [
    {
     "name": "stdout",
     "output_type": "stream",
     "text": [
      "['', '/Users/perdue/miniconda2/envs/py2mnv_pda/lib/python27.zip', '/Users/perdue/miniconda2/envs/py2mnv_pda/lib/python2.7', '/Users/perdue/miniconda2/envs/py2mnv_pda/lib/python2.7/plat-darwin', '/Users/perdue/miniconda2/envs/py2mnv_pda/lib/python2.7/plat-mac', '/Users/perdue/miniconda2/envs/py2mnv_pda/lib/python2.7/plat-mac/lib-scriptpackages', '/Users/perdue/miniconda2/envs/py2mnv_pda/lib/python2.7/lib-tk', '/Users/perdue/miniconda2/envs/py2mnv_pda/lib/python2.7/lib-old', '/Users/perdue/miniconda2/envs/py2mnv_pda/lib/python2.7/lib-dynload', '/Users/perdue/miniconda2/envs/py2mnv_pda/lib/python2.7/site-packages', '/Users/perdue/miniconda2/envs/py2mnv_pda/lib/python2.7/site-packages/cycler-0.10.0-py2.7.egg', '/Users/perdue/miniconda2/envs/py2mnv_pda/lib/python2.7/site-packages/mccabe-0.6.1-py2.7.egg', '/Users/perdue/miniconda2/envs/py2mnv_pda/lib/python2.7/site-packages/IPython/extensions', '/Users/perdue/.ipython', '/Users/perdue/Documents/MINERvA/AI/ANNMINERvA']\n"
     ]
    }
   ],
   "source": [
    "import sys\n",
    "sys.path.append('/Users/perdue/Documents/MINERvA/AI/ANNMINERvA')\n",
    "print(sys.path)\n",
    "from evtid_utils import decode_eventid"
   ]
  },
  {
   "cell_type": "code",
   "execution_count": 20,
   "metadata": {
    "collapsed": true
   },
   "outputs": [],
   "source": [
    "SAMPLE = 'me1Nmc_targetonly'\n",
    "PROCESSING = '201804'\n",
    "\n",
    "SAMPLE = 'me1Emc'\n",
    "PROCESSING = '201801'"
   ]
  },
  {
   "cell_type": "code",
   "execution_count": 21,
   "metadata": {},
   "outputs": [
    {
     "name": "stdout",
     "output_type": "stream",
     "text": [
      "event_data/eventids         -   uint64 (2028880, 1)\n",
      "event_data/eventids_a       -   uint32 (2028880, 1)\n",
      "event_data/eventids_b       -   uint32 (2028880, 1)\n",
      "  gen_data/Q2               -  float32 (2028880, 1)\n",
      "  gen_data/W                -  float32 (2028880, 1)\n",
      "  gen_data/current          -   uint32 (2028880, 1)\n",
      "  gen_data/int_type         -   uint32 (2028880, 1)\n",
      "  gen_data/targetZ          -   uint32 (2028880, 1)\n",
      "  gen_data/x                -  float32 (2028880, 1)\n",
      "  gen_data/y                -  float32 (2028880, 1)\n",
      "hadro_data/esum_chgdkaons   -  float32 (2028880, 1)\n",
      "hadro_data/esum_chgdpions   -  float32 (2028880, 1)\n",
      "hadro_data/esum_hadmultmeas -  float32 (2028880, 1)\n",
      "hadro_data/esum_neutpions   -  float32 (2028880, 1)\n",
      "hadro_data/esum_neutrons    -  float32 (2028880, 1)\n",
      "hadro_data/esum_others      -  float32 (2028880, 1)\n",
      "hadro_data/esum_protons     -  float32 (2028880, 1)\n",
      "hadro_data/n_chgdkaons      -   uint32 (2028880, 1)\n",
      "hadro_data/n_chgdpions      -   uint32 (2028880, 1)\n",
      "hadro_data/n_hadmultmeas    -   uint32 (2028880, 1)\n",
      "hadro_data/n_neutpions      -   uint32 (2028880, 1)\n",
      "hadro_data/n_neutrons       -   uint32 (2028880, 1)\n",
      "hadro_data/n_others         -   uint32 (2028880, 1)\n",
      "hadro_data/n_protons        -   uint32 (2028880, 1)\n",
      "  img_data/hitimes-u        -  float32 (2028880, 2, 127, 47)\n",
      "  img_data/hitimes-v        -  float32 (2028880, 2, 127, 47)\n",
      "  img_data/hitimes-x        -  float32 (2028880, 2, 127, 94)\n",
      "lepto_data/esum_electrons   -  float32 (2028880, 1)\n",
      "lepto_data/esum_muons       -  float32 (2028880, 1)\n",
      "lepto_data/esum_taus        -  float32 (2028880, 1)\n",
      "lepto_data/n_electrons      -   uint32 (2028880, 1)\n",
      "lepto_data/n_muons          -   uint32 (2028880, 1)\n",
      "lepto_data/n_taus           -   uint32 (2028880, 1)\n",
      "  vtx_data/planecodes       -   uint16 (2028880, 1)\n",
      "  vtx_data/segments         -    uint8 (2028880, 1)\n",
      "  vtx_data/zs               -  float32 (2028880, 1)\n"
     ]
    }
   ],
   "source": [
    "DIR_PATH = '/Users/perdue/Documents/MINERvA/AI/hdf5/{}/'.format(PROCESSING)\n",
    "f = h5py.File(DIR_PATH + 'hadmultkineimgs_127x94_{}.hdf5'.format(SAMPLE), 'r')\n",
    "\n",
    "for group in f:\n",
    "    for dset in f[group]:\n",
    "        print '{:>10}/{:<16} - {:>8} {}'.format(group, dset, np.dtype(f[group][dset]), np.shape(f[group][dset]))"
   ]
  },
  {
   "cell_type": "code",
   "execution_count": 22,
   "metadata": {},
   "outputs": [
    {
     "data": {
      "text/plain": [
       "2028880"
      ]
     },
     "execution_count": 22,
     "metadata": {},
     "output_type": "execute_result"
    }
   ],
   "source": [
    "len(f['event_data']['eventids'][:])"
   ]
  },
  {
   "cell_type": "code",
   "execution_count": 23,
   "metadata": {},
   "outputs": [
    {
     "name": "stdout",
     "output_type": "stream",
     "text": [
      "[u'eventids', u'eventids_a', u'eventids_b']\n"
     ]
    }
   ],
   "source": [
    "print f['event_data'].keys()"
   ]
  },
  {
   "cell_type": "code",
   "execution_count": 24,
   "metadata": {},
   "outputs": [
    {
     "data": {
      "image/png": "[encoded data removed]",
      "text/plain": [
       "<matplotlib.figure.Figure at 0x10a082e10>"
      ]
     },
     "metadata": {},
     "output_type": "display_data"
    }
   ],
   "source": [
    "n, bins, patches = plt.hist(f['vtx_data']['segments'][:], bins=11, range=(0, 11))"
   ]
  },
  {
   "cell_type": "code",
   "execution_count": 25,
   "metadata": {},
   "outputs": [
    {
     "data": {
      "text/plain": [
       "[(0, 17932.0),\n",
       " (1, 104272.0),\n",
       " (2, 111929.0),\n",
       " (3, 91369.0),\n",
       " (4, 65933.0),\n",
       " (5, 85634.0),\n",
       " (6, 36217.0),\n",
       " (7, 38149.0),\n",
       " (8, 106419.0),\n",
       " (9, 9638.0),\n",
       " (10, 1361388.0)]"
      ]
     },
     "execution_count": 25,
     "metadata": {},
     "output_type": "execute_result"
    }
   ],
   "source": [
    "list(zip(range(0, 11), n))"
   ]
  },
  {
   "cell_type": "code",
   "execution_count": 26,
   "metadata": {},
   "outputs": [
    {
     "data": {
      "text/plain": [
       "array([ 0.01317185,  0.07659242,  0.08221683,  0.06711459,  0.04843072,\n",
       "        0.06290198,  0.026603  ,  0.02802214,  0.07816949,  0.00707954,  1.        ])"
      ]
     },
     "execution_count": 26,
     "metadata": {},
     "output_type": "execute_result"
    }
   ],
   "source": [
    "n / n[-1]"
   ]
  },
  {
   "cell_type": "code",
   "execution_count": 27,
   "metadata": {},
   "outputs": [
    {
     "data": {
      "text/plain": [
       "array([ 0.53747491,  0.09243133,  0.08610816,  0.10548435,  0.1461787 ,\n",
       "        0.11254875,  0.26611812,  0.25264096,  0.09056653,  1.        ,\n",
       "        0.00707954])"
      ]
     },
     "execution_count": 27,
     "metadata": {},
     "output_type": "execute_result"
    }
   ],
   "source": [
    "1.0 / (n / n[-2])"
   ]
  },
  {
   "cell_type": "code",
   "execution_count": 28,
   "metadata": {
    "collapsed": true
   },
   "outputs": [],
   "source": [
    "runnums = [int(decode_eventid(eid[0])[0]) for eid in f['event_data']['eventids'][:500]]\n",
    "subnums = [int(decode_eventid(eid[0])[1]) for eid in f['event_data']['eventids'][:500]]\n",
    "gatnums = [int(decode_eventid(eid[0])[2]) for eid in f['event_data']['eventids'][:500]]\n",
    "phynums = [int(decode_eventid(eid[0])[3]) for eid in f['event_data']['eventids'][:500]]"
   ]
  },
  {
   "cell_type": "code",
   "execution_count": 29,
   "metadata": {},
   "outputs": [
    {
     "data": {
      "image/png": "[encoded data removed]",
      "text/plain": [
       "<matplotlib.figure.Figure at 0x10bdc1790>"
      ]
     },
     "metadata": {},
     "output_type": "display_data"
    }
   ],
   "source": [
    "fig = plt.figure(figsize=(12,4))\n",
    "gs = plt.GridSpec(2, 3)\n",
    "\n",
    "ax = plt.subplot(gs[0])\n",
    "n, bins, patches = plt.hist(f['event_data']['eventids'][:])\n",
    "plt.ylabel('eventids')\n",
    "\n",
    "ax = plt.subplot(gs[1])\n",
    "n, bins, patches = plt.hist(runnums)\n",
    "plt.ylabel('runnums')\n",
    "\n",
    "ax = plt.subplot(gs[2])\n",
    "n, bins, patches = plt.hist(subnums)\n",
    "plt.ylabel('subums')\n",
    "\n",
    "ax = plt.subplot(gs[3])\n",
    "n, bins, patches = plt.hist(gatnums)\n",
    "plt.ylabel('gate nums')\n",
    "\n",
    "ax = plt.subplot(gs[4])\n",
    "n, bins, patches = plt.hist(phynums)\n",
    "plt.ylabel('phy evt nums')\n",
    "\n",
    "plt.tight_layout()"
   ]
  },
  {
   "cell_type": "code",
   "execution_count": 30,
   "metadata": {},
   "outputs": [
    {
     "name": "stdout",
     "output_type": "stream",
     "text": [
      "111325\n",
      "1113500500116201\n",
      "1113250001000001\n"
     ]
    }
   ],
   "source": [
    "print max(runnums)\n",
    "print np.max(f['event_data']['eventids'][:])\n",
    "print np.min(f['event_data']['eventids'][:])"
   ]
  },
  {
   "cell_type": "code",
   "execution_count": 31,
   "metadata": {},
   "outputs": [
    {
     "data": {
      "text/plain": [
       "(0, 172)"
      ]
     },
     "execution_count": 31,
     "metadata": {},
     "output_type": "execute_result"
    }
   ],
   "source": [
    "np.min(f['vtx_data']['planecodes']), np.max(f['vtx_data']['planecodes'])"
   ]
  },
  {
   "cell_type": "code",
   "execution_count": 32,
   "metadata": {},
   "outputs": [
    {
     "data": {
      "image/png": "[encoded data removed]",
      "text/plain": [
       "<matplotlib.figure.Figure at 0x10bd920d0>"
      ]
     },
     "metadata": {},
     "output_type": "display_data"
    }
   ],
   "source": [
    "fig = plt.figure(figsize=(8, 6))\n",
    "n, bins, patches = plt.hist(f['vtx_data']['planecodes'][:], bins=174, range=(0, 174))\n",
    "plt.grid()\n",
    "plt.xlabel('planecode')\n",
    "plt.ylabel('events per planecode')\n",
    "plt.title('events for {}'.format(SAMPLE))\n",
    "\n",
    "fig.savefig('planecode_distribution_{}.pdf'.format(SAMPLE), bbox_inches='tight')"
   ]
  },
  {
   "cell_type": "code",
   "execution_count": 33,
   "metadata": {},
   "outputs": [
    {
     "data": {
      "image/png": "[encoded data removed]",
      "text/plain": [
       "<matplotlib.figure.Figure at 0x10c664150>"
      ]
     },
     "metadata": {},
     "output_type": "display_data"
    }
   ],
   "source": [
    "fig = plt.figure(figsize=(8, 6))\n",
    "n, bins, patches = plt.hist(f['vtx_data']['planecodes'][:], bins=60, range=(0, 60))\n",
    "plt.grid()\n",
    "plt.xlabel('planecode')\n",
    "plt.ylabel('events per planecode')\n",
    "plt.title('events for {}'.format(SAMPLE))\n",
    "\n",
    "fig.savefig('planecode_distribution_{}_zoomed.pdf'.format(SAMPLE), bbox_inches='tight')"
   ]
  },
  {
   "cell_type": "code",
   "execution_count": 34,
   "metadata": {},
   "outputs": [
    {
     "data": {
      "image/png": "[encoded data removed]",
      "text/plain": [
       "<matplotlib.figure.Figure at 0x10bd854d0>"
      ]
     },
     "metadata": {},
     "output_type": "display_data"
    }
   ],
   "source": [
    "fig = plt.figure(figsize=(8, 6))\n",
    "n, bins, patches = plt.hist(f['vtx_data']['planecodes'][:], bins=20, range=(0, 20))\n",
    "plt.grid()\n",
    "plt.xlabel('planecode')\n",
    "plt.ylabel('events per planecode')\n",
    "plt.title('events for {}'.format(SAMPLE))\n",
    "\n",
    "fig.savefig('planecode_distribution_{}_zoomed_tight.pdf'.format(SAMPLE), bbox_inches='tight')"
   ]
  },
  {
   "cell_type": "code",
   "execution_count": 35,
   "metadata": {},
   "outputs": [
    {
     "data": {
      "image/png": "[encoded data removed]",
      "text/plain": [
       "<matplotlib.figure.Figure at 0x10c057750>"
      ]
     },
     "metadata": {},
     "output_type": "display_data"
    }
   ],
   "source": [
    "fig = plt.figure(figsize=(8, 6))\n",
    "plt.scatter(f['vtx_data']['planecodes'][:], f['vtx_data']['zs'][:])\n",
    "plt.xlabel('planecode')\n",
    "plt.ylabel('z (mm)')\n",
    "plt.title('z vs. planecode for {}'.format(SAMPLE))\n",
    "\n",
    "fig.savefig('z_vs_planecode_{}.png'.format(SAMPLE), bbox_inches='tight')"
   ]
  },
  {
   "cell_type": "markdown",
   "metadata": {},
   "source": [
    "### some futzing around for \"balanced\" samples"
   ]
  },
  {
   "cell_type": "code",
   "execution_count": 38,
   "metadata": {},
   "outputs": [
    {
     "data": {
      "text/plain": [
       "Text(0.5,1,u'events for me1Nmc_targetonly')"
      ]
     },
     "execution_count": 38,
     "metadata": {},
     "output_type": "execute_result"
    },
    {
     "data": {
      "image/png": "[encoded data removed]",
      "text/plain": [
       "<matplotlib.figure.Figure at 0x108137790>"
      ]
     },
     "metadata": {},
     "output_type": "display_data"
    }
   ],
   "source": [
    "fig = plt.figure(figsize=(8, 6))\n",
    "n, bins, patches = plt.hist(f['vtx_data']['planecodes'][:], bins=174, range=(0, 174))\n",
    "plt.grid()\n",
    "plt.xlabel('planecode')\n",
    "plt.ylabel('events per planecode')\n",
    "plt.title('events for {}'.format(SAMPLE))"
   ]
  },
  {
   "cell_type": "code",
   "execution_count": 39,
   "metadata": {},
   "outputs": [
    {
     "data": {
      "text/plain": [
       "array([   5076.,    1908.,    2200.,    2812.,    3939.,    5904.,\n",
       "          7357.,   15474.,   16676.,  211090.,   17603.,   17650.])"
      ]
     },
     "execution_count": 39,
     "metadata": {},
     "output_type": "execute_result"
    }
   ],
   "source": [
    "n[:12]"
   ]
  },
  {
   "cell_type": "code",
   "execution_count": 40,
   "metadata": {},
   "outputs": [
    {
     "name": "stdout",
     "output_type": "stream",
     "text": [
      "[ 1.          1.          1.          1.          1.          1.          1.\n",
      "  1.          1.          0.08339097  1.          0.99733711  0.98760099\n",
      "  0.98665994  0.98450783  0.97501939  0.96996914  0.95793426  0.07699575\n",
      "  0.95569792  0.95264639  0.94406307  0.93642941  0.94792676  0.93290582\n",
      "  0.94477243  0.91335028  0.10124464  0.9183056   0.90345925  0.9224924\n",
      "  0.89034444  0.89233031  0.88319703  0.9058769   0.86804083  0.0972101\n",
      "  0.84148382  0.83371223  0.84874638  0.83979772  0.84621671  0.83446314\n",
      "  0.82724752  0.82092058  0.17134208  0.82748084  0.81310915  0.81480281\n",
      "  0.80500297  0.12902682  0.80548183  0.80173984  0.80570304  0.78228602\n",
      "  0.79096832  0.78976177  0.7792731   0.77467764  0.78598857  0.76312481\n",
      "  1.          1.          1.          1.          1.          1.          1.\n",
      "  1.          1.          1.          1.          1.          1.          1.\n",
      "  1.          1.          1.          1.          1.          1.          1.\n",
      "  1.          1.          1.          1.          1.          1.          1.\n",
      "  1.          1.          1.          1.          1.          1.          1.\n",
      "  1.          1.          1.          1.          1.          1.          1.\n",
      "  1.          1.          1.          1.          1.          1.          1.\n",
      "  1.          1.          1.          1.          1.          1.          1.\n",
      "  1.          1.          1.          1.          1.          1.          1.\n",
      "  1.          1.          1.          1.          1.          1.          1.\n",
      "  1.          1.          1.          1.          1.          1.          1.\n",
      "  1.          1.          1.          1.          1.          1.          1.\n",
      "  1.          1.          1.          1.          1.          1.          1.\n",
      "  1.          1.          1.          1.          1.          1.          1.\n",
      "  1.          1.          1.          1.          1.          1.          1.\n",
      "  1.          1.          1.          1.          1.          1.          1.\n",
      "  1.        ]\n"
     ]
    },
    {
     "name": "stderr",
     "output_type": "stream",
     "text": [
      "/Users/perdue/miniconda2/envs/py2mnv_pda/lib/python2.7/site-packages/ipykernel_launcher.py:1: RuntimeWarning: divide by zero encountered in divide\n",
      "  \"\"\"Entry point for launching an IPython kernel.\n"
     ]
    }
   ],
   "source": [
    "# normalize everything to plane 10\n",
    "v = 1.0 / (n / n[10])\n",
    "v[np.where(v > 1.0)] = 1.0\n",
    "print(v)"
   ]
  },
  {
   "cell_type": "code",
   "execution_count": 41,
   "metadata": {
    "collapsed": true
   },
   "outputs": [],
   "source": [
    "target_plane_codes = {9: 1, 18: 2, 27: 3, 36: 6, 45: 4, 50: 5}\n",
    "targs = target_plane_codes.keys()"
   ]
  },
  {
   "cell_type": "code",
   "execution_count": 42,
   "metadata": {},
   "outputs": [
    {
     "name": "stdout",
     "output_type": "stream",
     "text": [
      "1 0.113755094377\n",
      "2 0.0811952247856\n",
      "3 0.0804709062518\n",
      "4 0.207892072886\n",
      "5 0.160233528062\n",
      "6 0.110550653952\n"
     ]
    }
   ],
   "source": [
    "kfrac = []\n",
    "for t in targs:\n",
    "    # compute the fraction of events we should accept to make the number\n",
    "    # in the target equal to the average of the planes immediately up\n",
    "    # down stream of it\n",
    "    kf = (0.5) * (n[t - 1] + n[t + 1]) / n[t]\n",
    "    kfrac.append(kf)\n",
    "    \n",
    "for i, kf in enumerate(kfrac):\n",
    "    print i+1, kf"
   ]
  },
  {
   "cell_type": "code",
   "execution_count": 43,
   "metadata": {},
   "outputs": [
    {
     "name": "stdout",
     "output_type": "stream",
     "text": [
      "[ 0.11375509  0.08119522  0.08047091  0.20789207  0.16023353  0.11055065]\n"
     ]
    }
   ],
   "source": [
    "kfrac = np.array(kfrac)\n",
    "print kfrac"
   ]
  },
  {
   "cell_type": "code",
   "execution_count": 44,
   "metadata": {},
   "outputs": [
    {
     "name": "stdout",
     "output_type": "stream",
     "text": [
      "0.113755094377, 0.0811952247856, 0.0804709062518, 0.207892072886, 0.160233528062, 0.110550653952\n"
     ]
    }
   ],
   "source": [
    "kstr = [str(x) for x in kfrac]\n",
    "print ', '.join(kstr)"
   ]
  },
  {
   "cell_type": "code",
   "execution_count": 45,
   "metadata": {
    "collapsed": true
   },
   "outputs": [],
   "source": [
    "vstr = []\n",
    "for i, x in enumerate(v):\n",
    "    if (i + 1) % 5 == 0:\n",
    "        vstr.append(str(x) + '\\n')\n",
    "    else:\n",
    "        vstr.append(str(x))\n",
    "       \n",
    "# print(','.join(list(vstr)))\n",
    "\n",
    "#with open('code.cxx', 'w') as fl:\n",
    "#    fl.write(','.join(list(vstr)))"
   ]
  },
  {
   "cell_type": "code",
   "execution_count": 36,
   "metadata": {
    "collapsed": true
   },
   "outputs": [],
   "source": [
    "f.close()"
   ]
  },
  {
   "cell_type": "markdown",
   "metadata": {},
   "source": [
    "### some paper plots"
   ]
  },
  {
   "cell_type": "code",
   "execution_count": 22,
   "metadata": {
    "collapsed": true
   },
   "outputs": [],
   "source": [
    "from matplotlib import rc\n",
    "rc('font',**{'family':'sans-serif','sans-serif':['Helvetica']})\n",
    "## for Palatino and other serif fonts use:\n",
    "#rc('font',**{'family':'serif','serif':['Palatino']})\n",
    "rc('text', usetex=True)"
   ]
  },
  {
   "cell_type": "code",
   "execution_count": 23,
   "metadata": {
    "collapsed": true
   },
   "outputs": [],
   "source": [
    "plt.rc('text', usetex=True)\n",
    "plt.rc('font', family='serif')"
   ]
  },
  {
   "cell_type": "code",
   "execution_count": 24,
   "metadata": {},
   "outputs": [
    {
     "data": {
      "image/png": "[encoded data removed]",
      "text/plain": [
       "<matplotlib.figure.Figure at 0x110ec8410>"
      ]
     },
     "metadata": {},
     "output_type": "display_data"
    }
   ],
   "source": [
    "fig = plt.figure(figsize=(8, 6))\n",
    "fig.subplots_adjust(bottom=0.025, left=0.025, top=0.975, right=0.975)\n",
    "\n",
    "ax1 = plt.subplot(2, 1, 1)\n",
    "_, _, _ = plt.hist(f['event_data']['planecodes'][:], bins=173, range=(0, 172))\n",
    "plt.xlim(-1, 173)\n",
    "plt.title('Planecode occupancy in ME1B-Eroica+', fontsize=21)\n",
    "plt.ylabel('number of events', fontsize=18)\n",
    "\n",
    "ax2 = plt.subplot(2, 1, 2)\n",
    "_, _, _ = plt.hist(f['event_data']['planecodes'][:], bins=66, range=(0, 65))\n",
    "plt.xlim(-1, 67)\n",
    "plt.xlabel('plane', fontsize=18)\n",
    "plt.ylabel('number of events', fontsize=18)\n",
    "\n",
    "fig.savefig('planecode_occupancy_me1Bmc_eroicaplus.pdf', bbox_inches='tight')"
   ]
  },
  {
   "cell_type": "code",
   "execution_count": 25,
   "metadata": {},
   "outputs": [
    {
     "data": {
      "image/png": "[encoded data removed]",
      "text/plain": [
       "<matplotlib.figure.Figure at 0x113753bd0>"
      ]
     },
     "metadata": {},
     "output_type": "display_data"
    }
   ],
   "source": [
    "nums, bins, _ = plt.hist(f['event_data']['segments'][:], bins=11, range=(0, 10))"
   ]
  },
  {
   "cell_type": "code",
   "execution_count": 26,
   "metadata": {
    "collapsed": true
   },
   "outputs": [],
   "source": [
    "new_nums = np.zeros_like(nums)\n",
    "new_nums[0] = nums[0]\n",
    "new_nums[1] = nums[1]\n",
    "new_nums[2] = nums[6]\n",
    "new_nums[3] = nums[2]\n",
    "new_nums[4] = nums[7]\n",
    "new_nums[5] = nums[3]\n",
    "new_nums[6] = nums[8]\n",
    "new_nums[7] = nums[4]\n",
    "new_nums[8] = nums[9]\n",
    "new_nums[9] = nums[5]\n",
    "new_nums[10] = nums[10]"
   ]
  },
  {
   "cell_type": "code",
   "execution_count": 27,
   "metadata": {},
   "outputs": [
    {
     "name": "stdout",
     "output_type": "stream",
     "text": [
      "[  13391.   72733.   78633.   64183.   46697.   60206.   26231.   26726.\n",
      "   75937.    6832.  982315.]\n",
      "[  13391.   72733.   26231.   78633.   26726.   64183.   75937.   46697.\n",
      "    6832.   60206.  982315.]\n"
     ]
    }
   ],
   "source": [
    "print(nums)\n",
    "print(new_nums)"
   ]
  },
  {
   "cell_type": "code",
   "execution_count": 28,
   "metadata": {},
   "outputs": [
    {
     "data": {
      "text/plain": [
       "[None, None, None, None, None, None, None, None, None, None, None]"
      ]
     },
     "execution_count": 28,
     "metadata": {},
     "output_type": "execute_result"
    }
   ],
   "source": [
    "new_data = []\n",
    "[new_data.extend([i] * int(new_nums[i])) for i in range(11)]\n",
    "#new_data.extend([0] * 5)\n",
    "#new_data"
   ]
  },
  {
   "cell_type": "code",
   "execution_count": 29,
   "metadata": {},
   "outputs": [
    {
     "data": {
      "text/plain": [
       "1453884"
      ]
     },
     "execution_count": 29,
     "metadata": {},
     "output_type": "execute_result"
    }
   ],
   "source": [
    "len(new_data)"
   ]
  },
  {
   "cell_type": "code",
   "execution_count": 30,
   "metadata": {},
   "outputs": [
    {
     "data": {
      "image/png": "[encoded data removed]",
      "text/plain": [
       "<matplotlib.figure.Figure at 0x1143cd8d0>"
      ]
     },
     "metadata": {},
     "output_type": "display_data"
    }
   ],
   "source": [
    "fig = plt.figure(figsize=(8, 6))\n",
    "fig.subplots_adjust(bottom=0.025, left=0.025, top=0.975, right=0.975)\n",
    "\n",
    "ax1 = plt.subplot(2, 1, 1)\n",
    "_, _, _ = plt.hist(new_data, bins=11, range=(0, 10))\n",
    "plt.xlim(-1, 12)\n",
    "plt.title('Segment occupancy in ME1B-0000', fontsize=21)\n",
    "plt.ylabel('number of events', fontsize=18)\n",
    "\n",
    "ax2 = plt.subplot(2, 1, 2)\n",
    "_, _, _ = plt.hist(new_data, bins=10, range=(0, 9))\n",
    "plt.xlim(-1, 12)\n",
    "plt.xlabel('segment', fontsize=18)\n",
    "plt.ylabel('number of events', fontsize=18)\n",
    "\n",
    "fig.savefig('segment_occupancy_me1Bmc_0000.pdf', bbox_inches='tight')"
   ]
  },
  {
   "cell_type": "code",
   "execution_count": 32,
   "metadata": {
    "collapsed": true
   },
   "outputs": [],
   "source": [
    "import plane_codes"
   ]
  },
  {
   "cell_type": "code",
   "execution_count": 33,
   "metadata": {},
   "outputs": [
    {
     "data": {
      "text/plain": [
       "{0: (-999, -999, -999),\n",
       " 1: (-5, 1, 0),\n",
       " 2: (-5, 2, 0),\n",
       " 3: (-4, 1, 0),\n",
       " 4: (-4, 2, 0),\n",
       " 5: (-3, 1, 0),\n",
       " 6: (-3, 2, 0),\n",
       " 7: (-2, 1, 0),\n",
       " 8: (-2, 2, 0),\n",
       " 9: (-1, 0, 1),\n",
       " 10: (0, 1, 0),\n",
       " 11: (0, 2, 0),\n",
       " 12: (1, 1, 0),\n",
       " 13: (1, 2, 0),\n",
       " 14: (2, 1, 0),\n",
       " 15: (2, 2, 0),\n",
       " 16: (3, 1, 0),\n",
       " 17: (3, 2, 0),\n",
       " 18: (4, 0, 2),\n",
       " 19: (5, 1, 0),\n",
       " 20: (5, 2, 0),\n",
       " 21: (6, 1, 0),\n",
       " 22: (6, 2, 0),\n",
       " 23: (7, 1, 0),\n",
       " 24: (7, 2, 0),\n",
       " 25: (8, 1, 0),\n",
       " 26: (8, 2, 0),\n",
       " 27: (9, 0, 3),\n",
       " 28: (11, 1, 0),\n",
       " 29: (11, 2, 0),\n",
       " 30: (12, 1, 0),\n",
       " 31: (12, 2, 0),\n",
       " 32: (13, 1, 0),\n",
       " 33: (13, 2, 0),\n",
       " 34: (14, 1, 0),\n",
       " 35: (14, 2, 0),\n",
       " 36: (15, 1, 0),\n",
       " 37: (15, 2, 0),\n",
       " 38: (16, 1, 0),\n",
       " 39: (16, 2, 0),\n",
       " 40: (17, 1, 0),\n",
       " 41: (17, 2, 0),\n",
       " 42: (18, 1, 0),\n",
       " 43: (18, 2, 0),\n",
       " 44: (19, 0, 4),\n",
       " 45: (20, 1, 0),\n",
       " 46: (20, 2, 0),\n",
       " 47: (21, 1, 0),\n",
       " 48: (21, 2, 0),\n",
       " 49: (22, 0, 5),\n",
       " 50: (23, 1, 0),\n",
       " 51: (23, 2, 0),\n",
       " 52: (24, 1, 0),\n",
       " 53: (24, 2, 0),\n",
       " 54: (25, 1, 0),\n",
       " 55: (25, 2, 0),\n",
       " 56: (26, 1, 0),\n",
       " 57: (26, 2, 0),\n",
       " 58: (27, 1, 0),\n",
       " 59: (27, 2, 0),\n",
       " 60: (28, 1, 0),\n",
       " 61: (28, 2, 0),\n",
       " 62: (29, 1, 0),\n",
       " 63: (29, 2, 0),\n",
       " 64: (30, 1, 0),\n",
       " 65: (30, 2, 0),\n",
       " 66: (31, 1, 0),\n",
       " 67: (31, 2, 0),\n",
       " 68: (32, 1, 0),\n",
       " 69: (32, 2, 0),\n",
       " 70: (33, 1, 0),\n",
       " 71: (33, 2, 0),\n",
       " 72: (34, 1, 0),\n",
       " 73: (34, 2, 0),\n",
       " 74: (35, 1, 0),\n",
       " 75: (35, 2, 0),\n",
       " 76: (36, 1, 0),\n",
       " 77: (36, 2, 0),\n",
       " 78: (37, 1, 0),\n",
       " 79: (37, 2, 0),\n",
       " 80: (38, 1, 0),\n",
       " 81: (38, 2, 0),\n",
       " 82: (39, 1, 0),\n",
       " 83: (39, 2, 0),\n",
       " 84: (40, 1, 0),\n",
       " 85: (40, 2, 0),\n",
       " 86: (41, 1, 0),\n",
       " 87: (41, 2, 0),\n",
       " 88: (42, 1, 0),\n",
       " 89: (42, 2, 0),\n",
       " 90: (43, 1, 0),\n",
       " 91: (43, 2, 0),\n",
       " 92: (44, 1, 0),\n",
       " 93: (44, 2, 0),\n",
       " 94: (45, 1, 0),\n",
       " 95: (45, 2, 0),\n",
       " 96: (46, 1, 0),\n",
       " 97: (46, 2, 0),\n",
       " 98: (47, 1, 0),\n",
       " 99: (47, 2, 0),\n",
       " 100: (48, 1, 0),\n",
       " 101: (48, 2, 0),\n",
       " 102: (49, 1, 0),\n",
       " 103: (49, 2, 0),\n",
       " 104: (50, 1, 0),\n",
       " 105: (50, 2, 0),\n",
       " 106: (51, 1, 0),\n",
       " 107: (51, 2, 0),\n",
       " 108: (52, 1, 0),\n",
       " 109: (52, 2, 0),\n",
       " 110: (53, 1, 0),\n",
       " 111: (53, 2, 0),\n",
       " 112: (54, 1, 0),\n",
       " 113: (54, 2, 0),\n",
       " 114: (55, 1, 0),\n",
       " 115: (55, 2, 0),\n",
       " 116: (56, 1, 0),\n",
       " 117: (56, 2, 0),\n",
       " 118: (57, 1, 0),\n",
       " 119: (57, 2, 0),\n",
       " 120: (58, 1, 0),\n",
       " 121: (58, 2, 0),\n",
       " 122: (59, 1, 0),\n",
       " 123: (59, 2, 0),\n",
       " 124: (60, 1, 0),\n",
       " 125: (60, 2, 0),\n",
       " 126: (61, 1, 0),\n",
       " 127: (61, 2, 0),\n",
       " 128: (62, 1, 0),\n",
       " 129: (62, 2, 0),\n",
       " 130: (63, 1, 0),\n",
       " 131: (63, 2, 0),\n",
       " 132: (64, 1, 0),\n",
       " 133: (64, 2, 0),\n",
       " 134: (65, 1, 0),\n",
       " 135: (65, 2, 0),\n",
       " 136: (66, 1, 0),\n",
       " 137: (66, 2, 0),\n",
       " 138: (67, 1, 0),\n",
       " 139: (67, 2, 0),\n",
       " 140: (68, 1, 0),\n",
       " 141: (68, 2, 0),\n",
       " 142: (69, 1, 0),\n",
       " 143: (69, 2, 0),\n",
       " 144: (70, 1, 0),\n",
       " 145: (70, 2, 0),\n",
       " 146: (71, 1, 0),\n",
       " 147: (71, 2, 0),\n",
       " 148: (72, 1, 0),\n",
       " 149: (72, 2, 0),\n",
       " 150: (73, 1, 0),\n",
       " 151: (73, 2, 0),\n",
       " 152: (74, 1, 0),\n",
       " 153: (74, 2, 0),\n",
       " 154: (75, 1, 0),\n",
       " 155: (75, 2, 0),\n",
       " 156: (76, 1, 0),\n",
       " 157: (76, 2, 0),\n",
       " 158: (77, 1, 0),\n",
       " 159: (77, 2, 0),\n",
       " 160: (78, 1, 0),\n",
       " 161: (78, 2, 0),\n",
       " 162: (79, 1, 0),\n",
       " 163: (79, 2, 0),\n",
       " 164: (80, 1, 0),\n",
       " 165: (80, 2, 0),\n",
       " 166: (81, 1, 0),\n",
       " 167: (81, 2, 0),\n",
       " 168: (82, 1, 0),\n",
       " 169: (82, 2, 0),\n",
       " 170: (83, 1, 0),\n",
       " 171: (83, 2, 0),\n",
       " 172: (84, 1, 0),\n",
       " 173: (84, 2, 0),\n",
       " 174: (85, 1, 0),\n",
       " 175: (85, 2, 0),\n",
       " 176: (86, 1, 0),\n",
       " 177: (86, 2, 0),\n",
       " 178: (87, 1, 0),\n",
       " 179: (87, 2, 0),\n",
       " 180: (88, 1, 0),\n",
       " 181: (88, 2, 0),\n",
       " 182: (89, 1, 0),\n",
       " 183: (89, 2, 0),\n",
       " 184: (90, 1, 0),\n",
       " 185: (90, 2, 0),\n",
       " 186: (91, 1, 0),\n",
       " 187: (91, 2, 0),\n",
       " 188: (92, 1, 0),\n",
       " 189: (92, 2, 0),\n",
       " 190: (93, 1, 0),\n",
       " 191: (93, 2, 0),\n",
       " 192: (94, 1, 0),\n",
       " 193: (94, 2, 0),\n",
       " 194: (95, 2, 0),\n",
       " 195: (96, 2, 0),\n",
       " 196: (97, 2, 0),\n",
       " 197: (98, 2, 0),\n",
       " 198: (99, 2, 0),\n",
       " 199: (100, 2, 0),\n",
       " 200: (101, 2, 0),\n",
       " 201: (102, 2, 0),\n",
       " 202: (103, 2, 0),\n",
       " 203: (104, 2, 0),\n",
       " 204: (105, 2, 0),\n",
       " 205: (106, 2, 0),\n",
       " 206: (107, 2, 0),\n",
       " 207: (108, 2, 0),\n",
       " 208: (109, 2, 0),\n",
       " 209: (110, 2, 0),\n",
       " 210: (111, 2, 0),\n",
       " 211: (112, 2, 0),\n",
       " 212: (113, 2, 0),\n",
       " 213: (114, 2, 0)}"
      ]
     },
     "execution_count": 33,
     "metadata": {},
     "output_type": "execute_result"
    }
   ],
   "source": [
    "plane_codes.build_reversed_indexed_codes()"
   ]
  },
  {
   "cell_type": "code",
   "execution_count": 34,
   "metadata": {},
   "outputs": [
    {
     "data": {
      "image/png": "[encoded data removed]",
      "text/plain": [
       "<matplotlib.figure.Figure at 0x1137ef710>"
      ]
     },
     "metadata": {},
     "output_type": "display_data"
    }
   ],
   "source": [
    "n, bins, patches = plt.hist(f['event_data']['planecodes'][:], bins=np.arange(174))  # need 174 to see all?"
   ]
  },
  {
   "cell_type": "code",
   "execution_count": 35,
   "metadata": {
    "collapsed": true
   },
   "outputs": [],
   "source": [
    "planes = np.zeros(np.shape(f['event_data']['planecodes']))\n",
    "f['event_data']['planecodes'].read_direct(planes)"
   ]
  },
  {
   "cell_type": "code",
   "execution_count": 36,
   "metadata": {},
   "outputs": [
    {
     "data": {
      "text/plain": [
       "(array([ 23826.,    485.,    569.,    668.,   1024.,   1657.,   2083.,\n",
       "          4249.,   4648.,  58536.,   5012.,   5038.,   5049.,   5224.,\n",
       "          5163.,   5146.,   5102.,   5218.,  63465.,   5231.,   5306.,\n",
       "          5026.,   5194.,   5182.,   5365.,   5343.,   5463.,  48270.,\n",
       "          5508.,   5550.,   5488.,   5545.,   5534.,   5655.,   5612.,\n",
       "          5812.,   5964.,   6003.,   5906.,   5886.,   6010.,   5988.,\n",
       "          5934.,   6152.,  28728.,   6290.,   6122.,   6212.,   6061.,\n",
       "         38233.,   6268.,   6239.,   6348.,   6376.,   6218.,   6381.,\n",
       "          6323.,   6449.,   6480.,   6547.,   6427.,   6522.,   6491.,\n",
       "          6474.,   6699.,   6582.,   6593.,   6729.,   6766.,   6748.]),\n",
       " array([ 0,  1,  2,  3,  4,  5,  6,  7,  8,  9, 10, 11, 12, 13, 14, 15, 16,\n",
       "        17, 18, 19, 20, 21, 22, 23, 24, 25, 26, 27, 28, 29, 30, 31, 32, 33,\n",
       "        34, 35, 36, 37, 38, 39, 40, 41, 42, 43, 44, 45, 46, 47, 48, 49, 50,\n",
       "        51, 52, 53, 54, 55, 56, 57, 58, 59, 60, 61, 62, 63, 64, 65, 66, 67,\n",
       "        68, 69, 70]),\n",
       " <a list of 70 Patch objects>)"
      ]
     },
     "execution_count": 36,
     "metadata": {},
     "output_type": "execute_result"
    },
    {
     "data": {
      "image/png": "[encoded data removed]",
      "text/plain": [
       "<matplotlib.figure.Figure at 0x1118cea50>"
      ]
     },
     "metadata": {},
     "output_type": "display_data"
    }
   ],
   "source": [
    "plt.hist(planes[planes < 70], bins=np.arange(71))  # last bins are `[67, 68), [68, 69), [69, 70)`"
   ]
  },
  {
   "cell_type": "code",
   "execution_count": 37,
   "metadata": {},
   "outputs": [
    {
     "name": "stdout",
     "output_type": "stream",
     "text": [
      "65\n",
      "66\n"
     ]
    },
    {
     "data": {
      "image/png": "[encoded data removed]",
      "text/plain": [
       "<matplotlib.figure.Figure at 0x11428dc50>"
      ]
     },
     "metadata": {},
     "output_type": "display_data"
    }
   ],
   "source": [
    "n, bins, _ = plt.hist(planes[planes < 66], bins=np.arange(66))\n",
    "print len(n)\n",
    "print len(bins)"
   ]
  },
  {
   "cell_type": "code",
   "execution_count": 38,
   "metadata": {},
   "outputs": [
    {
     "name": "stdout",
     "output_type": "stream",
     "text": [
      "True\n"
     ]
    }
   ],
   "source": [
    "print any(planes == 67)"
   ]
  },
  {
   "cell_type": "code",
   "execution_count": 39,
   "metadata": {},
   "outputs": [
    {
     "name": "stdout",
     "output_type": "stream",
     "text": [
      "True\n"
     ]
    }
   ],
   "source": [
    "print any(planes > 66)"
   ]
  },
  {
   "cell_type": "code",
   "execution_count": 40,
   "metadata": {},
   "outputs": [
    {
     "name": "stdout",
     "output_type": "stream",
     "text": [
      "False\n"
     ]
    }
   ],
   "source": [
    "print any(planes < 0)"
   ]
  },
  {
   "cell_type": "code",
   "execution_count": 41,
   "metadata": {},
   "outputs": [
    {
     "data": {
      "image/png": "[encoded data removed]",
      "text/plain": [
       "<matplotlib.figure.Figure at 0x111649450>"
      ]
     },
     "metadata": {},
     "output_type": "display_data"
    }
   ],
   "source": [
    "a = np.where(planes >= 8)\n",
    "b = np.where(planes <= 11)\n",
    "c = list(set(a[0]) & set(b[0]))\n",
    "n, bins, patches = plt.hist(planes[c])    # tgt1 == 9"
   ]
  },
  {
   "cell_type": "code",
   "execution_count": 42,
   "metadata": {},
   "outputs": [
    {
     "data": {
      "image/png": "[encoded data removed]",
      "text/plain": [
       "<matplotlib.figure.Figure at 0x10f703fd0>"
      ]
     },
     "metadata": {},
     "output_type": "display_data"
    }
   ],
   "source": [
    "a = np.where(planes >= 17)\n",
    "b = np.where(planes <= 20)\n",
    "c = list(set(a[0]) & set(b[0]))\n",
    "n, bins, patches = plt.hist(planes[c])    # tgt2 == 18"
   ]
  },
  {
   "cell_type": "code",
   "execution_count": 43,
   "metadata": {},
   "outputs": [
    {
     "data": {
      "image/png": "[encoded data removed]",
      "text/plain": [
       "<matplotlib.figure.Figure at 0x1103e2610>"
      ]
     },
     "metadata": {},
     "output_type": "display_data"
    }
   ],
   "source": [
    "a = np.where(planes >= 26)\n",
    "b = np.where(planes <= 29)\n",
    "c = list(set(a[0]) & set(b[0]))\n",
    "n, bins, patches = plt.hist(planes[c])    # tgt3 == 27"
   ]
  },
  {
   "cell_type": "code",
   "execution_count": 44,
   "metadata": {},
   "outputs": [
    {
     "data": {
      "image/png": "[encoded data removed]",
      "text/plain": [
       "<matplotlib.figure.Figure at 0x1211627d0>"
      ]
     },
     "metadata": {},
     "output_type": "display_data"
    }
   ],
   "source": [
    "a = np.where(planes >= 43)\n",
    "b = np.where(planes <= 46)\n",
    "c = list(set(a[0]) & set(b[0]))\n",
    "n, bins, patches = plt.hist(planes[c])    # tgt4 == 44"
   ]
  },
  {
   "cell_type": "code",
   "execution_count": 45,
   "metadata": {},
   "outputs": [
    {
     "data": {
      "image/png": "[encoded data removed]",
      "text/plain": [
       "<matplotlib.figure.Figure at 0x1192f3ed0>"
      ]
     },
     "metadata": {},
     "output_type": "display_data"
    }
   ],
   "source": [
    "a = np.where(planes >= 48)\n",
    "b = np.where(planes <= 51)\n",
    "c = list(set(a[0]) & set(b[0]))\n",
    "n, bins, patches = plt.hist(planes[c])    # tgt5 == 49"
   ]
  },
  {
   "cell_type": "code",
   "execution_count": 46,
   "metadata": {
    "collapsed": true
   },
   "outputs": [],
   "source": [
    "segments = np.zeros(np.shape(f['event_data']['segments']))\n",
    "f['event_data']['segments'].read_direct(segments)"
   ]
  },
  {
   "cell_type": "code",
   "execution_count": 47,
   "metadata": {},
   "outputs": [
    {
     "data": {
      "text/plain": [
       "(array([  13391.,   72733.,   78633.,   64183.,   46697.,   60206.,\n",
       "          26231.,   26726.,   75937.,    6832.,  982315.]),\n",
       " array([ 0,  1,  2,  3,  4,  5,  6,  7,  8,  9, 10, 11]),\n",
       " <a list of 11 Patch objects>)"
      ]
     },
     "execution_count": 47,
     "metadata": {},
     "output_type": "execute_result"
    },
    {
     "data": {
      "image/png": "[encoded data removed]",
      "text/plain": [
       "<matplotlib.figure.Figure at 0x12184ca10>"
      ]
     },
     "metadata": {},
     "output_type": "display_data"
    }
   ],
   "source": [
    "plt.hist(segments, bins=np.arange(12))"
   ]
  },
  {
   "cell_type": "code",
   "execution_count": 48,
   "metadata": {},
   "outputs": [
    {
     "name": "stdout",
     "output_type": "stream",
     "text": [
      "0.0\n",
      "172.0\n"
     ]
    }
   ],
   "source": [
    "print np.min(planes)\n",
    "print np.max(planes)"
   ]
  },
  {
   "cell_type": "code",
   "execution_count": null,
   "metadata": {
    "collapsed": true
   },
   "outputs": [],
   "source": []
  }
 ],
 "metadata": {
  "kernelspec": {
   "display_name": "Python 2",
   "language": "python",
   "name": "python2"
  },
  "language_info": {
   "codemirror_mode": {
    "name": "ipython",
    "version": 2
   },
   "file_extension": ".py",
   "mimetype": "text/x-python",
   "name": "python",
   "nbconvert_exporter": "python",
   "pygments_lexer": "ipython2",
   "version": "2.7.13"
  }
 },
 "nbformat": 4,
 "nbformat_minor": 1
}
