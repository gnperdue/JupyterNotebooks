{
 "cells": [
  {
   "cell_type": "markdown",
   "metadata": {},
   "source": [
    "### Neural network sizes"
   ]
  },
  {
   "cell_type": "markdown",
   "metadata": {},
   "source": [
    "How many parameters are in our \"alpha\" model? Three \"columns\" with 2 convolution and pooling layers per column, feeding a dense layer, then concatenated and fed into another dense layer..."
   ]
  },
  {
   "cell_type": "code",
   "execution_count": 2,
   "metadata": {
    "collapsed": false
   },
   "outputs": [
    {
     "name": "stderr",
     "output_type": "stream",
     "text": [
      "/Users/perdue/anaconda/lib/python2.7/site-packages/matplotlib/font_manager.py:273: UserWarning: Matplotlib is building the font cache using fc-list. This may take a moment.\n",
      "  warnings.warn('Matplotlib is building the font cache using fc-list. This may take a moment.')\n"
     ]
    }
   ],
   "source": [
    "import numpy as np\n",
    "import matplotlib.pyplot as plt\n",
    "%matplotlib inline"
   ]
  },
  {
   "cell_type": "code",
   "execution_count": 3,
   "metadata": {
    "collapsed": true
   },
   "outputs": [],
   "source": [
    "imgw = 50\n",
    "imgh = 50\n",
    "depth = 1\n",
    "nviews = 3  # instead of rgb depth, we have x,u,v views..."
   ]
  },
  {
   "cell_type": "markdown",
   "metadata": {},
   "source": [
    "Real image dimensionality is (because u, v are interspersed with zero-columns to pad to the same size as x):"
   ]
  },
  {
   "cell_type": "code",
   "execution_count": 4,
   "metadata": {
    "collapsed": false
   },
   "outputs": [
    {
     "name": "stdout",
     "output_type": "stream",
     "text": [
      "5000\n"
     ]
    }
   ],
   "source": [
    "input_dim = imgw * imgh * 2\n",
    "print input_dim"
   ]
  },
  {
   "cell_type": "markdown",
   "metadata": {},
   "source": [
    "Per branch (view):"
   ]
  },
  {
   "cell_type": "code",
   "execution_count": 5,
   "metadata": {
    "collapsed": false
   },
   "outputs": [
    {
     "name": "stdout",
     "output_type": "stream",
     "text": [
      "320 24 24 32\n"
     ]
    }
   ],
   "source": [
    "# first layer has 32 3x3 filters\n",
    "# weights should have shape (num_filters, num_input_channels, filter_rows, filter_columns)\n",
    "filtw = 3\n",
    "filth = 3\n",
    "num_filters = 32\n",
    "npars = filtw * filth * num_filters * depth\n",
    "\n",
    "# biases? usually broadcast over depth? - yes...\n",
    "# biases should have shape (num_filters,)\n",
    "npars += num_filters\n",
    "\n",
    "# new image size, with 2x2 maxpooling\n",
    "imgw = (imgw - filtw + 1) / 2\n",
    "imgh = (imgh - filth + 1) / 2\n",
    "depth = num_filters\n",
    "\n",
    "print npars, imgh, imgw, depth"
   ]
  },
  {
   "cell_type": "code",
   "execution_count": 6,
   "metadata": {
    "collapsed": false
   },
   "outputs": [
    {
     "name": "stdout",
     "output_type": "stream",
     "text": [
      "9568 11 11 32\n"
     ]
    }
   ],
   "source": [
    "# second layer has 32 3x3 filters\n",
    "filtw = 3\n",
    "filth = 3\n",
    "num_filters = 32\n",
    "npars += filtw * filth * num_filters * depth\n",
    "npars += num_filters\n",
    "\n",
    "# new image size, with 2x2 maxpooling\n",
    "imgw = (imgw - filtw + 1) / 2\n",
    "imgh = (imgh - filth + 1) / 2\n",
    "depth = num_filters\n",
    "\n",
    "print npars, imgh, imgw, depth"
   ]
  },
  {
   "cell_type": "code",
   "execution_count": 7,
   "metadata": {
    "collapsed": false
   },
   "outputs": [
    {
     "name": "stdout",
     "output_type": "stream",
     "text": [
      "1001056\n"
     ]
    }
   ],
   "source": [
    "# now, feed into fully connected layer\n",
    "# dense layers should have size (num_inputs, num_units) with biases having size (num_units,)\n",
    "npars += imgh * imgw * depth * 256 + 256\n",
    "\n",
    "print npars"
   ]
  },
  {
   "cell_type": "code",
   "execution_count": 8,
   "metadata": {
    "collapsed": false
   },
   "outputs": [
    {
     "name": "stdout",
     "output_type": "stream",
     "text": [
      "3003168\n"
     ]
    }
   ],
   "source": [
    "# 3 views\n",
    "npars *= 3\n",
    "\n",
    "print npars"
   ]
  },
  {
   "cell_type": "code",
   "execution_count": 9,
   "metadata": {
    "collapsed": false
   },
   "outputs": [
    {
     "name": "stdout",
     "output_type": "stream",
     "text": [
      "3011627\n"
     ]
    }
   ],
   "source": [
    "# final dense layer of 11 outs\n",
    "npars += 11 * (256 * 3) + 11\n",
    "\n",
    "print npars"
   ]
  },
  {
   "cell_type": "code",
   "execution_count": 10,
   "metadata": {
    "collapsed": false
   },
   "outputs": [
    {
     "name": "stdout",
     "output_type": "stream",
     "text": [
      "12.046508\n"
     ]
    }
   ],
   "source": [
    "# datasize for float32 (4 bytes) in MB\n",
    "size = npars * 4 / 1000000.\n",
    "\n",
    "print size"
   ]
  },
  {
   "cell_type": "markdown",
   "metadata": {},
   "source": [
    "We observe a size on disk for this network of about 11 MB."
   ]
  },
  {
   "cell_type": "markdown",
   "metadata": {},
   "source": [
    "The size alone suggests how many params?"
   ]
  },
  {
   "cell_type": "code",
   "execution_count": 11,
   "metadata": {
    "collapsed": false
   },
   "outputs": [
    {
     "data": {
      "text/plain": [
       "2750000.0"
      ]
     },
     "execution_count": 11,
     "metadata": {},
     "output_type": "execute_result"
    }
   ],
   "source": [
    "11e6 / 4."
   ]
  },
  {
   "cell_type": "code",
   "execution_count": 12,
   "metadata": {
    "collapsed": false
   },
   "outputs": [
    {
     "data": {
      "text/plain": [
       "0.08687231187660358"
      ]
     },
     "execution_count": 12,
     "metadata": {},
     "output_type": "execute_result"
    }
   ],
   "source": [
    "(npars - 11e6 / 4.) / npars"
   ]
  },
  {
   "cell_type": "code",
   "execution_count": 13,
   "metadata": {
    "collapsed": false
   },
   "outputs": [],
   "source": [
    "with np.load('models/lminervatriamese_model1457383290_alpha_v1r0.npz') as f:\n",
    "    param_values = [f['arr_%d' % i] for i in range(len(f.files))]"
   ]
  },
  {
   "cell_type": "code",
   "execution_count": 14,
   "metadata": {
    "collapsed": false
   },
   "outputs": [
    {
     "data": {
      "text/plain": [
       "20"
      ]
     },
     "execution_count": 14,
     "metadata": {},
     "output_type": "execute_result"
    }
   ],
   "source": [
    "len(param_values)"
   ]
  },
  {
   "cell_type": "code",
   "execution_count": 16,
   "metadata": {
    "collapsed": false
   },
   "outputs": [
    {
     "name": "stdout",
     "output_type": "stream",
     "text": [
      "00, conv-x         , (32, 1, 3, 3)\n",
      "01, bias-x         , (32,)\n",
      "02, conv-x         , (32, 32, 3, 3)\n",
      "03, bias-x         , (32,)\n",
      "04, dense-x        , (3872, 256)\n",
      "05, bias-x         , (256,)\n",
      "06, conv-u         , (32, 1, 3, 3)\n",
      "07, bias-u         , (32,)\n",
      "08, conv-u         , (32, 32, 3, 3)\n",
      "09, bias-u         , (32,)\n",
      "10, dense-u        , (3872, 256)\n",
      "11, bias-u         , (256,)\n",
      "12, conv-v         , (32, 1, 3, 3)\n",
      "13, bias-v         , (32,)\n",
      "14, conv-v         , (32, 32, 3, 3)\n",
      "15, bias-v         , (32,)\n",
      "16, dense-v        , (3872, 256)\n",
      "17, bias-v         , (256,)\n",
      "18, across-dense1  , (768, 11)\n",
      "19, accros-bias1   , (11,)\n"
     ]
    }
   ],
   "source": [
    "layer_names = {0:'conv-x', 1:'bias-x', 2:'conv-x', 3:'bias-x', 4:'dense-x', 5:'bias-x',\n",
    "               6:'conv-u', 7:'bias-u', 8:'conv-u', 9:'bias-u', 10:'dense-u', 11:'bias-u',\n",
    "               12:'conv-v', 13:'bias-v', 14:'conv-v', 15:'bias-v', 16:'dense-v', 17:'bias-v',\n",
    "               18:'across-dense1', 19:'accros-bias1'\n",
    "              }\n",
    "for i, p in enumerate(param_values):\n",
    "    print \"{:02d}, {:15s}, {}\".format(i, layer_names[i], np.shape(p))"
   ]
  },
  {
   "cell_type": "code",
   "execution_count": 15,
   "metadata": {
    "collapsed": false
   },
   "outputs": [
    {
     "name": "stdout",
     "output_type": "stream",
     "text": [
      "00, (32, 1, 3, 3)\n",
      "01, (32,)\n",
      "02, (32, 32, 3, 3)\n",
      "03, (32,)\n",
      "04, (3872, 256)\n",
      "05, (256,)\n",
      "06, (32, 1, 3, 3)\n",
      "07, (32,)\n",
      "08, (32, 32, 3, 3)\n",
      "09, (32,)\n",
      "10, (3872, 256)\n",
      "11, (256,)\n",
      "12, (32, 1, 3, 3)\n",
      "13, (32,)\n",
      "14, (32, 32, 3, 3)\n",
      "15, (32,)\n",
      "16, (3872, 256)\n",
      "17, (256,)\n",
      "18, (768, 11)\n",
      "19, (11,)\n"
     ]
    }
   ],
   "source": [
    "for i, p in enumerate(param_values):\n",
    "    print \"{:02d}, {}\".format(i, np.shape(p))"
   ]
  },
  {
   "cell_type": "markdown",
   "metadata": {},
   "source": [
    "3872 is the size of the image after two series of 3x3 convolution and 2x2 maxpooling (starting with 50x50) times a depth of 32 (the number of filters in the second convolutional layer). "
   ]
  },
  {
   "cell_type": "code",
   "execution_count": 17,
   "metadata": {
    "collapsed": false
   },
   "outputs": [
    {
     "data": {
      "text/plain": [
       "3011627"
      ]
     },
     "execution_count": 17,
     "metadata": {},
     "output_type": "execute_result"
    }
   ],
   "source": [
    "3 * (32 * 1 * 3 * 3 + 32 + 32 * 32 * 3 * 3 + 32 + 3872 * 256 + 256) + 768 * 11 + 11"
   ]
  },
  {
   "cell_type": "code",
   "execution_count": null,
   "metadata": {
    "collapsed": true
   },
   "outputs": [],
   "source": []
  }
 ],
 "metadata": {
  "kernelspec": {
   "display_name": "Python 2",
   "language": "python",
   "name": "python2"
  },
  "language_info": {
   "codemirror_mode": {
    "name": "ipython",
    "version": 2
   },
   "file_extension": ".py",
   "mimetype": "text/x-python",
   "name": "python",
   "nbconvert_exporter": "python",
   "pygments_lexer": "ipython2",
   "version": "2.7.11"
  }
 },
 "nbformat": 4,
 "nbformat_minor": 0
}
