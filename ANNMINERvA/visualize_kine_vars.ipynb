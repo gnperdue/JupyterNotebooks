{
 "cells": [
  {
   "cell_type": "code",
   "execution_count": 1,
   "metadata": {
    "collapsed": true
   },
   "outputs": [],
   "source": [
    "import numpy as np\n",
    "import matplotlib.pyplot as plt\n",
    "import h5py\n",
    "%matplotlib inline"
   ]
  },
  {
   "cell_type": "code",
   "execution_count": 2,
   "metadata": {},
   "outputs": [
    {
     "name": "stdout",
     "output_type": "stream",
     "text": [
      "event_data/eventids         -   uint64 (211, 1)\n",
      "event_data/eventids_a       -   uint32 (211, 1)\n",
      "event_data/eventids_b       -   uint32 (211, 1)\n",
      "  gen_data/Q2               -  float32 (211, 1)\n",
      "  gen_data/W                -  float32 (211, 1)\n",
      "  gen_data/current          -   uint32 (211, 1)\n",
      "  gen_data/int_type         -   uint32 (211, 1)\n",
      "  gen_data/targetZ          -   uint32 (211, 1)\n",
      "  gen_data/x                -  float32 (211, 1)\n",
      "  gen_data/y                -  float32 (211, 1)\n",
      "hadro_data/esum_chgdkaons   -  float32 (211, 1)\n",
      "hadro_data/esum_chgdpions   -  float32 (211, 1)\n",
      "hadro_data/esum_hadmultmeas -  float32 (211, 1)\n",
      "hadro_data/esum_neutpions   -  float32 (211, 1)\n",
      "hadro_data/esum_neutrons    -  float32 (211, 1)\n",
      "hadro_data/esum_others      -  float32 (211, 1)\n",
      "hadro_data/esum_protons     -  float32 (211, 1)\n",
      "hadro_data/n_chgdkaons      -   uint32 (211, 1)\n",
      "hadro_data/n_chgdpions      -   uint32 (211, 1)\n",
      "hadro_data/n_hadmultmeas    -   uint32 (211, 1)\n",
      "hadro_data/n_neutpions      -   uint32 (211, 1)\n",
      "hadro_data/n_neutrons       -   uint32 (211, 1)\n",
      "hadro_data/n_others         -   uint32 (211, 1)\n",
      "hadro_data/n_protons        -   uint32 (211, 1)\n",
      "  img_data/hitimes-u        -  float32 (211, 2, 127, 47)\n",
      "  img_data/hitimes-v        -  float32 (211, 2, 127, 47)\n",
      "  img_data/hitimes-x        -  float32 (211, 2, 127, 94)\n",
      "lepto_data/esum_electrons   -  float32 (211, 1)\n",
      "lepto_data/esum_muons       -  float32 (211, 1)\n",
      "lepto_data/esum_taus        -  float32 (211, 1)\n",
      "lepto_data/n_electrons      -   uint32 (211, 1)\n",
      "lepto_data/n_muons          -   uint32 (211, 1)\n",
      "lepto_data/n_taus           -   uint32 (211, 1)\n",
      "  vtx_data/planecodes       -   uint16 (211, 1)\n",
      "  vtx_data/segments         -    uint8 (211, 1)\n",
      "  vtx_data/zs               -  float32 (211, 1)\n"
     ]
    }
   ],
   "source": [
    "DIR_PATH = '/Users/perdue/Documents/MINERvA/AI/hdf5/201805/'\n",
    "f = h5py.File(DIR_PATH + 'hadmultkineimgs_127x94_me1Amc_tiny.hdf5', 'r')\n",
    "\n",
    "for group in f:\n",
    "    for dset in f[group]:\n",
    "        print '{:>10}/{:<16} - {:>8} {}'.format(group, dset, np.dtype(f[group][dset]), np.shape(f[group][dset]))"
   ]
  },
  {
   "cell_type": "code",
   "execution_count": 3,
   "metadata": {},
   "outputs": [
    {
     "data": {
      "image/png": "[encoded data removed]",
      "text/plain": [
       "<matplotlib.figure.Figure at 0x108e79390>"
      ]
     },
     "metadata": {},
     "output_type": "display_data"
    }
   ],
   "source": [
    "n, bins, patches = plt.hist(f['gen_data']['Q2'][:, 0])"
   ]
  },
  {
   "cell_type": "code",
   "execution_count": 4,
   "metadata": {
    "collapsed": true
   },
   "outputs": [],
   "source": [
    "ok_q2_idx = f['gen_data']['Q2'][:, 0] > 0.0\n",
    "#ok_q2_idx"
   ]
  },
  {
   "cell_type": "code",
   "execution_count": 5,
   "metadata": {},
   "outputs": [
    {
     "data": {
      "image/png": "[encoded data removed]",
      "text/plain": [
       "<matplotlib.figure.Figure at 0x10af23d50>"
      ]
     },
     "metadata": {},
     "output_type": "display_data"
    }
   ],
   "source": [
    "n, bins, patches = plt.hist(f['gen_data']['Q2'][ok_q2_idx, 0] / 1000000.0)"
   ]
  },
  {
   "cell_type": "code",
   "execution_count": 6,
   "metadata": {},
   "outputs": [
    {
     "data": {
      "image/png": "[encoded data removed]",
      "text/plain": [
       "<matplotlib.figure.Figure at 0x10aeb2390>"
      ]
     },
     "metadata": {},
     "output_type": "display_data"
    }
   ],
   "source": [
    "n, bins, patches = plt.hist(f['gen_data']['W'][ok_q2_idx, 0])"
   ]
  },
  {
   "cell_type": "code",
   "execution_count": 10,
   "metadata": {},
   "outputs": [
    {
     "data": {
      "image/png": "[encoded data removed]",
      "text/plain": [
       "<matplotlib.figure.Figure at 0x10b00c690>"
      ]
     },
     "metadata": {},
     "output_type": "display_data"
    }
   ],
   "source": [
    "n, bins, patches = plt.hist(f['gen_data']['current'][ok_q2_idx, 0], np.arange(5))"
   ]
  },
  {
   "cell_type": "code",
   "execution_count": 11,
   "metadata": {},
   "outputs": [
    {
     "data": {
      "image/png": "[encoded data removed]",
      "text/plain": [
       "<matplotlib.figure.Figure at 0x10ae95150>"
      ]
     },
     "metadata": {},
     "output_type": "display_data"
    }
   ],
   "source": [
    "n, bins, patches = plt.hist(f['gen_data']['int_type'][ok_q2_idx, 0], np.arange(14))"
   ]
  },
  {
   "cell_type": "code",
   "execution_count": 12,
   "metadata": {},
   "outputs": [
    {
     "data": {
      "image/png": "[encoded data removed]",
      "text/plain": [
       "<matplotlib.figure.Figure at 0x10aeab2d0>"
      ]
     },
     "metadata": {},
     "output_type": "display_data"
    }
   ],
   "source": [
    "n, bins, patches = plt.hist(f['gen_data']['x'][ok_q2_idx, 0])"
   ]
  },
  {
   "cell_type": "code",
   "execution_count": 13,
   "metadata": {},
   "outputs": [
    {
     "data": {
      "image/png": "[encoded data removed]",
      "text/plain": [
       "<matplotlib.figure.Figure at 0x10b48c5d0>"
      ]
     },
     "metadata": {},
     "output_type": "display_data"
    }
   ],
   "source": [
    "n, bins, patches = plt.hist(f['gen_data']['y'][ok_q2_idx, 0])"
   ]
  },
  {
   "cell_type": "code",
   "execution_count": 14,
   "metadata": {},
   "outputs": [
    {
     "data": {
      "image/png": "[encoded data removed]",
      "text/plain": [
       "<matplotlib.figure.Figure at 0x10b4de1d0>"
      ]
     },
     "metadata": {},
     "output_type": "display_data"
    }
   ],
   "source": [
    "n, bins, patches = plt.hist(f['gen_data']['targetZ'][ok_q2_idx, 0], np.arange(100))"
   ]
  },
  {
   "cell_type": "code",
   "execution_count": null,
   "metadata": {
    "collapsed": true
   },
   "outputs": [],
   "source": []
  }
 ],
 "metadata": {
  "kernelspec": {
   "display_name": "Python 2",
   "language": "python",
   "name": "python2"
  },
  "language_info": {
   "codemirror_mode": {
    "name": "ipython",
    "version": 2
   },
   "file_extension": ".py",
   "mimetype": "text/x-python",
   "name": "python",
   "nbconvert_exporter": "python",
   "pygments_lexer": "ipython2",
   "version": "2.7.13"
  }
 },
 "nbformat": 4,
 "nbformat_minor": 1
}
