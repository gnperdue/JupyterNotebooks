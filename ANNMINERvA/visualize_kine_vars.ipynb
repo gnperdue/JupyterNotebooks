{
 "cells": [
  {
   "cell_type": "code",
   "execution_count": 1,
   "metadata": {
    "collapsed": true
   },
   "outputs": [],
   "source": [
    "import numpy as np\n",
    "import matplotlib.pyplot as plt\n",
    "import h5py\n",
    "%matplotlib inline"
   ]
  },
  {
   "cell_type": "code",
   "execution_count": 2,
   "metadata": {},
   "outputs": [
    {
     "name": "stdout",
     "output_type": "stream",
     "text": [
      "event_data/eventids         -   uint64 (500, 1)\n",
      "event_data/eventids_a       -   uint32 (500, 1)\n",
      "event_data/eventids_b       -   uint32 (500, 1)\n",
      "  gen_data/Q2               -  float32 (500, 1)\n",
      "  gen_data/W                -  float32 (500, 1)\n",
      "  gen_data/current          -   uint32 (500, 1)\n",
      "  gen_data/int_type         -   uint32 (500, 1)\n",
      "  gen_data/targetZ          -   uint32 (500, 1)\n",
      "  gen_data/x                -  float32 (500, 1)\n",
      "  gen_data/y                -  float32 (500, 1)\n",
      "hadro_data/esum_chgdkaons   -  float32 (500, 1)\n",
      "hadro_data/esum_chgdpions   -  float32 (500, 1)\n",
      "hadro_data/esum_hadmultmeas -  float32 (500, 1)\n",
      "hadro_data/esum_neutpions   -  float32 (500, 1)\n",
      "hadro_data/esum_neutrons    -  float32 (500, 1)\n",
      "hadro_data/esum_others      -  float32 (500, 1)\n",
      "hadro_data/esum_protons     -  float32 (500, 1)\n",
      "hadro_data/n_chgdkaons      -   uint32 (500, 1)\n",
      "hadro_data/n_chgdpions      -   uint32 (500, 1)\n",
      "hadro_data/n_hadmultmeas    -   uint32 (500, 1)\n",
      "hadro_data/n_neutpions      -   uint32 (500, 1)\n",
      "hadro_data/n_neutrons       -   uint32 (500, 1)\n",
      "hadro_data/n_others         -   uint32 (500, 1)\n",
      "hadro_data/n_protons        -   uint32 (500, 1)\n",
      "  img_data/hitimes-u        -  float32 (500, 2, 127, 47)\n",
      "  img_data/hitimes-v        -  float32 (500, 2, 127, 47)\n",
      "  img_data/hitimes-x        -  float32 (500, 2, 127, 94)\n",
      "lepto_data/esum_electrons   -  float32 (500, 1)\n",
      "lepto_data/esum_muons       -  float32 (500, 1)\n",
      "lepto_data/esum_taus        -  float32 (500, 1)\n",
      "lepto_data/n_electrons      -   uint32 (500, 1)\n",
      "lepto_data/n_muons          -   uint32 (500, 1)\n",
      "lepto_data/n_taus           -   uint32 (500, 1)\n",
      "  vtx_data/planecodes       -   uint16 (500, 1)\n",
      "  vtx_data/segments         -    uint8 (500, 1)\n",
      "  vtx_data/zs               -  float32 (500, 1)\n"
     ]
    }
   ],
   "source": [
    "DIR_PATH = '/Users/perdue/Documents/MINERvA/AI/hdf5/201801/'\n",
    "#f = h5py.File(DIR_PATH + 'hadmultkineimgs_127x94_me1Bmc_highW_cut1000MeV.hdf5', 'r')\n",
    "f = h5py.File(DIR_PATH + 'mnvimgs_127x94_me1Amc_tiny.hdf5', 'r')\n",
    "\n",
    "for group in f:\n",
    "    for dset in f[group]:\n",
    "        print '{:>10}/{:<16} - {:>8} {}'.format(group, dset, np.dtype(f[group][dset]), np.shape(f[group][dset]))"
   ]
  },
  {
   "cell_type": "code",
   "execution_count": 3,
   "metadata": {},
   "outputs": [
    {
     "data": {
      "image/png": "[encoded data removed]",
      "text/plain": [
       "<matplotlib.figure.Figure at 0x10849bf10>"
      ]
     },
     "metadata": {},
     "output_type": "display_data"
    }
   ],
   "source": [
    "n, bins, patches = plt.hist(f['gen_data']['Q2'][:, 0])"
   ]
  },
  {
   "cell_type": "code",
   "execution_count": 4,
   "metadata": {
    "collapsed": true
   },
   "outputs": [],
   "source": [
    "ok_q2_idx = f['gen_data']['Q2'][:, 0] > 0.0\n",
    "#ok_q2_idx"
   ]
  },
  {
   "cell_type": "code",
   "execution_count": 5,
   "metadata": {},
   "outputs": [
    {
     "data": {
      "image/png": "[encoded data removed]",
      "text/plain": [
       "<matplotlib.figure.Figure at 0x109a68190>"
      ]
     },
     "metadata": {},
     "output_type": "display_data"
    }
   ],
   "source": [
    "n, bins, patches = plt.hist(f['gen_data']['Q2'][ok_q2_idx, 0] / 1000000.0)"
   ]
  },
  {
   "cell_type": "code",
   "execution_count": 6,
   "metadata": {},
   "outputs": [
    {
     "data": {
      "image/png": "[encoded data removed]",
      "text/plain": [
       "<matplotlib.figure.Figure at 0x109a68250>"
      ]
     },
     "metadata": {},
     "output_type": "display_data"
    }
   ],
   "source": [
    "n, bins, patches = plt.hist(f['gen_data']['W'][ok_q2_idx, 0])"
   ]
  },
  {
   "cell_type": "code",
   "execution_count": 7,
   "metadata": {},
   "outputs": [
    {
     "data": {
      "image/png": "[encoded data removed]",
      "text/plain": [
       "<matplotlib.figure.Figure at 0x109c0fb10>"
      ]
     },
     "metadata": {},
     "output_type": "display_data"
    }
   ],
   "source": [
    "n, bins, patches = plt.hist(f['gen_data']['current'][ok_q2_idx, 0])"
   ]
  },
  {
   "cell_type": "code",
   "execution_count": 8,
   "metadata": {},
   "outputs": [
    {
     "data": {
      "image/png": "[encoded data removed]",
      "text/plain": [
       "<matplotlib.figure.Figure at 0x109d7f290>"
      ]
     },
     "metadata": {},
     "output_type": "display_data"
    }
   ],
   "source": [
    "n, bins, patches = plt.hist(f['gen_data']['int_type'][ok_q2_idx, 0], np.arange(14))"
   ]
  },
  {
   "cell_type": "code",
   "execution_count": 9,
   "metadata": {},
   "outputs": [
    {
     "data": {
      "image/png": "[encoded data removed]",
      "text/plain": [
       "<matplotlib.figure.Figure at 0x109c72150>"
      ]
     },
     "metadata": {},
     "output_type": "display_data"
    }
   ],
   "source": [
    "n, bins, patches = plt.hist(f['gen_data']['x'][ok_q2_idx, 0])"
   ]
  },
  {
   "cell_type": "code",
   "execution_count": 10,
   "metadata": {},
   "outputs": [
    {
     "data": {
      "image/png": "[encoded data removed]",
      "text/plain": [
       "<matplotlib.figure.Figure at 0x109c72b90>"
      ]
     },
     "metadata": {},
     "output_type": "display_data"
    }
   ],
   "source": [
    "n, bins, patches = plt.hist(f['gen_data']['y'][ok_q2_idx, 0])"
   ]
  },
  {
   "cell_type": "code",
   "execution_count": 11,
   "metadata": {},
   "outputs": [
    {
     "data": {
      "image/png": "[encoded data removed]",
      "text/plain": [
       "<matplotlib.figure.Figure at 0x109d493d0>"
      ]
     },
     "metadata": {},
     "output_type": "display_data"
    }
   ],
   "source": [
    "n, bins, patches = plt.hist(f['gen_data']['targetZ'][ok_q2_idx, 0], np.arange(100))"
   ]
  },
  {
   "cell_type": "code",
   "execution_count": null,
   "metadata": {
    "collapsed": true
   },
   "outputs": [],
   "source": []
  }
 ],
 "metadata": {
  "kernelspec": {
   "display_name": "Python 2",
   "language": "python",
   "name": "python2"
  },
  "language_info": {
   "codemirror_mode": {
    "name": "ipython",
    "version": 2
   },
   "file_extension": ".py",
   "mimetype": "text/x-python",
   "name": "python",
   "nbconvert_exporter": "python",
   "pygments_lexer": "ipython2",
   "version": "2.7.13"
  }
 },
 "nbformat": 4,
 "nbformat_minor": 1
}
