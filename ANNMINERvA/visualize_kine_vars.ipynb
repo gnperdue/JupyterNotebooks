{
 "cells": [
  {
   "cell_type": "code",
   "execution_count": 1,
   "metadata": {
    "collapsed": true
   },
   "outputs": [],
   "source": [
    "import numpy as np\n",
    "import matplotlib.pyplot as plt\n",
    "import h5py\n",
    "%matplotlib inline"
   ]
  },
  {
   "cell_type": "code",
   "execution_count": 2,
   "metadata": {},
   "outputs": [
    {
     "name": "stdout",
     "output_type": "stream",
     "text": [
      "event_data/eventids         -   uint64 (35, 1)\n",
      "event_data/eventids_a       -   uint32 (35, 1)\n",
      "event_data/eventids_b       -   uint32 (35, 1)\n",
      "event_data/planecodes       -   uint16 (35, 1)\n",
      "event_data/segments         -    uint8 (35, 1)\n",
      "event_data/zs               -  float32 (35, 1)\n",
      "  gen_data/Q2               -  float32 (35, 1)\n",
      "  gen_data/W                -  float32 (35, 1)\n",
      "  gen_data/current          -   uint32 (35, 1)\n",
      "  gen_data/int_type         -   uint32 (35, 1)\n",
      "  gen_data/targetZ          -   uint32 (35, 1)\n",
      "  gen_data/x                -  float32 (35, 1)\n",
      "  gen_data/y                -  float32 (35, 1)\n",
      "hadro_data/esum_chgdkaons   -  float32 (35, 1)\n",
      "hadro_data/esum_chgdpions   -  float32 (35, 1)\n",
      "hadro_data/esum_hadmultmeas -  float32 (35, 1)\n",
      "hadro_data/esum_neutpions   -  float32 (35, 1)\n",
      "hadro_data/esum_neutrons    -  float32 (35, 1)\n",
      "hadro_data/esum_others      -  float32 (35, 1)\n",
      "hadro_data/esum_protons     -  float32 (35, 1)\n",
      "hadro_data/n_chgdkaons      -   uint32 (35, 1)\n",
      "hadro_data/n_chgdpions      -   uint32 (35, 1)\n",
      "hadro_data/n_hadmultmeas    -   uint32 (35, 1)\n",
      "hadro_data/n_neutpions      -   uint32 (35, 1)\n",
      "hadro_data/n_neutrons       -   uint32 (35, 1)\n",
      "hadro_data/n_others         -   uint32 (35, 1)\n",
      "hadro_data/n_protons        -   uint32 (35, 1)\n",
      "  img_data/hitimes-u        -  float32 (35, 2, 127, 47)\n",
      "  img_data/hitimes-v        -  float32 (35, 2, 127, 47)\n",
      "  img_data/hitimes-x        -  float32 (35, 2, 127, 94)\n"
     ]
    }
   ],
   "source": [
    "DIR_PATH = '/Users/perdue/Documents/MINERvA/AI/hdf5/'\n",
    "f = h5py.File(DIR_PATH + 'hadmultkineimgs_127x94_me1Amc_tiny.hdf5', 'r')\n",
    "\n",
    "for group in f:\n",
    "    for dset in f[group]:\n",
    "        print '{:>10}/{:<16} - {:>8} {}'.format(group, dset, np.dtype(f[group][dset]), np.shape(f[group][dset]))"
   ]
  },
  {
   "cell_type": "code",
   "execution_count": 3,
   "metadata": {},
   "outputs": [
    {
     "data": {
      "image/png": "[encoded data removed]",
      "text/plain": [
       "<matplotlib.figure.Figure at 0x1018a5750>"
      ]
     },
     "metadata": {},
     "output_type": "display_data"
    }
   ],
   "source": [
    "n, bins, patches = plt.hist(f['gen_data']['Q2'][:, 0])"
   ]
  },
  {
   "cell_type": "code",
   "execution_count": 6,
   "metadata": {},
   "outputs": [
    {
     "data": {
      "text/plain": [
       "array([ True,  True,  True,  True,  True,  True,  True,  True,  True,\n",
       "        True,  True,  True,  True,  True,  True,  True,  True,  True,\n",
       "        True,  True,  True,  True,  True,  True,  True,  True,  True,\n",
       "        True,  True,  True,  True,  True,  True,  True,  True], dtype=bool)"
      ]
     },
     "execution_count": 6,
     "metadata": {},
     "output_type": "execute_result"
    }
   ],
   "source": [
    "ok_q2_idx = f['gen_data']['Q2'][:, 0] > 0.0\n",
    "ok_q2_idx"
   ]
  },
  {
   "cell_type": "code",
   "execution_count": 7,
   "metadata": {},
   "outputs": [
    {
     "data": {
      "image/png": "[encoded data removed]",
      "text/plain": [
       "<matplotlib.figure.Figure at 0x10540b150>"
      ]
     },
     "metadata": {},
     "output_type": "display_data"
    }
   ],
   "source": [
    "n, bins, patches = plt.hist(f['gen_data']['W'][:, 0])"
   ]
  },
  {
   "cell_type": "code",
   "execution_count": 9,
   "metadata": {},
   "outputs": [
    {
     "data": {
      "image/png": "[encoded data removed]",
      "text/plain": [
       "<matplotlib.figure.Figure at 0x1104839d0>"
      ]
     },
     "metadata": {},
     "output_type": "display_data"
    }
   ],
   "source": [
    "n, bins, patches = plt.hist(f['lepE'][ok_q2_idx])"
   ]
  },
  {
   "cell_type": "code",
   "execution_count": 10,
   "metadata": {},
   "outputs": [
    {
     "data": {
      "image/png": "[encoded data removed]",
      "text/plain": [
       "<matplotlib.figure.Figure at 0x1104979d0>"
      ]
     },
     "metadata": {},
     "output_type": "display_data"
    }
   ],
   "source": [
    "n, bins, patches = plt.hist(f['nuE'][ok_q2_idx])"
   ]
  },
  {
   "cell_type": "code",
   "execution_count": 11,
   "metadata": {},
   "outputs": [
    {
     "data": {
      "image/png": "[encoded data removed]",
      "text/plain": [
       "<matplotlib.figure.Figure at 0x110d170d0>"
      ]
     },
     "metadata": {},
     "output_type": "display_data"
    }
   ],
   "source": [
    "n, bins, patches = plt.hist(f['xbj'][ok_q2_idx])"
   ]
  },
  {
   "cell_type": "code",
   "execution_count": 12,
   "metadata": {},
   "outputs": [
    {
     "data": {
      "image/png": "[encoded data removed]",
      "text/plain": [
       "<matplotlib.figure.Figure at 0x110e1e290>"
      ]
     },
     "metadata": {},
     "output_type": "display_data"
    }
   ],
   "source": [
    "n, bins, patches = plt.hist(f['ybj'][ok_q2_idx])"
   ]
  },
  {
   "cell_type": "code",
   "execution_count": 2,
   "metadata": {
    "collapsed": true
   },
   "outputs": [],
   "source": [
    "REL_PATH = '../hdf5_manipulator/'"
   ]
  },
  {
   "cell_type": "code",
   "execution_count": 3,
   "metadata": {
    "collapsed": true
   },
   "outputs": [],
   "source": [
    "loww = h5py.File(REL_PATH + 'minosmatch_nukecczdefs_genallz_pcodecap66_kinedat_127x50x25_xuv_me1Bmc_lowW.hdf5', 'r')"
   ]
  },
  {
   "cell_type": "code",
   "execution_count": 4,
   "metadata": {
    "collapsed": true
   },
   "outputs": [],
   "source": [
    "highw = h5py.File(REL_PATH + 'minosmatch_nukecczdefs_genallz_pcodecap66_kinedat_127x50x25_xuv_me1Bmc_highW.hdf5', 'r')"
   ]
  },
  {
   "cell_type": "code",
   "execution_count": 5,
   "metadata": {
    "collapsed": true
   },
   "outputs": [],
   "source": [
    "allw = h5py.File(REL_PATH + 'minosmatch_nukecczdefs_genallz_pcodecap66_kinedat_127x50x25_xuv_me1Bmc.hdf5', 'r')"
   ]
  },
  {
   "cell_type": "code",
   "execution_count": 6,
   "metadata": {},
   "outputs": [
    {
     "name": "stdout",
     "output_type": "stream",
     "text": [
      "[1122054581027302 1122004128040301 1122044737130001 1122042675001202\n",
      " 1122052401045301 1122023078118201 1122011493136701]\n"
     ]
    }
   ],
   "source": [
    "lowids = set(loww['eventids'][:])\n",
    "highids = set(highw['eventids'][:])\n",
    "overlap_ids = np.array(list(highids.intersection(lowids)))\n",
    "print(overlap_ids)"
   ]
  },
  {
   "cell_type": "code",
   "execution_count": 7,
   "metadata": {},
   "outputs": [
    {
     "name": "stdout",
     "output_type": "stream",
     "text": [
      "[ 2000.]\n",
      "[ 2000.]\n",
      "[ 2000.]\n",
      "[ 2000.]\n",
      "[ 2000.]\n",
      "[ 2000.]\n",
      "[ 2000.]\n"
     ]
    }
   ],
   "source": [
    "for id in overlap_ids:\n",
    "    print allw['W'][allw['eventids'][:] == id]"
   ]
  },
  {
   "cell_type": "markdown",
   "metadata": {},
   "source": [
    "Sigh."
   ]
  },
  {
   "cell_type": "code",
   "execution_count": 8,
   "metadata": {},
   "outputs": [
    {
     "data": {
      "image/png": "[encoded data removed]",
      "text/plain": [
       "<matplotlib.figure.Figure at 0x10eece290>"
      ]
     },
     "metadata": {},
     "output_type": "display_data"
    }
   ],
   "source": [
    "n, bins, patches = plt.hist(allw['Q2'][:])"
   ]
  },
  {
   "cell_type": "code",
   "execution_count": 11,
   "metadata": {
    "collapsed": true
   },
   "outputs": [],
   "source": [
    "ok_q2_idx = allw['Q2'][:] > 0.0"
   ]
  },
  {
   "cell_type": "code",
   "execution_count": 13,
   "metadata": {},
   "outputs": [
    {
     "data": {
      "image/png": "[encoded data removed]",
      "text/plain": [
       "<matplotlib.figure.Figure at 0x10eee6b90>"
      ]
     },
     "metadata": {},
     "output_type": "display_data"
    }
   ],
   "source": [
    "n, bins, patches = plt.hist(allw['Q2'][ok_q2_idx])"
   ]
  },
  {
   "cell_type": "code",
   "execution_count": 14,
   "metadata": {},
   "outputs": [
    {
     "data": {
      "image/png": "[encoded data removed]",
      "text/plain": [
       "<matplotlib.figure.Figure at 0x104c66590>"
      ]
     },
     "metadata": {},
     "output_type": "display_data"
    }
   ],
   "source": [
    "n, bins, patches = plt.hist(allw['W'][:])"
   ]
  },
  {
   "cell_type": "code",
   "execution_count": 20,
   "metadata": {},
   "outputs": [
    {
     "data": {
      "image/png": "[encoded data removed]",
      "text/plain": [
       "<matplotlib.figure.Figure at 0x1255fcf50>"
      ]
     },
     "metadata": {},
     "output_type": "display_data"
    }
   ],
   "source": [
    "n, bins, patches = plt.hist(allw['int_type'][:], bins=np.arange(10))"
   ]
  },
  {
   "cell_type": "code",
   "execution_count": 21,
   "metadata": {},
   "outputs": [
    {
     "name": "stdout",
     "output_type": "stream",
     "text": [
      "[  0.00000000e+00   6.74730000e+05   1.12452000e+06   2.07497800e+06\n",
      "   5.65100000e+04   0.00000000e+00   2.34000000e+02   0.00000000e+00\n",
      "   3.00000000e+00]\n"
     ]
    }
   ],
   "source": [
    "print n"
   ]
  },
  {
   "cell_type": "markdown",
   "metadata": {},
   "source": [
    "```\n",
    "typedef enum EScatteringType {\n",
    "  * == seen in the MC files...\n",
    "0          kScNull = 0,\n",
    "1    *     kScQuasiElastic,\n",
    "2    *     kScDeepInelastic,\n",
    "3    *     kScResonant,\n",
    "4    *     kScCoherent,\n",
    "5          kScDiffractive,\n",
    "6    *     kScNuElectronElastic,\n",
    "7          kScInverseMuDecay,\n",
    "8    *     kScAMNuGamma,\n",
    "9          kScMEC,\n",
    "10         kScCoherentElas,\n",
    "11         kScInverseBetaDecay,\n",
    "12         kScGlashowResonance,\n",
    "13         kScIMDAnnihilation\n",
    "        } ScatteringType_t;\n",
    "```"
   ]
  },
  {
   "cell_type": "code",
   "execution_count": 22,
   "metadata": {},
   "outputs": [
    {
     "data": {
      "text/plain": [
       "8"
      ]
     },
     "execution_count": 22,
     "metadata": {},
     "output_type": "execute_result"
    }
   ],
   "source": [
    "np.max(allw['int_type'][:])"
   ]
  },
  {
   "cell_type": "code",
   "execution_count": null,
   "metadata": {
    "collapsed": true
   },
   "outputs": [],
   "source": []
  }
 ],
 "metadata": {
  "kernelspec": {
   "display_name": "Python 2",
   "language": "python",
   "name": "python2"
  },
  "language_info": {
   "codemirror_mode": {
    "name": "ipython",
    "version": 2
   },
   "file_extension": ".py",
   "mimetype": "text/x-python",
   "name": "python",
   "nbconvert_exporter": "python",
   "pygments_lexer": "ipython2",
   "version": "2.7.13"
  }
 },
 "nbformat": 4,
 "nbformat_minor": 1
}
