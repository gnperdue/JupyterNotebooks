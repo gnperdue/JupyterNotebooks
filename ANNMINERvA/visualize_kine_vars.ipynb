{
 "cells": [
  {
   "cell_type": "code",
   "execution_count": 1,
   "metadata": {
    "collapsed": true
   },
   "outputs": [],
   "source": [
    "import numpy as np\n",
    "import matplotlib.pyplot as plt\n",
    "import h5py\n",
    "%matplotlib inline"
   ]
  },
  {
   "cell_type": "code",
   "execution_count": 2,
   "metadata": {},
   "outputs": [
    {
     "name": "stdout",
     "output_type": "stream",
     "text": [
      "event_data/eventids         -   uint64 (35, 1)\n",
      "event_data/eventids_a       -   uint32 (35, 1)\n",
      "event_data/eventids_b       -   uint32 (35, 1)\n",
      "event_data/planecodes       -   uint16 (35, 1)\n",
      "event_data/segments         -    uint8 (35, 1)\n",
      "event_data/zs               -  float32 (35, 1)\n",
      "  gen_data/Q2               -  float32 (35, 1)\n",
      "  gen_data/W                -  float32 (35, 1)\n",
      "  gen_data/current          -   uint32 (35, 1)\n",
      "  gen_data/int_type         -   uint32 (35, 1)\n",
      "  gen_data/targetZ          -   uint32 (35, 1)\n",
      "  gen_data/x                -  float32 (35, 1)\n",
      "  gen_data/y                -  float32 (35, 1)\n",
      "hadro_data/esum_chgdkaons   -  float32 (35, 1)\n",
      "hadro_data/esum_chgdpions   -  float32 (35, 1)\n",
      "hadro_data/esum_hadmultmeas -  float32 (35, 1)\n",
      "hadro_data/esum_neutpions   -  float32 (35, 1)\n",
      "hadro_data/esum_neutrons    -  float32 (35, 1)\n",
      "hadro_data/esum_others      -  float32 (35, 1)\n",
      "hadro_data/esum_protons     -  float32 (35, 1)\n",
      "hadro_data/n_chgdkaons      -   uint32 (35, 1)\n",
      "hadro_data/n_chgdpions      -   uint32 (35, 1)\n",
      "hadro_data/n_hadmultmeas    -   uint32 (35, 1)\n",
      "hadro_data/n_neutpions      -   uint32 (35, 1)\n",
      "hadro_data/n_neutrons       -   uint32 (35, 1)\n",
      "hadro_data/n_others         -   uint32 (35, 1)\n",
      "hadro_data/n_protons        -   uint32 (35, 1)\n",
      "  img_data/hitimes-u        -  float32 (35, 2, 127, 47)\n",
      "  img_data/hitimes-v        -  float32 (35, 2, 127, 47)\n",
      "  img_data/hitimes-x        -  float32 (35, 2, 127, 94)\n",
      "lepto_data/esum_electrons   -  float32 (35, 1)\n",
      "lepto_data/esum_muons       -  float32 (35, 1)\n",
      "lepto_data/esum_taus        -  float32 (35, 1)\n",
      "lepto_data/n_electrons      -   uint32 (35, 1)\n",
      "lepto_data/n_muons          -   uint32 (35, 1)\n",
      "lepto_data/n_taus           -   uint32 (35, 1)\n"
     ]
    }
   ],
   "source": [
    "DIR_PATH = '/Users/perdue/Documents/MINERvA/AI/hdf5/'\n",
    "f = h5py.File(DIR_PATH + 'hadmultkineimgs_127x94_me1Amc_tiny.hdf5', 'r')\n",
    "\n",
    "for group in f:\n",
    "    for dset in f[group]:\n",
    "        print '{:>10}/{:<16} - {:>8} {}'.format(group, dset, np.dtype(f[group][dset]), np.shape(f[group][dset]))"
   ]
  },
  {
   "cell_type": "code",
   "execution_count": 3,
   "metadata": {},
   "outputs": [
    {
     "data": {
      "image/png": "[encoded data removed]",
      "text/plain": [
       "<matplotlib.figure.Figure at 0x10e3a6f10>"
      ]
     },
     "metadata": {},
     "output_type": "display_data"
    }
   ],
   "source": [
    "n, bins, patches = plt.hist(f['gen_data']['Q2'][:, 0])"
   ]
  },
  {
   "cell_type": "code",
   "execution_count": 4,
   "metadata": {},
   "outputs": [
    {
     "data": {
      "text/plain": [
       "array([ True,  True,  True,  True,  True,  True,  True,  True,  True,\n",
       "        True,  True,  True,  True,  True,  True,  True,  True,  True,\n",
       "        True,  True,  True,  True,  True,  True,  True,  True,  True,\n",
       "        True,  True,  True,  True,  True,  True,  True,  True], dtype=bool)"
      ]
     },
     "execution_count": 4,
     "metadata": {},
     "output_type": "execute_result"
    }
   ],
   "source": [
    "ok_q2_idx = f['gen_data']['Q2'][:, 0] > 0.0\n",
    "ok_q2_idx"
   ]
  },
  {
   "cell_type": "code",
   "execution_count": 5,
   "metadata": {},
   "outputs": [
    {
     "data": {
      "image/png": "[encoded data removed]",
      "text/plain": [
       "<matplotlib.figure.Figure at 0x10f9f0e10>"
      ]
     },
     "metadata": {},
     "output_type": "display_data"
    }
   ],
   "source": [
    "n, bins, patches = plt.hist(f['gen_data']['W'][:, 0])"
   ]
  },
  {
   "cell_type": "code",
   "execution_count": 6,
   "metadata": {},
   "outputs": [
    {
     "data": {
      "image/png": "[encoded data removed]",
      "text/plain": [
       "<matplotlib.figure.Figure at 0x10f9d3f50>"
      ]
     },
     "metadata": {},
     "output_type": "display_data"
    }
   ],
   "source": [
    "n, bins, patches = plt.hist(f['gen_data']['current'][:, 0])"
   ]
  },
  {
   "cell_type": "code",
   "execution_count": 7,
   "metadata": {},
   "outputs": [
    {
     "data": {
      "image/png": "[encoded data removed]",
      "text/plain": [
       "<matplotlib.figure.Figure at 0x10fbf5b50>"
      ]
     },
     "metadata": {},
     "output_type": "display_data"
    }
   ],
   "source": [
    "n, bins, patches = plt.hist(f['gen_data']['int_type'][:, 0], np.arange(14))"
   ]
  },
  {
   "cell_type": "code",
   "execution_count": 8,
   "metadata": {},
   "outputs": [
    {
     "data": {
      "image/png": "[encoded data removed]",
      "text/plain": [
       "<matplotlib.figure.Figure at 0x10fb7b650>"
      ]
     },
     "metadata": {},
     "output_type": "display_data"
    }
   ],
   "source": [
    "n, bins, patches = plt.hist(f['gen_data']['x'][:, 0])"
   ]
  },
  {
   "cell_type": "code",
   "execution_count": 9,
   "metadata": {},
   "outputs": [
    {
     "data": {
      "image/png": "[encoded data removed]",
      "text/plain": [
       "<matplotlib.figure.Figure at 0x10fd131d0>"
      ]
     },
     "metadata": {},
     "output_type": "display_data"
    }
   ],
   "source": [
    "n, bins, patches = plt.hist(f['gen_data']['y'][:, 0])"
   ]
  },
  {
   "cell_type": "code",
   "execution_count": 10,
   "metadata": {},
   "outputs": [
    {
     "data": {
      "image/png": "[encoded data removed]",
      "text/plain": [
       "<matplotlib.figure.Figure at 0x10fa2a0d0>"
      ]
     },
     "metadata": {},
     "output_type": "display_data"
    }
   ],
   "source": [
    "n, bins, patches = plt.hist(f['gen_data']['targetZ'][:, 0], np.arange(14))"
   ]
  },
  {
   "cell_type": "code",
   "execution_count": null,
   "metadata": {
    "collapsed": true
   },
   "outputs": [],
   "source": []
  }
 ],
 "metadata": {
  "kernelspec": {
   "display_name": "Python 2",
   "language": "python",
   "name": "python2"
  },
  "language_info": {
   "codemirror_mode": {
    "name": "ipython",
    "version": 2
   },
   "file_extension": ".py",
   "mimetype": "text/x-python",
   "name": "python",
   "nbconvert_exporter": "python",
   "pygments_lexer": "ipython2",
   "version": "2.7.13"
  }
 },
 "nbformat": 4,
 "nbformat_minor": 1
}
