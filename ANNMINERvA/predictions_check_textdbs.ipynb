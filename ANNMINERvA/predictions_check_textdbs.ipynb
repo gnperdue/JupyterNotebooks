{
 "cells": [
  {
   "cell_type": "code",
   "execution_count": 1,
   "metadata": {},
   "outputs": [
    {
     "name": "stderr",
     "output_type": "stream",
     "text": [
      "/Users/perdue/miniconda2/envs/py2mnv_pda/lib/python2.7/site-packages/h5py/__init__.py:36: FutureWarning: Conversion of the second argument of issubdtype from `float` to `np.floating` is deprecated. In future, it will be treated as `np.float64 == np.dtype(float).type`.\n",
      "  from ._conv import register_converters as _register_converters\n"
     ]
    }
   ],
   "source": [
    "from __future__ import print_function\n",
    "import numpy as np\n",
    "import matplotlib.pyplot as plt\n",
    "import re\n",
    "import h5py\n",
    "from six.moves import range\n",
    "\n",
    "from matplotlib import rc\n",
    "rc('font',**{'family':'sans-serif','sans-serif':['Helvetica']})\n",
    "## for Palatino and other serif fonts use:\n",
    "#rc('font',**{'family':'serif','serif':['Palatino']})\n",
    "rc('text', usetex=True)\n",
    "plt.rc('text', usetex=True)\n",
    "plt.rc('font', family='serif')\n",
    "%matplotlib inline"
   ]
  },
  {
   "cell_type": "code",
   "execution_count": 2,
   "metadata": {},
   "outputs": [],
   "source": [
    "import sys\n",
    "sys.path.append('/Users/perdue/Documents/MINERvA/AI/ANNMINERvA/')\n",
    "\n",
    "from evtid_utils import decode_eventid\n",
    "from mnvtf.reader_sqlite import MnvCategoricalSQLiteReader\n",
    "from mnvtf.reader_text import MnvCategoricalTextReader"
   ]
  },
  {
   "cell_type": "code",
   "execution_count": 3,
   "metadata": {},
   "outputs": [],
   "source": [
    "from mnvdlplot.conf_mat_pl import make_conf_mat_plots_rowcolnormonly\n",
    "from mnvdlplot.conf_mat_pl import make_conf_mat_plots_raw"
   ]
  },
  {
   "cell_type": "code",
   "execution_count": 4,
   "metadata": {},
   "outputs": [],
   "source": [
    "h5path = '/Users/perdue/Documents/MINERvA/AI/hdf5/201801/'\n",
    "h5name = h5path + 'hadmultkineimgs_127x94_me1Pmc.hdf5'\n",
    "h5file = h5py.File(h5name, 'r')"
   ]
  },
  {
   "cell_type": "code",
   "execution_count": 6,
   "metadata": {},
   "outputs": [],
   "source": [
    "dbpath = '/Users/perdue/Documents/MINERvA/AI/minerva_tf/predictions/201801/'\n",
    "dbname = dbpath + 'mnv_st_epsilon_predictionsME1LOPMC_VALIDCHECK_model_20180323_def_chngdpad_planecodes_nclass173_trainME1LOPMC_validME1LOPMC_testME1LOPMC_optADAM_batchsz1024_nodoBatchNorm_tev.txt.gz'\n",
    "n_classes = 173\n",
    "reader_mc = MnvCategoricalTextReader(dbname)"
   ]
  },
  {
   "cell_type": "code",
   "execution_count": 37,
   "metadata": {},
   "outputs": [],
   "source": [
    "mcgen = reader_mc.read_data_generator()\n",
    "n_events = 1"
   ]
  },
  {
   "cell_type": "code",
   "execution_count": 59,
   "metadata": {},
   "outputs": [
    {
     "name": "stdout",
     "output_type": "stream",
     "text": [
      "1120070038042501, 164, 164\n"
     ]
    }
   ],
   "source": [
    "for i, d in enumerate(mcgen):\n",
    "    evtid = int(d[0])\n",
    "    pred_seq = d[1]\n",
    "    probs_list = d[2]\n",
    "    found_idx = np.where(h5file['event_data']['eventids'][:] == evtid)[0]\n",
    "    if len(found_idx):\n",
    "        found_idx = found_idx[0]\n",
    "        print('{}, {}, {}'.format(\n",
    "            evtid, pred_seq, h5file['vtx_data']['planecodes'][found_idx][0]\n",
    "        ))\n",
    "        break\n",
    "#    if i > n_events:\n",
    "#        break"
   ]
  },
  {
   "cell_type": "code",
   "execution_count": null,
   "metadata": {},
   "outputs": [],
   "source": []
  }
 ],
 "metadata": {
  "kernelspec": {
   "display_name": "Python 2",
   "language": "python",
   "name": "python2"
  },
  "language_info": {
   "codemirror_mode": {
    "name": "ipython",
    "version": 2
   },
   "file_extension": ".py",
   "mimetype": "text/x-python",
   "name": "python",
   "nbconvert_exporter": "python",
   "pygments_lexer": "ipython2",
   "version": "2.7.14"
  }
 },
 "nbformat": 4,
 "nbformat_minor": 2
}
