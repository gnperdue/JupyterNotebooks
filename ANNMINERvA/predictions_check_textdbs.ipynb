{
 "cells": [
  {
   "cell_type": "code",
   "execution_count": 1,
   "metadata": {},
   "outputs": [],
   "source": [
    "from __future__ import print_function\n",
    "import numpy as np\n",
    "import matplotlib.pyplot as plt\n",
    "import re\n",
    "import h5py\n",
    "from six.moves import range\n",
    "\n",
    "from matplotlib import rc\n",
    "rc('font',**{'family':'sans-serif','sans-serif':['Helvetica']})\n",
    "## for Palatino and other serif fonts use:\n",
    "#rc('font',**{'family':'serif','serif':['Palatino']})\n",
    "rc('text', usetex=True)\n",
    "plt.rc('text', usetex=True)\n",
    "plt.rc('font', family='serif')\n",
    "%matplotlib inline"
   ]
  },
  {
   "cell_type": "code",
   "execution_count": 2,
   "metadata": {
    "collapsed": true
   },
   "outputs": [],
   "source": [
    "import sys\n",
    "sys.path.append('/Users/perdue/Documents/MINERvA/AI/ANNMINERvA/')\n",
    "\n",
    "from evtid_utils import decode_eventid\n",
    "from mnvtf.reader_sqlite import MnvCategoricalSQLiteReader\n",
    "from mnvtf.reader_text import MnvCategoricalTextReader"
   ]
  },
  {
   "cell_type": "code",
   "execution_count": 3,
   "metadata": {
    "collapsed": true
   },
   "outputs": [],
   "source": [
    "from mnvdlplot.conf_mat_pl import make_conf_mat_plots_rowcolnormonly\n",
    "from mnvdlplot.conf_mat_pl import make_conf_mat_plots_raw"
   ]
  },
  {
   "cell_type": "code",
   "execution_count": 4,
   "metadata": {
    "collapsed": true
   },
   "outputs": [],
   "source": [
    "h5path = '/Users/perdue/Documents/MINERvA/AI/hdf5/201801/'\n",
    "h5name = h5path + 'hadmultkineimgs_127x94_me1Pmc.hdf5'\n",
    "h5file = h5py.File(h5name, 'r')"
   ]
  },
  {
   "cell_type": "code",
   "execution_count": 5,
   "metadata": {
    "collapsed": true
   },
   "outputs": [],
   "source": [
    "dbpath = '/Users/perdue/Documents/MINERvA/AI/minerva_tf/predictions/201801/'\n",
    "dbname = dbpath + 'mnv_st_epsilon_predictionsME1LOPMC_VALIDCHECK_model_20180323_def_chngdpad_planecodes_nclass173_trainME1LOPMC_validME1LOPMC_testME1LOPMC_optADAM_batchsz1024_nodoBatchNorm_tev.txt.gz'\n",
    "n_classes = 173\n",
    "reader_mc = MnvCategoricalTextReader(dbname)"
   ]
  },
  {
   "cell_type": "code",
   "execution_count": 12,
   "metadata": {
    "collapsed": true
   },
   "outputs": [],
   "source": [
    "mcgen = reader_mc.read_data_generator()\n",
    "n_events = 1"
   ]
  },
  {
   "cell_type": "code",
   "execution_count": 13,
   "metadata": {},
   "outputs": [],
   "source": [
    "make_file = False\n",
    "\n",
    "if make_file:\n",
    "    outfil = open('me1Pmc_valid_predcheck.csv', 'w')\n",
    "    outfil.write('# eventid,predicted,true\\n')\n",
    "\n",
    "    for i, d in enumerate(mcgen):\n",
    "        evtid = int(d[0])\n",
    "        pred_seq = d[1]\n",
    "        probs_list = d[2]\n",
    "        found_idx = np.where(h5file['event_data']['eventids'][:] == evtid)[0]\n",
    "        if len(found_idx):\n",
    "            found_idx = found_idx[0]\n",
    "            outfil.write('{},{},{}\\n'.format(\n",
    "                evtid, pred_seq, h5file['vtx_data']['planecodes'][found_idx][0]\n",
    "            ))\n",
    "\n",
    "    outfil.close()"
   ]
  },
  {
   "cell_type": "code",
   "execution_count": 14,
   "metadata": {
    "collapsed": true
   },
   "outputs": [],
   "source": [
    "import pandas as pd"
   ]
  },
  {
   "cell_type": "code",
   "execution_count": 17,
   "metadata": {
    "collapsed": true
   },
   "outputs": [],
   "source": [
    "evtpcodes = pd.read_csv('./me1Pmc_valid_predcheck.csv', header=0, names=['eventid', 'predicted', 'true'])"
   ]
  },
  {
   "cell_type": "code",
   "execution_count": 18,
   "metadata": {},
   "outputs": [
    {
     "data": {
      "text/html": [
       "<div>\n",
       "<style>\n",
       "    .dataframe thead tr:only-child th {\n",
       "        text-align: right;\n",
       "    }\n",
       "\n",
       "    .dataframe thead th {\n",
       "        text-align: left;\n",
       "    }\n",
       "\n",
       "    .dataframe tbody tr th {\n",
       "        vertical-align: top;\n",
       "    }\n",
       "</style>\n",
       "<table border=\"1\" class=\"dataframe\">\n",
       "  <thead>\n",
       "    <tr style=\"text-align: right;\">\n",
       "      <th></th>\n",
       "      <th>eventid</th>\n",
       "      <th>predicted</th>\n",
       "      <th>true</th>\n",
       "    </tr>\n",
       "  </thead>\n",
       "  <tbody>\n",
       "    <tr>\n",
       "      <th>0</th>\n",
       "      <td>1120070038030101</td>\n",
       "      <td>169</td>\n",
       "      <td>169</td>\n",
       "    </tr>\n",
       "    <tr>\n",
       "      <th>1</th>\n",
       "      <td>1120070038030903</td>\n",
       "      <td>37</td>\n",
       "      <td>37</td>\n",
       "    </tr>\n",
       "    <tr>\n",
       "      <th>2</th>\n",
       "      <td>1120070038031201</td>\n",
       "      <td>162</td>\n",
       "      <td>162</td>\n",
       "    </tr>\n",
       "    <tr>\n",
       "      <th>3</th>\n",
       "      <td>1120070038031601</td>\n",
       "      <td>122</td>\n",
       "      <td>123</td>\n",
       "    </tr>\n",
       "    <tr>\n",
       "      <th>4</th>\n",
       "      <td>1120070038032002</td>\n",
       "      <td>111</td>\n",
       "      <td>111</td>\n",
       "    </tr>\n",
       "  </tbody>\n",
       "</table>\n",
       "</div>"
      ],
      "text/plain": [
       "            eventid  predicted  true\n",
       "0  1120070038030101        169   169\n",
       "1  1120070038030903         37    37\n",
       "2  1120070038031201        162   162\n",
       "3  1120070038031601        122   123\n",
       "4  1120070038032002        111   111"
      ]
     },
     "execution_count": 18,
     "metadata": {},
     "output_type": "execute_result"
    }
   ],
   "source": [
    "evtpcodes.head()"
   ]
  },
  {
   "cell_type": "code",
   "execution_count": 19,
   "metadata": {
    "collapsed": true
   },
   "outputs": [],
   "source": [
    "dfrec0 = evtpcodes[evtpcodes['predicted'] == 0]"
   ]
  },
  {
   "cell_type": "code",
   "execution_count": 20,
   "metadata": {},
   "outputs": [
    {
     "data": {
      "text/plain": [
       "2567"
      ]
     },
     "execution_count": 20,
     "metadata": {},
     "output_type": "execute_result"
    }
   ],
   "source": [
    "len(dfrec0)"
   ]
  },
  {
   "cell_type": "code",
   "execution_count": 25,
   "metadata": {},
   "outputs": [
    {
     "data": {
      "image/png": "[encoded data removed]",
      "text/plain": [
       "<matplotlib.figure.Figure at 0x11dfffd10>"
      ]
     },
     "metadata": {},
     "output_type": "display_data"
    }
   ],
   "source": [
    "fig = plt.figure(figsize=(8, 6))\n",
    "n, bins, patches = plt.hist(dfrec0['true'][:], bins=173, range=(0, 172))\n",
    "ax = plt.gca()\n",
    "ax.set_yscale(\"log\", nonposy='clip')"
   ]
  },
  {
   "cell_type": "code",
   "execution_count": 30,
   "metadata": {},
   "outputs": [],
   "source": [
    "tidx = dfrec0['true'] > 25\n",
    "tidx &=  dfrec0['true'] < 51"
   ]
  },
  {
   "cell_type": "code",
   "execution_count": 31,
   "metadata": {},
   "outputs": [],
   "source": [
    "dfrec0t25_50 = dfrec0[tidx]"
   ]
  },
  {
   "cell_type": "code",
   "execution_count": 32,
   "metadata": {},
   "outputs": [
    {
     "data": {
      "image/png": "[encoded data removed]",
      "text/plain": [
       "<matplotlib.figure.Figure at 0x11dfb5990>"
      ]
     },
     "metadata": {},
     "output_type": "display_data"
    }
   ],
   "source": [
    "fig = plt.figure(figsize=(8, 6))\n",
    "n, bins, patches = plt.hist(dfrec0t25_50['true'][:], bins=173, range=(0, 172))\n",
    "ax = plt.gca()\n",
    "ax.set_yscale(\"log\", nonposy='clip')"
   ]
  },
  {
   "cell_type": "code",
   "execution_count": 33,
   "metadata": {},
   "outputs": [
    {
     "data": {
      "text/plain": [
       "181"
      ]
     },
     "execution_count": 33,
     "metadata": {},
     "output_type": "execute_result"
    }
   ],
   "source": [
    "len(dfrec0t25_50)"
   ]
  },
  {
   "cell_type": "code",
   "execution_count": 35,
   "metadata": {},
   "outputs": [
    {
     "name": "stdout",
     "output_type": "stream",
     "text": [
      "1120070038094901 ('112007', '0038', '0949', '01')\n",
      "1120070039079201 ('112007', '0039', '0792', '01')\n",
      "1120070216109401 ('112007', '0216', '1094', '01')\n",
      "1120070217003402 ('112007', '0217', '0034', '02')\n",
      "1120070219023802 ('112007', '0219', '0238', '02')\n",
      "1120000240072903 ('112000', '0240', '0729', '03')\n",
      "1120060480002201 ('112006', '0480', '0022', '01')\n",
      "1120060481023501 ('112006', '0481', '0235', '01')\n",
      "1120060481112302 ('112006', '0481', '1123', '02')\n",
      "1120080086010202 ('112008', '0086', '0102', '02')\n",
      "1120080086052802 ('112008', '0086', '0528', '02')\n",
      "1120080087107802 ('112008', '0087', '1078', '02')\n",
      "1120080089051102 ('112008', '0089', '0511', '02')\n",
      "1120080089055302 ('112008', '0089', '0553', '02')\n",
      "1120080089055701 ('112008', '0089', '0557', '01')\n",
      "1120060120091402 ('112006', '0120', '0914', '02')\n",
      "1120060123083301 ('112006', '0123', '0833', '01')\n",
      "1120010389037801 ('112001', '0389', '0378', '01')\n",
      "1120010390031401 ('112001', '0390', '0314', '01')\n",
      "1120050251036202 ('112005', '0251', '0362', '02')\n"
     ]
    }
   ],
   "source": [
    "for ev in dfrec0t25_50['eventid'][:20]:\n",
    "    print(ev, decode_eventid(ev))"
   ]
  },
  {
   "cell_type": "code",
   "execution_count": null,
   "metadata": {
    "collapsed": true
   },
   "outputs": [],
   "source": []
  }
 ],
 "metadata": {
  "kernelspec": {
   "display_name": "Python 2",
   "language": "python",
   "name": "python2"
  },
  "language_info": {
   "codemirror_mode": {
    "name": "ipython",
    "version": 2
   },
   "file_extension": ".py",
   "mimetype": "text/x-python",
   "name": "python",
   "nbconvert_exporter": "python",
   "pygments_lexer": "ipython2",
   "version": "2.7.13"
  }
 },
 "nbformat": 4,
 "nbformat_minor": 2
}
