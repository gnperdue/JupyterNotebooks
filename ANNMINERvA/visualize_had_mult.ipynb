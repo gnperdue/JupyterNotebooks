{
 "cells": [
  {
   "cell_type": "code",
   "execution_count": 1,
   "metadata": {
    "collapsed": true
   },
   "outputs": [],
   "source": [
    "import numpy as np\n",
    "import matplotlib.pyplot as plt\n",
    "import h5py\n",
    "%matplotlib inline"
   ]
  },
  {
   "cell_type": "code",
   "execution_count": 2,
   "metadata": {
    "collapsed": true
   },
   "outputs": [],
   "source": [
    "import pandas as pd\n",
    "from pandas import DataFrame"
   ]
  },
  {
   "cell_type": "code",
   "execution_count": 3,
   "metadata": {
    "collapsed": true
   },
   "outputs": [],
   "source": [
    "import sys\n",
    "sys.path.append('/Users/perdue/Documents/MINERvA/AI/ANNMINERvA')\n",
    "from evtid_utils import decode_eventid"
   ]
  },
  {
   "cell_type": "code",
   "execution_count": 4,
   "metadata": {},
   "outputs": [
    {
     "name": "stdout",
     "output_type": "stream",
     "text": [
      "event_data/eventids         -   uint64 (211, 1)\n",
      "event_data/eventids_a       -   uint32 (211, 1)\n",
      "event_data/eventids_b       -   uint32 (211, 1)\n",
      "  gen_data/Q2               -  float32 (211, 1)\n",
      "  gen_data/W                -  float32 (211, 1)\n",
      "  gen_data/current          -   uint32 (211, 1)\n",
      "  gen_data/int_type         -   uint32 (211, 1)\n",
      "  gen_data/targetZ          -   uint32 (211, 1)\n",
      "  gen_data/x                -  float32 (211, 1)\n",
      "  gen_data/y                -  float32 (211, 1)\n",
      "hadro_data/esum_chgdkaons   -  float32 (211, 1)\n",
      "hadro_data/esum_chgdpions   -  float32 (211, 1)\n",
      "hadro_data/esum_hadmultmeas -  float32 (211, 1)\n",
      "hadro_data/esum_neutpions   -  float32 (211, 1)\n",
      "hadro_data/esum_neutrons    -  float32 (211, 1)\n",
      "hadro_data/esum_others      -  float32 (211, 1)\n",
      "hadro_data/esum_protons     -  float32 (211, 1)\n",
      "hadro_data/n_chgdkaons      -   uint32 (211, 1)\n",
      "hadro_data/n_chgdpions      -   uint32 (211, 1)\n",
      "hadro_data/n_hadmultmeas    -   uint32 (211, 1)\n",
      "hadro_data/n_neutpions      -   uint32 (211, 1)\n",
      "hadro_data/n_neutrons       -   uint32 (211, 1)\n",
      "hadro_data/n_others         -   uint32 (211, 1)\n",
      "hadro_data/n_protons        -   uint32 (211, 1)\n",
      "  img_data/hitimes-u        -  float32 (211, 2, 127, 47)\n",
      "  img_data/hitimes-v        -  float32 (211, 2, 127, 47)\n",
      "  img_data/hitimes-x        -  float32 (211, 2, 127, 94)\n",
      "lepto_data/esum_electrons   -  float32 (211, 1)\n",
      "lepto_data/esum_muons       -  float32 (211, 1)\n",
      "lepto_data/esum_taus        -  float32 (211, 1)\n",
      "lepto_data/n_electrons      -   uint32 (211, 1)\n",
      "lepto_data/n_muons          -   uint32 (211, 1)\n",
      "lepto_data/n_taus           -   uint32 (211, 1)\n",
      "  vtx_data/planecodes       -   uint16 (211, 1)\n",
      "  vtx_data/segments         -    uint8 (211, 1)\n",
      "  vtx_data/zs               -  float32 (211, 1)\n"
     ]
    }
   ],
   "source": [
    "DIR_PATH = '/Users/perdue/Documents/MINERvA/AI/hdf5/201805/'\n",
    "f = h5py.File(DIR_PATH + 'hadmultkineimgs_127x94_me1Amc_tiny.hdf5', 'r')\n",
    "\n",
    "for group in f:\n",
    "    for dset in f[group]:\n",
    "        print '{:>10}/{:<16} - {:>8} {}'.format(group, dset, np.dtype(f[group][dset]), np.shape(f[group][dset]))"
   ]
  },
  {
   "cell_type": "code",
   "execution_count": 5,
   "metadata": {
    "collapsed": true
   },
   "outputs": [],
   "source": [
    "data = {'n-protons': f['hadro_data']['n_protons'][:,0],\n",
    "        'n-pions': f['hadro_data']['n_chgdpions'][:,0],\n",
    "        'n-kaons': f['hadro_data']['n_chgdkaons'][:,0],\n",
    "        'n-hadmultmeas': f['hadro_data']['n_hadmultmeas'][:,0]}\n",
    "df = DataFrame(data)"
   ]
  },
  {
   "cell_type": "code",
   "execution_count": 6,
   "metadata": {},
   "outputs": [
    {
     "name": "stdout",
     "output_type": "stream",
     "text": [
      "<class 'pandas.core.frame.DataFrame'>\n",
      "RangeIndex: 211 entries, 0 to 210\n",
      "Data columns (total 4 columns):\n",
      "n-hadmultmeas    211 non-null uint32\n",
      "n-kaons          211 non-null uint32\n",
      "n-pions          211 non-null uint32\n",
      "n-protons        211 non-null uint32\n",
      "dtypes: uint32(4)\n",
      "memory usage: 3.4 KB\n"
     ]
    }
   ],
   "source": [
    "df.info()"
   ]
  },
  {
   "cell_type": "code",
   "execution_count": 7,
   "metadata": {},
   "outputs": [
    {
     "name": "stdout",
     "output_type": "stream",
     "text": [
      "0 10\n"
     ]
    }
   ],
   "source": [
    "min_h, max_h = np.min(df['n-hadmultmeas']), np.max(df['n-hadmultmeas'])\n",
    "print min_h, max_h"
   ]
  },
  {
   "cell_type": "code",
   "execution_count": 8,
   "metadata": {},
   "outputs": [
    {
     "data": {
      "text/plain": [
       "<matplotlib.axes._subplots.AxesSubplot at 0x10e006250>"
      ]
     },
     "execution_count": 8,
     "metadata": {},
     "output_type": "execute_result"
    },
    {
     "data": {
      "image/png": "[encoded data removed]",
      "text/plain": [
       "<matplotlib.figure.Figure at 0x10ca522d0>"
      ]
     },
     "metadata": {},
     "output_type": "display_data"
    }
   ],
   "source": [
    "df['n-hadmultmeas'].hist(bins=100)"
   ]
  },
  {
   "cell_type": "code",
   "execution_count": 9,
   "metadata": {},
   "outputs": [
    {
     "data": {
      "image/png": "[encoded data removed]",
      "text/plain": [
       "<matplotlib.figure.Figure at 0x10e2fc290>"
      ]
     },
     "metadata": {},
     "output_type": "display_data"
    }
   ],
   "source": [
    "fig = plt.figure(figsize=(12,4))\n",
    "gs = plt.GridSpec(1, 2)\n",
    "\n",
    "ax = plt.subplot(gs[0])\n",
    "n, bins, patches = plt.hist(f['hadro_data']['n_hadmultmeas'][:,0], bins=np.arange(max_h + 2))\n",
    "plt.title(\"N protons + N chgd pi's + N chgd k's w/ KE > 50 MeV\")\n",
    "plt.ylabel('events')\n",
    "plt.xlabel('had-mult (meas)')\n",
    "\n",
    "ax = plt.subplot(gs[1])\n",
    "n, bins, patches = plt.hist(f['hadro_data']['n_hadmultmeas'][:,0], bins=np.arange(max_h + 2))\n",
    "plt.title(\"N protons + N chgd pi's + N chgd k's w/ KE > 50 MeV\")\n",
    "plt.ylabel('events')\n",
    "plt.xlabel('had-mult (meas)')\n",
    "ax.set_yscale(\"log\", nonposy='clip')\n",
    "\n",
    "plt.tight_layout()\n",
    "\n",
    "fig.savefig('n_hadmultmeas_me1AmcNX.pdf', bbox_inches='tight')"
   ]
  },
  {
   "cell_type": "code",
   "execution_count": 10,
   "metadata": {},
   "outputs": [
    {
     "name": "stdout",
     "output_type": "stream",
     "text": [
      "[ 25.  64.  46.  38.  18.  10.   1.   5.   1.   2.   1.]\n",
      "11\n"
     ]
    }
   ],
   "source": [
    "print(n)\n",
    "print(len(n))"
   ]
  },
  {
   "cell_type": "code",
   "execution_count": 11,
   "metadata": {},
   "outputs": [
    {
     "name": "stdout",
     "output_type": "stream",
     "text": [
      "[ 0  1  2  3  4  5  6  7  8  9 10 11]\n"
     ]
    }
   ],
   "source": [
    "print(bins)"
   ]
  },
  {
   "cell_type": "code",
   "execution_count": 12,
   "metadata": {
    "scrolled": false
   },
   "outputs": [
    {
     "name": "stdout",
     "output_type": "stream",
     "text": [
      "-----------------------------------------\n",
      "n total = 211.0\n",
      "-----------------------------------------\n",
      "0 hadrons sum: 25.0\n",
      "1 hadrons sum: 64.0\n",
      "2 hadrons sum: 46.0\n",
      "3 hadrons sum: 38.0\n",
      "4 hadrons sum: 18.0\n",
      "5 hadrons sum: 10.0\n",
      "6 hadrons sum: 1.0\n",
      "7 hadrons sum: 5.0\n",
      "8 hadrons sum: 1.0\n",
      "9 hadrons sum: 2.0\n",
      "10 hadrons sum: 1.0\n",
      "4+ hadrons sum: 38.0\n",
      "-----------------------------------------\n",
      "0 hadrons fraction: 0.118483412322\n",
      "1 hadrons fraction: 0.303317535545\n",
      "2 hadrons fraction: 0.218009478673\n",
      "3 hadrons fraction: 0.18009478673\n",
      "4 hadrons fraction: 0.085308056872\n",
      "5 hadrons fraction: 0.0473933649289\n",
      "6 hadrons fraction: 0.00473933649289\n",
      "7 hadrons fraction: 0.0236966824645\n",
      "8 hadrons fraction: 0.00473933649289\n",
      "9 hadrons fraction: 0.00947867298578\n",
      "10 hadrons fraction: 0.00473933649289\n",
      "-----------------------------------------\n",
      "0 hadrons fraction: 0.118483412322\n",
      "1 hadrons fraction: 0.303317535545\n",
      "2 hadrons fraction: 0.218009478673\n",
      "3 hadrons fraction: 0.18009478673\n",
      "4+ hadrons fraction: 0.18009478673\n"
     ]
    }
   ],
   "source": [
    "over_flow_cand = 4\n",
    "ntot = np.sum(n)\n",
    "\n",
    "print('-----------------------------------------')\n",
    "print('n total = {}'.format(ntot))\n",
    "\n",
    "print('-----------------------------------------')\n",
    "for i in range(max_h + 1):\n",
    "    print('{} hadrons sum: {}'.format(i, n[i]))\n",
    "    \n",
    "print('{}+ hadrons sum: {}'.format(over_flow_cand, sum(n[over_flow_cand:])))\n",
    "    \n",
    "print('-----------------------------------------')\n",
    "for i in range(max_h + 1):\n",
    "    print('{} hadrons fraction: {}'.format(i, n[i] / ntot))\n",
    "    \n",
    "print('-----------------------------------------')\n",
    "for i in range(over_flow_cand):\n",
    "    print('{} hadrons fraction: {}'.format(i, n[i] / ntot))\n",
    "print('{}+ hadrons fraction: {}'.format(over_flow_cand, sum(n[over_flow_cand:]) / ntot))"
   ]
  },
  {
   "cell_type": "code",
   "execution_count": 13,
   "metadata": {},
   "outputs": [
    {
     "data": {
      "image/png": "[encoded data removed]",
      "text/plain": [
       "<matplotlib.figure.Figure at 0x10e6faa90>"
      ]
     },
     "metadata": {},
     "output_type": "display_data"
    }
   ],
   "source": [
    "fig = plt.figure(figsize=(12,4))\n",
    "gs = plt.GridSpec(2, 3)\n",
    "\n",
    "ax = plt.subplot(gs[0])\n",
    "plt.hist(f['hadro_data']['n_protons'][:, 0])\n",
    "plt.ylabel('n_protons')\n",
    "\n",
    "ax = plt.subplot(gs[1])\n",
    "plt.hist(f['hadro_data']['n_neutrons'][:, 0])\n",
    "plt.ylabel('n_neutrons')\n",
    "\n",
    "ax = plt.subplot(gs[2])\n",
    "plt.hist(f['hadro_data']['n_chgdpions'][:, 0])\n",
    "plt.ylabel('n_chgdpions')\n",
    "\n",
    "ax = plt.subplot(gs[3])\n",
    "plt.hist(f['hadro_data']['n_neutpions'][:, 0])\n",
    "plt.ylabel('n_neutpions')\n",
    "\n",
    "ax = plt.subplot(gs[4])\n",
    "plt.hist(f['hadro_data']['n_chgdkaons'][:, 0])\n",
    "plt.ylabel('n_chgdkaons')\n",
    "\n",
    "ax = plt.subplot(gs[5])\n",
    "plt.hist(f['hadro_data']['n_others'][:, 0])\n",
    "plt.ylabel('n_others')\n",
    "\n",
    "plt.tight_layout()\n",
    "\n",
    "#plt.yscale('log')\n",
    "#fig.savefig('n20160503.pdf')"
   ]
  },
  {
   "cell_type": "code",
   "execution_count": 14,
   "metadata": {},
   "outputs": [
    {
     "data": {
      "image/png": "[encoded data removed]",
      "text/plain": [
       "<matplotlib.figure.Figure at 0x10e247e50>"
      ]
     },
     "metadata": {},
     "output_type": "display_data"
    }
   ],
   "source": [
    "#(df['n-protons'] + df['n-pions'] + df['n-kaons']).hist()\n",
    "fig = plt.figure(figsize=(8, 4))\n",
    "gs = plt.GridSpec(1, 2)\n",
    "\n",
    "ax = plt.subplot(gs[0])\n",
    "plt.hist(f['hadro_data']['n_hadmultmeas'][:, 0], np.arange(10))\n",
    "plt.ylabel('n_hadmultmeas')\n",
    "\n",
    "ax = plt.subplot(gs[1])\n",
    "plt.hist(f['hadro_data']['n_protons'][:, 0] + f['hadro_data']['n_chgdpions'][:, 0] + f['hadro_data']['n_chgdkaons'][:, 0], np.arange(10))\n",
    "plt.ylabel('n_sum')\n",
    "\n",
    "plt.tight_layout()"
   ]
  },
  {
   "cell_type": "code",
   "execution_count": 16,
   "metadata": {},
   "outputs": [],
   "source": [
    "n_evt = 200\n",
    "for i in range(n_evt):\n",
    "    n_p, n_cp, n_ck = f['hadro_data']['n_protons'][i, 0], \\\n",
    "        f['hadro_data']['n_chgdpions'][i, 0], \\\n",
    "        f['hadro_data']['n_chgdkaons'][i, 0]\n",
    "    n_hm = f['hadro_data']['n_hadmultmeas'][i, 0]\n",
    "    if n_p + n_cp + n_ck != n_hm:\n",
    "        print(decode_eventid(f['event_data']['eventids'][i, 0]), n_p + n_cp + n_ck, n_hm)"
   ]
  },
  {
   "cell_type": "code",
   "execution_count": 17,
   "metadata": {},
   "outputs": [
    {
     "data": {
      "image/png": "[encoded data removed]",
      "text/plain": [
       "<matplotlib.figure.Figure at 0x10eb20a10>"
      ]
     },
     "metadata": {},
     "output_type": "display_data"
    }
   ],
   "source": [
    "fig = plt.figure(figsize=(12,4))\n",
    "gs = plt.GridSpec(1, 3)\n",
    "\n",
    "ax = plt.subplot(gs[0])\n",
    "plt.hist(f['lepto_data']['n_electrons'][:, 0], np.arange(5))\n",
    "plt.ylabel('n_electrons')\n",
    "\n",
    "ax = plt.subplot(gs[1])\n",
    "plt.hist(f['lepto_data']['n_muons'][:, 0], np.arange(5))\n",
    "plt.ylabel('n_muons')\n",
    "\n",
    "ax = plt.subplot(gs[2])\n",
    "plt.hist(f['lepto_data']['n_taus'][:, 0], np.arange(5))\n",
    "plt.ylabel('n_taus')\n",
    "\n",
    "plt.tight_layout()"
   ]
  },
  {
   "cell_type": "code",
   "execution_count": 18,
   "metadata": {
    "collapsed": true
   },
   "outputs": [],
   "source": [
    "f.close()"
   ]
  },
  {
   "cell_type": "code",
   "execution_count": null,
   "metadata": {
    "collapsed": true
   },
   "outputs": [],
   "source": []
  }
 ],
 "metadata": {
  "kernelspec": {
   "display_name": "Python 2",
   "language": "python",
   "name": "python2"
  },
  "language_info": {
   "codemirror_mode": {
    "name": "ipython",
    "version": 2
   },
   "file_extension": ".py",
   "mimetype": "text/x-python",
   "name": "python",
   "nbconvert_exporter": "python",
   "pygments_lexer": "ipython2",
   "version": "2.7.13"
  }
 },
 "nbformat": 4,
 "nbformat_minor": 1
}
