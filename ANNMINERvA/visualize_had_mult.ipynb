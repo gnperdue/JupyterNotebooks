{
 "cells": [
  {
   "cell_type": "code",
   "execution_count": 1,
   "metadata": {
    "collapsed": true
   },
   "outputs": [],
   "source": [
    "import numpy as np\n",
    "import matplotlib.pyplot as plt\n",
    "import h5py\n",
    "%matplotlib inline"
   ]
  },
  {
   "cell_type": "code",
   "execution_count": 2,
   "metadata": {
    "collapsed": true
   },
   "outputs": [],
   "source": [
    "import pandas as pd\n",
    "from pandas import DataFrame"
   ]
  },
  {
   "cell_type": "code",
   "execution_count": 3,
   "metadata": {},
   "outputs": [
    {
     "name": "stdout",
     "output_type": "stream",
     "text": [
      "['', '/Users/perdue/miniconda2/envs/py2mnv_pda/lib/python27.zip', '/Users/perdue/miniconda2/envs/py2mnv_pda/lib/python2.7', '/Users/perdue/miniconda2/envs/py2mnv_pda/lib/python2.7/plat-darwin', '/Users/perdue/miniconda2/envs/py2mnv_pda/lib/python2.7/plat-mac', '/Users/perdue/miniconda2/envs/py2mnv_pda/lib/python2.7/plat-mac/lib-scriptpackages', '/Users/perdue/miniconda2/envs/py2mnv_pda/lib/python2.7/lib-tk', '/Users/perdue/miniconda2/envs/py2mnv_pda/lib/python2.7/lib-old', '/Users/perdue/miniconda2/envs/py2mnv_pda/lib/python2.7/lib-dynload', '/Users/perdue/miniconda2/envs/py2mnv_pda/lib/python2.7/site-packages', '/Users/perdue/miniconda2/envs/py2mnv_pda/lib/python2.7/site-packages/cycler-0.10.0-py2.7.egg', '/Users/perdue/miniconda2/envs/py2mnv_pda/lib/python2.7/site-packages/mccabe-0.6.1-py2.7.egg', '/Users/perdue/miniconda2/envs/py2mnv_pda/lib/python2.7/site-packages/IPython/extensions', '/Users/perdue/.ipython']\n"
     ]
    }
   ],
   "source": [
    "import sys\n",
    "print(sys.path)"
   ]
  },
  {
   "cell_type": "code",
   "execution_count": 4,
   "metadata": {
    "collapsed": true
   },
   "outputs": [],
   "source": [
    "sys.path.append('/Users/perdue/Documents/MINERvA/AI/ANNMINERvA')\n",
    "from evtid_utils import decode_eventid"
   ]
  },
  {
   "cell_type": "code",
   "execution_count": 5,
   "metadata": {},
   "outputs": [
    {
     "name": "stdout",
     "output_type": "stream",
     "text": [
      "event_data/eventids         -   uint64 (35, 1)\n",
      "event_data/eventids_a       -   uint32 (35, 1)\n",
      "event_data/eventids_b       -   uint32 (35, 1)\n",
      "event_data/planecodes       -   uint16 (35, 1)\n",
      "event_data/segments         -    uint8 (35, 1)\n",
      "event_data/zs               -  float32 (35, 1)\n",
      "  gen_data/Q2               -  float32 (35, 1)\n",
      "  gen_data/W                -  float32 (35, 1)\n",
      "  gen_data/current          -   uint32 (35, 1)\n",
      "  gen_data/int_type         -   uint32 (35, 1)\n",
      "  gen_data/targetZ          -   uint32 (35, 1)\n",
      "  gen_data/x                -  float32 (35, 1)\n",
      "  gen_data/y                -  float32 (35, 1)\n",
      "hadro_data/esum_chgdkaons   -  float32 (35, 1)\n",
      "hadro_data/esum_chgdpions   -  float32 (35, 1)\n",
      "hadro_data/esum_hadmultmeas -  float32 (35, 1)\n",
      "hadro_data/esum_neutpions   -  float32 (35, 1)\n",
      "hadro_data/esum_neutrons    -  float32 (35, 1)\n",
      "hadro_data/esum_others      -  float32 (35, 1)\n",
      "hadro_data/esum_protons     -  float32 (35, 1)\n",
      "hadro_data/n_chgdkaons      -   uint32 (35, 1)\n",
      "hadro_data/n_chgdpions      -   uint32 (35, 1)\n",
      "hadro_data/n_hadmultmeas    -   uint32 (35, 1)\n",
      "hadro_data/n_neutpions      -   uint32 (35, 1)\n",
      "hadro_data/n_neutrons       -   uint32 (35, 1)\n",
      "hadro_data/n_others         -   uint32 (35, 1)\n",
      "hadro_data/n_protons        -   uint32 (35, 1)\n",
      "  img_data/hitimes-u        -  float32 (35, 2, 127, 47)\n",
      "  img_data/hitimes-v        -  float32 (35, 2, 127, 47)\n",
      "  img_data/hitimes-x        -  float32 (35, 2, 127, 94)\n",
      "lepto_data/esum_electrons   -  float32 (35, 1)\n",
      "lepto_data/esum_muons       -  float32 (35, 1)\n",
      "lepto_data/esum_taus        -  float32 (35, 1)\n",
      "lepto_data/n_electrons      -   uint32 (35, 1)\n",
      "lepto_data/n_muons          -   uint32 (35, 1)\n",
      "lepto_data/n_taus           -   uint32 (35, 1)\n"
     ]
    }
   ],
   "source": [
    "DIR_PATH = '/Users/perdue/Documents/MINERvA/AI/hdf5/'\n",
    "f = h5py.File(DIR_PATH + 'hadmultkineimgs_127x94_me1Amc_tiny.hdf5', 'r')\n",
    "\n",
    "for group in f:\n",
    "    for dset in f[group]:\n",
    "        print '{:>10}/{:<16} - {:>8} {}'.format(group, dset, np.dtype(f[group][dset]), np.shape(f[group][dset]))"
   ]
  },
  {
   "cell_type": "code",
   "execution_count": 6,
   "metadata": {
    "collapsed": true
   },
   "outputs": [],
   "source": [
    "data = {'n-protons': f['hadro_data']['n_protons'][:,0],\n",
    "        'n-pions': f['hadro_data']['n_chgdpions'][:,0],\n",
    "        'n-kaons': f['hadro_data']['n_chgdkaons'][:,0],\n",
    "        'n-hadmultmeas': f['hadro_data']['n_hadmultmeas'][:,0]}\n",
    "df = DataFrame(data)"
   ]
  },
  {
   "cell_type": "code",
   "execution_count": 7,
   "metadata": {},
   "outputs": [
    {
     "name": "stdout",
     "output_type": "stream",
     "text": [
      "<class 'pandas.core.frame.DataFrame'>\n",
      "RangeIndex: 35 entries, 0 to 34\n",
      "Data columns (total 4 columns):\n",
      "n-hadmultmeas    35 non-null uint32\n",
      "n-kaons          35 non-null uint32\n",
      "n-pions          35 non-null uint32\n",
      "n-protons        35 non-null uint32\n",
      "dtypes: uint32(4)\n",
      "memory usage: 632.0 bytes\n"
     ]
    }
   ],
   "source": [
    "df.info()"
   ]
  },
  {
   "cell_type": "code",
   "execution_count": 8,
   "metadata": {},
   "outputs": [
    {
     "name": "stdout",
     "output_type": "stream",
     "text": [
      "0 7\n"
     ]
    }
   ],
   "source": [
    "min_h, max_h = np.min(df['n-hadmultmeas']), np.max(df['n-hadmultmeas'])\n",
    "print min_h, max_h"
   ]
  },
  {
   "cell_type": "code",
   "execution_count": 9,
   "metadata": {},
   "outputs": [
    {
     "data": {
      "text/plain": [
       "<matplotlib.axes._subplots.AxesSubplot at 0x10b434290>"
      ]
     },
     "execution_count": 9,
     "metadata": {},
     "output_type": "execute_result"
    },
    {
     "data": {
      "image/png": "[encoded data removed]",
      "text/plain": [
       "<matplotlib.figure.Figure at 0x10b426c50>"
      ]
     },
     "metadata": {},
     "output_type": "display_data"
    }
   ],
   "source": [
    "df['n-hadmultmeas'].hist(bins=100)"
   ]
  },
  {
   "cell_type": "code",
   "execution_count": 10,
   "metadata": {},
   "outputs": [
    {
     "data": {
      "image/png": "[encoded data removed]",
      "text/plain": [
       "<matplotlib.figure.Figure at 0x10b561f10>"
      ]
     },
     "metadata": {},
     "output_type": "display_data"
    }
   ],
   "source": [
    "fig = plt.figure(figsize=(4, 4))\n",
    "n, bins, patches = plt.hist(f['hadro_data']['n_hadmultmeas'][:,0], bins=np.arange(max_h))\n",
    "#fig.savefig('n-hadmultmeas_20160503.pdf')"
   ]
  },
  {
   "cell_type": "code",
   "execution_count": 11,
   "metadata": {},
   "outputs": [
    {
     "name": "stdout",
     "output_type": "stream",
     "text": [
      "n total = 33.0\n",
      "0 hadrons sum: 1.0\n",
      "1 hadrons sum: 9.0\n",
      "2 hadrons sum: 10.0\n",
      "3 hadrons sum: 4.0\n",
      "4 hadrons sum: 8.0\n",
      "5 hadrons sum: 1.0\n",
      "6+ hadrons sum: 0\n",
      "0 hadrons fraction: 0.030303030303\n",
      "1 hadrons fraction: 0.272727272727\n",
      "2 hadrons fraction: 0.30303030303\n",
      "3 hadrons fraction: 0.121212121212\n",
      "4 hadrons fraction: 0.242424242424\n",
      "5 hadrons fraction: 0.030303030303\n",
      "6+ hadrons fraction: 0.0\n"
     ]
    }
   ],
   "source": [
    "ntot = np.sum(n)\n",
    "print('n total = {}'.format(ntot))\n",
    "\n",
    "for i in range(6):\n",
    "    print('{} hadrons sum: {}'.format(i, n[i]))\n",
    "    \n",
    "print('6+ hadrons sum: {}'.format(sum(n[6:])))\n",
    "    \n",
    "for i in range(6):\n",
    "    print('{} hadrons fraction: {}'.format(i, n[i] / ntot))\n",
    "    \n",
    "print('6+ hadrons fraction: {}'.format(sum(n[6:]) / ntot))"
   ]
  },
  {
   "cell_type": "code",
   "execution_count": 12,
   "metadata": {},
   "outputs": [
    {
     "data": {
      "text/plain": [
       "Text(0,0.5,u'n_others')"
      ]
     },
     "execution_count": 12,
     "metadata": {},
     "output_type": "execute_result"
    },
    {
     "data": {
      "image/png": "[encoded data removed]",
      "text/plain": [
       "<matplotlib.figure.Figure at 0x10b826890>"
      ]
     },
     "metadata": {},
     "output_type": "display_data"
    }
   ],
   "source": [
    "fig = plt.figure(figsize=(12,4))\n",
    "gs = plt.GridSpec(2, 3)\n",
    "\n",
    "ax = plt.subplot(gs[0])\n",
    "plt.hist(f['hadro_data']['n_protons'][:, 0])\n",
    "plt.ylabel('n_protons')\n",
    "\n",
    "ax = plt.subplot(gs[1])\n",
    "plt.hist(f['hadro_data']['n_neutrons'][:, 0])\n",
    "plt.ylabel('n_neutrons')\n",
    "\n",
    "ax = plt.subplot(gs[2])\n",
    "plt.hist(f['hadro_data']['n_chgdpions'][:, 0])\n",
    "plt.ylabel('n_chgdpions')\n",
    "\n",
    "ax = plt.subplot(gs[3])\n",
    "plt.hist(f['hadro_data']['n_neutpions'][:, 0])\n",
    "plt.ylabel('n_neutpions')\n",
    "\n",
    "ax = plt.subplot(gs[4])\n",
    "plt.hist(f['hadro_data']['n_chgdkaons'][:, 0])\n",
    "plt.ylabel('n_chgdkaons')\n",
    "\n",
    "ax = plt.subplot(gs[5])\n",
    "plt.hist(f['hadro_data']['n_others'][:, 0])\n",
    "plt.ylabel('n_others')\n",
    "\n",
    "#plt.yscale('log')\n",
    "#fig.savefig('n20160503.pdf')"
   ]
  },
  {
   "cell_type": "code",
   "execution_count": 13,
   "metadata": {},
   "outputs": [
    {
     "data": {
      "text/plain": [
       "Text(0,0.5,u'n_sum')"
      ]
     },
     "execution_count": 13,
     "metadata": {},
     "output_type": "execute_result"
    },
    {
     "data": {
      "image/png": "[encoded data removed]",
      "text/plain": [
       "<matplotlib.figure.Figure at 0x10b81a6d0>"
      ]
     },
     "metadata": {},
     "output_type": "display_data"
    }
   ],
   "source": [
    "#(df['n-protons'] + df['n-pions'] + df['n-kaons']).hist()\n",
    "fig = plt.figure(figsize=(8, 4))\n",
    "gs = plt.GridSpec(1, 2)\n",
    "\n",
    "ax = plt.subplot(gs[0])\n",
    "plt.hist(f['hadro_data']['n_hadmultmeas'][:, 0], np.arange(10))\n",
    "plt.ylabel('n_hadmultmeas')\n",
    "\n",
    "ax = plt.subplot(gs[1])\n",
    "plt.hist(f['hadro_data']['n_protons'][:, 0] + f['hadro_data']['n_chgdpions'][:, 0] + f['hadro_data']['n_chgdkaons'][:, 0], np.arange(10))\n",
    "plt.ylabel('n_sum')"
   ]
  },
  {
   "cell_type": "code",
   "execution_count": 14,
   "metadata": {
    "collapsed": true
   },
   "outputs": [],
   "source": [
    "for i in range(35):\n",
    "    n_p, n_cp, n_ck = f['hadro_data']['n_protons'][i, 0], \\\n",
    "        f['hadro_data']['n_chgdpions'][i, 0], \\\n",
    "        f['hadro_data']['n_chgdkaons'][i, 0]\n",
    "    n_hm = f['hadro_data']['n_hadmultmeas'][i, 0]\n",
    "    if n_p + n_cp + n_ck != n_hm:\n",
    "        print(decode_eventid(f['event_data']['eventids'][i, 0]), n_p + n_cp + n_ck, n_hm)"
   ]
  },
  {
   "cell_type": "code",
   "execution_count": 15,
   "metadata": {},
   "outputs": [
    {
     "data": {
      "text/plain": [
       "Text(0,0.5,u'n_taus')"
      ]
     },
     "execution_count": 15,
     "metadata": {},
     "output_type": "execute_result"
    },
    {
     "data": {
      "image/png": "[encoded data removed]",
      "text/plain": [
       "<matplotlib.figure.Figure at 0x10bd3a750>"
      ]
     },
     "metadata": {},
     "output_type": "display_data"
    }
   ],
   "source": [
    "fig = plt.figure(figsize=(12,4))\n",
    "gs = plt.GridSpec(1, 3)\n",
    "\n",
    "ax = plt.subplot(gs[0])\n",
    "plt.hist(f['lepto_data']['n_electrons'][:, 0], np.arange(5))\n",
    "plt.ylabel('n_')\n",
    "\n",
    "ax = plt.subplot(gs[1])\n",
    "plt.hist(f['lepto_data']['n_muons'][:, 0], np.arange(5))\n",
    "plt.ylabel('n_muons')\n",
    "\n",
    "ax = plt.subplot(gs[2])\n",
    "plt.hist(f['lepto_data']['n_taus'][:, 0], np.arange(5))\n",
    "plt.ylabel('n_taus')"
   ]
  },
  {
   "cell_type": "code",
   "execution_count": 16,
   "metadata": {
    "collapsed": true
   },
   "outputs": [],
   "source": [
    "f.close()"
   ]
  },
  {
   "cell_type": "code",
   "execution_count": null,
   "metadata": {
    "collapsed": true
   },
   "outputs": [],
   "source": []
  }
 ],
 "metadata": {
  "kernelspec": {
   "display_name": "Python 2",
   "language": "python",
   "name": "python2"
  },
  "language_info": {
   "codemirror_mode": {
    "name": "ipython",
    "version": 2
   },
   "file_extension": ".py",
   "mimetype": "text/x-python",
   "name": "python",
   "nbconvert_exporter": "python",
   "pygments_lexer": "ipython2",
   "version": "2.7.13"
  }
 },
 "nbformat": 4,
 "nbformat_minor": 1
}
