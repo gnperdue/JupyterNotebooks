{
 "cells": [
  {
   "cell_type": "code",
   "execution_count": 1,
   "metadata": {
    "collapsed": true
   },
   "outputs": [],
   "source": [
    "import numpy as np\n",
    "import matplotlib.pyplot as plt\n",
    "import h5py\n",
    "%matplotlib inline"
   ]
  },
  {
   "cell_type": "code",
   "execution_count": 2,
   "metadata": {
    "collapsed": true
   },
   "outputs": [],
   "source": [
    "import pandas as pd\n",
    "from pandas import DataFrame"
   ]
  },
  {
   "cell_type": "code",
   "execution_count": 3,
   "metadata": {
    "collapsed": true
   },
   "outputs": [],
   "source": [
    "import sys\n",
    "sys.path.append('/Users/perdue/Documents/MINERvA/AI/ANNMINERvA')\n",
    "from evtid_utils import decode_eventid"
   ]
  },
  {
   "cell_type": "code",
   "execution_count": 4,
   "metadata": {},
   "outputs": [
    {
     "name": "stdout",
     "output_type": "stream",
     "text": [
      "event_data/eventids         -   uint64 (1765828, 1)\n",
      "event_data/eventids_a       -   uint32 (1765828, 1)\n",
      "event_data/eventids_b       -   uint32 (1765828, 1)\n",
      "  gen_data/Q2               -  float32 (1765828, 1)\n",
      "  gen_data/W                -  float32 (1765828, 1)\n",
      "  gen_data/current          -   uint32 (1765828, 1)\n",
      "  gen_data/int_type         -   uint32 (1765828, 1)\n",
      "  gen_data/targetZ          -   uint32 (1765828, 1)\n",
      "  gen_data/x                -  float32 (1765828, 1)\n",
      "  gen_data/y                -  float32 (1765828, 1)\n",
      "hadro_data/esum_chgdkaons   -  float32 (1765828, 1)\n",
      "hadro_data/esum_chgdpions   -  float32 (1765828, 1)\n",
      "hadro_data/esum_hadmultmeas -  float32 (1765828, 1)\n",
      "hadro_data/esum_neutpions   -  float32 (1765828, 1)\n",
      "hadro_data/esum_neutrons    -  float32 (1765828, 1)\n",
      "hadro_data/esum_others      -  float32 (1765828, 1)\n",
      "hadro_data/esum_protons     -  float32 (1765828, 1)\n",
      "hadro_data/n_chgdkaons      -   uint32 (1765828, 1)\n",
      "hadro_data/n_chgdpions      -   uint32 (1765828, 1)\n",
      "hadro_data/n_hadmultmeas    -   uint32 (1765828, 1)\n",
      "hadro_data/n_neutpions      -   uint32 (1765828, 1)\n",
      "hadro_data/n_neutrons       -   uint32 (1765828, 1)\n",
      "hadro_data/n_others         -   uint32 (1765828, 1)\n",
      "hadro_data/n_protons        -   uint32 (1765828, 1)\n",
      "  img_data/hitimes-u        -  float32 (1765828, 2, 127, 47)\n",
      "  img_data/hitimes-v        -  float32 (1765828, 2, 127, 47)\n",
      "  img_data/hitimes-x        -  float32 (1765828, 2, 127, 94)\n",
      "lepto_data/esum_electrons   -  float32 (1765828, 1)\n",
      "lepto_data/esum_muons       -  float32 (1765828, 1)\n",
      "lepto_data/esum_taus        -  float32 (1765828, 1)\n",
      "lepto_data/n_electrons      -   uint32 (1765828, 1)\n",
      "lepto_data/n_muons          -   uint32 (1765828, 1)\n",
      "lepto_data/n_taus           -   uint32 (1765828, 1)\n",
      "  vtx_data/planecodes       -   uint16 (1765828, 1)\n",
      "  vtx_data/segments         -    uint8 (1765828, 1)\n",
      "  vtx_data/zs               -  float32 (1765828, 1)\n"
     ]
    }
   ],
   "source": [
    "DIR_PATH = '/Users/perdue/Documents/MINERvA/AI/hdf5/201801/'\n",
    "f = h5py.File(DIR_PATH + 'hadmultkineimgs_127x94_me1Amc.hdf5', 'r')\n",
    "#f = h5py.File(DIR_PATH + 'mnvimgs_127x94_me1Amc_tiny.hdf5', 'r')\n",
    "\n",
    "for group in f:\n",
    "    for dset in f[group]:\n",
    "        print '{:>10}/{:<16} - {:>8} {}'.format(group, dset, np.dtype(f[group][dset]), np.shape(f[group][dset]))"
   ]
  },
  {
   "cell_type": "code",
   "execution_count": 5,
   "metadata": {
    "collapsed": true
   },
   "outputs": [],
   "source": [
    "data = {'n-protons': f['hadro_data']['n_protons'][:,0],\n",
    "        'n-pions': f['hadro_data']['n_chgdpions'][:,0],\n",
    "        'n-kaons': f['hadro_data']['n_chgdkaons'][:,0],\n",
    "        'n-hadmultmeas': f['hadro_data']['n_hadmultmeas'][:,0]}\n",
    "df = DataFrame(data)"
   ]
  },
  {
   "cell_type": "code",
   "execution_count": 6,
   "metadata": {},
   "outputs": [
    {
     "name": "stdout",
     "output_type": "stream",
     "text": [
      "<class 'pandas.core.frame.DataFrame'>\n",
      "RangeIndex: 1765828 entries, 0 to 1765827\n",
      "Data columns (total 4 columns):\n",
      "n-hadmultmeas    uint32\n",
      "n-kaons          uint32\n",
      "n-pions          uint32\n",
      "n-protons        uint32\n",
      "dtypes: uint32(4)\n",
      "memory usage: 26.9 MB\n"
     ]
    }
   ],
   "source": [
    "df.info()"
   ]
  },
  {
   "cell_type": "code",
   "execution_count": 7,
   "metadata": {},
   "outputs": [
    {
     "name": "stdout",
     "output_type": "stream",
     "text": [
      "0 20\n"
     ]
    }
   ],
   "source": [
    "min_h, max_h = np.min(df['n-hadmultmeas']), np.max(df['n-hadmultmeas'])\n",
    "print min_h, max_h"
   ]
  },
  {
   "cell_type": "code",
   "execution_count": 8,
   "metadata": {},
   "outputs": [
    {
     "data": {
      "text/plain": [
       "<matplotlib.axes._subplots.AxesSubplot at 0x11454e290>"
      ]
     },
     "execution_count": 8,
     "metadata": {},
     "output_type": "execute_result"
    },
    {
     "data": {
      "image/png": "[encoded data removed]",
      "text/plain": [
       "<matplotlib.figure.Figure at 0x112fd1990>"
      ]
     },
     "metadata": {},
     "output_type": "display_data"
    }
   ],
   "source": [
    "df['n-hadmultmeas'].hist(bins=100)"
   ]
  },
  {
   "cell_type": "code",
   "execution_count": 9,
   "metadata": {},
   "outputs": [
    {
     "data": {
      "image/png": "[encoded data removed]",
      "text/plain": [
       "<matplotlib.figure.Figure at 0x11848f1d0>"
      ]
     },
     "metadata": {},
     "output_type": "display_data"
    }
   ],
   "source": [
    "fig = plt.figure(figsize=(4, 4))\n",
    "n, bins, patches = plt.hist(f['hadro_data']['n_hadmultmeas'][:,0], bins=np.arange(max_h + 2))\n",
    "#fig.savefig('n-hadmultmeas_20160503.pdf')"
   ]
  },
  {
   "cell_type": "code",
   "execution_count": 10,
   "metadata": {},
   "outputs": [
    {
     "name": "stdout",
     "output_type": "stream",
     "text": [
      "[  1.74280000e+05   6.58660000e+05   4.64609000e+05   2.22214000e+05\n",
      "   1.26226000e+05   6.21480000e+04   3.17160000e+04   1.40510000e+04\n",
      "   6.63700000e+03   2.88000000e+03   1.30900000e+03   5.63000000e+02\n",
      "   2.61000000e+02   1.59000000e+02   6.50000000e+01   3.10000000e+01\n",
      "   1.00000000e+01   6.00000000e+00   2.00000000e+00   0.00000000e+00\n",
      "   1.00000000e+00]\n",
      "21\n"
     ]
    }
   ],
   "source": [
    "print(n)\n",
    "print(len(n))"
   ]
  },
  {
   "cell_type": "code",
   "execution_count": 11,
   "metadata": {},
   "outputs": [
    {
     "name": "stdout",
     "output_type": "stream",
     "text": [
      "[ 0  1  2  3  4  5  6  7  8  9 10 11 12 13 14 15 16 17 18 19 20 21]\n"
     ]
    }
   ],
   "source": [
    "print(bins)"
   ]
  },
  {
   "cell_type": "code",
   "execution_count": 18,
   "metadata": {
    "scrolled": false
   },
   "outputs": [
    {
     "name": "stdout",
     "output_type": "stream",
     "text": [
      "-----------------------------------------\n",
      "n total = 1765828.0\n",
      "-----------------------------------------\n",
      "0 hadrons sum: 174280.0\n",
      "1 hadrons sum: 658660.0\n",
      "2 hadrons sum: 464609.0\n",
      "3 hadrons sum: 222214.0\n",
      "4 hadrons sum: 126226.0\n",
      "5 hadrons sum: 62148.0\n",
      "6 hadrons sum: 31716.0\n",
      "7 hadrons sum: 14051.0\n",
      "8 hadrons sum: 6637.0\n",
      "9 hadrons sum: 2880.0\n",
      "10 hadrons sum: 1309.0\n",
      "11 hadrons sum: 563.0\n",
      "12 hadrons sum: 261.0\n",
      "13 hadrons sum: 159.0\n",
      "14 hadrons sum: 65.0\n",
      "15 hadrons sum: 31.0\n",
      "16 hadrons sum: 10.0\n",
      "17 hadrons sum: 6.0\n",
      "18 hadrons sum: 2.0\n",
      "19 hadrons sum: 0.0\n",
      "20 hadrons sum: 1.0\n",
      "4+ hadrons sum: 246065.0\n",
      "-----------------------------------------\n",
      "0 hadrons fraction: 0.0986959092279\n",
      "1 hadrons fraction: 0.373003486183\n",
      "2 hadrons fraction: 0.263111129736\n",
      "3 hadrons fraction: 0.125841248412\n",
      "4 hadrons fraction: 0.0714826132557\n",
      "5 hadrons fraction: 0.0351948207866\n",
      "6 hadrons fraction: 0.017960979212\n",
      "7 hadrons fraction: 0.00795717363186\n",
      "8 hadrons fraction: 0.00375857671302\n",
      "9 hadrons fraction: 0.00163096292504\n",
      "10 hadrons fraction: 0.000741295301694\n",
      "11 hadrons fraction: 0.000318830599583\n",
      "12 hadrons fraction: 0.000147806015082\n",
      "13 hadrons fraction: 9.004274482e-05\n",
      "14 hadrons fraction: 3.68099271277e-05\n",
      "15 hadrons fraction: 1.7555503707e-05\n",
      "16 hadrons fraction: 5.66306571195e-06\n",
      "17 hadrons fraction: 3.39783942717e-06\n",
      "18 hadrons fraction: 1.13261314239e-06\n",
      "19 hadrons fraction: 0.0\n",
      "20 hadrons fraction: 5.66306571195e-07\n",
      "-----------------------------------------\n",
      "0 hadrons fraction: 0.0986959092279\n",
      "1 hadrons fraction: 0.373003486183\n",
      "2 hadrons fraction: 0.263111129736\n",
      "3 hadrons fraction: 0.125841248412\n",
      "4+ hadrons fraction: 0.139348226441\n"
     ]
    }
   ],
   "source": [
    "over_flow_cand = 4\n",
    "ntot = np.sum(n)\n",
    "\n",
    "print('-----------------------------------------')\n",
    "print('n total = {}'.format(ntot))\n",
    "\n",
    "print('-----------------------------------------')\n",
    "for i in range(max_h + 1):\n",
    "    print('{} hadrons sum: {}'.format(i, n[i]))\n",
    "    \n",
    "print('{}+ hadrons sum: {}'.format(over_flow_cand, sum(n[over_flow_cand:])))\n",
    "    \n",
    "print('-----------------------------------------')\n",
    "for i in range(max_h + 1):\n",
    "    print('{} hadrons fraction: {}'.format(i, n[i] / ntot))\n",
    "    \n",
    "print('-----------------------------------------')\n",
    "for i in range(over_flow_cand):\n",
    "    print('{} hadrons fraction: {}'.format(i, n[i] / ntot))\n",
    "print('{}+ hadrons fraction: {}'.format(over_flow_cand, sum(n[over_flow_cand:]) / ntot))"
   ]
  },
  {
   "cell_type": "code",
   "execution_count": 13,
   "metadata": {},
   "outputs": [
    {
     "data": {
      "image/png": "[encoded data removed]",
      "text/plain": [
       "<matplotlib.figure.Figure at 0x1189226d0>"
      ]
     },
     "metadata": {},
     "output_type": "display_data"
    }
   ],
   "source": [
    "fig = plt.figure(figsize=(12,4))\n",
    "gs = plt.GridSpec(2, 3)\n",
    "\n",
    "ax = plt.subplot(gs[0])\n",
    "plt.hist(f['hadro_data']['n_protons'][:, 0])\n",
    "plt.ylabel('n_protons')\n",
    "\n",
    "ax = plt.subplot(gs[1])\n",
    "plt.hist(f['hadro_data']['n_neutrons'][:, 0])\n",
    "plt.ylabel('n_neutrons')\n",
    "\n",
    "ax = plt.subplot(gs[2])\n",
    "plt.hist(f['hadro_data']['n_chgdpions'][:, 0])\n",
    "plt.ylabel('n_chgdpions')\n",
    "\n",
    "ax = plt.subplot(gs[3])\n",
    "plt.hist(f['hadro_data']['n_neutpions'][:, 0])\n",
    "plt.ylabel('n_neutpions')\n",
    "\n",
    "ax = plt.subplot(gs[4])\n",
    "plt.hist(f['hadro_data']['n_chgdkaons'][:, 0])\n",
    "plt.ylabel('n_chgdkaons')\n",
    "\n",
    "ax = plt.subplot(gs[5])\n",
    "plt.hist(f['hadro_data']['n_others'][:, 0])\n",
    "plt.ylabel('n_others')\n",
    "\n",
    "plt.tight_layout()\n",
    "\n",
    "#plt.yscale('log')\n",
    "#fig.savefig('n20160503.pdf')"
   ]
  },
  {
   "cell_type": "code",
   "execution_count": 14,
   "metadata": {},
   "outputs": [
    {
     "data": {
      "image/png": "[encoded data removed]",
      "text/plain": [
       "<matplotlib.figure.Figure at 0x11895b290>"
      ]
     },
     "metadata": {},
     "output_type": "display_data"
    }
   ],
   "source": [
    "#(df['n-protons'] + df['n-pions'] + df['n-kaons']).hist()\n",
    "fig = plt.figure(figsize=(8, 4))\n",
    "gs = plt.GridSpec(1, 2)\n",
    "\n",
    "ax = plt.subplot(gs[0])\n",
    "plt.hist(f['hadro_data']['n_hadmultmeas'][:, 0], np.arange(10))\n",
    "plt.ylabel('n_hadmultmeas')\n",
    "\n",
    "ax = plt.subplot(gs[1])\n",
    "plt.hist(f['hadro_data']['n_protons'][:, 0] + f['hadro_data']['n_chgdpions'][:, 0] + f['hadro_data']['n_chgdkaons'][:, 0], np.arange(10))\n",
    "plt.ylabel('n_sum')\n",
    "\n",
    "plt.tight_layout()"
   ]
  },
  {
   "cell_type": "code",
   "execution_count": 15,
   "metadata": {
    "collapsed": true
   },
   "outputs": [],
   "source": [
    "n_evt = 500\n",
    "for i in range(n_evt):\n",
    "    n_p, n_cp, n_ck = f['hadro_data']['n_protons'][i, 0], \\\n",
    "        f['hadro_data']['n_chgdpions'][i, 0], \\\n",
    "        f['hadro_data']['n_chgdkaons'][i, 0]\n",
    "    n_hm = f['hadro_data']['n_hadmultmeas'][i, 0]\n",
    "    if n_p + n_cp + n_ck != n_hm:\n",
    "        print(decode_eventid(f['event_data']['eventids'][i, 0]), n_p + n_cp + n_ck, n_hm)"
   ]
  },
  {
   "cell_type": "code",
   "execution_count": 16,
   "metadata": {},
   "outputs": [
    {
     "data": {
      "image/png": "[encoded data removed]",
      "text/plain": [
       "<matplotlib.figure.Figure at 0x118f103d0>"
      ]
     },
     "metadata": {},
     "output_type": "display_data"
    }
   ],
   "source": [
    "fig = plt.figure(figsize=(12,4))\n",
    "gs = plt.GridSpec(1, 3)\n",
    "\n",
    "ax = plt.subplot(gs[0])\n",
    "plt.hist(f['lepto_data']['n_electrons'][:, 0], np.arange(5))\n",
    "plt.ylabel('n_electrons')\n",
    "\n",
    "ax = plt.subplot(gs[1])\n",
    "plt.hist(f['lepto_data']['n_muons'][:, 0], np.arange(5))\n",
    "plt.ylabel('n_muons')\n",
    "\n",
    "ax = plt.subplot(gs[2])\n",
    "plt.hist(f['lepto_data']['n_taus'][:, 0], np.arange(5))\n",
    "plt.ylabel('n_taus')\n",
    "\n",
    "plt.tight_layout()"
   ]
  },
  {
   "cell_type": "code",
   "execution_count": 17,
   "metadata": {
    "collapsed": true
   },
   "outputs": [],
   "source": [
    "f.close()"
   ]
  },
  {
   "cell_type": "code",
   "execution_count": null,
   "metadata": {
    "collapsed": true
   },
   "outputs": [],
   "source": []
  }
 ],
 "metadata": {
  "kernelspec": {
   "display_name": "Python 2",
   "language": "python",
   "name": "python2"
  },
  "language_info": {
   "codemirror_mode": {
    "name": "ipython",
    "version": 2
   },
   "file_extension": ".py",
   "mimetype": "text/x-python",
   "name": "python",
   "nbconvert_exporter": "python",
   "pygments_lexer": "ipython2",
   "version": "2.7.13"
  }
 },
 "nbformat": 4,
 "nbformat_minor": 1
}
